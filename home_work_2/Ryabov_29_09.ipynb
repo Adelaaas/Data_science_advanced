{
 "cells": [
  {
   "cell_type": "code",
   "execution_count": 11,
   "metadata": {},
   "outputs": [],
   "source": [
    "import math"
   ]
  },
  {
   "cell_type": "markdown",
   "metadata": {},
   "source": [
    "Задание 1"
   ]
  },
  {
   "cell_type": "code",
   "execution_count": 20,
   "metadata": {},
   "outputs": [
    {
     "name": "stdout",
     "output_type": "stream",
     "text": [
      "a b a. a v c. c\n",
      "{'a': 0.17377076061778474, 'b': 0.15694461266687282, 'v': 0.15694461266687282, 'c': 0.11584717374518982}\n"
     ]
    }
   ],
   "source": [
    "def idf_tf(s):\n",
    "    text = []\n",
    "    tf = {}\n",
    "    idf = {}\n",
    "    words=0\n",
    "    ans={}\n",
    "    for i in s.split(\".\"):\n",
    "        fl=0\n",
    "        text.append([])\n",
    "        for j in i.split():\n",
    "            if j in tf.keys():\n",
    "                tf[j] += 1\n",
    "                if fl == 0:\n",
    "                    idf[j]+=1\n",
    "                    fl=1\n",
    "            else:\n",
    "                tf[j] = 1\n",
    "                idf[j] = 1\n",
    "                fl = 1\n",
    "            text[-1].append(j)\n",
    "            words+=1\n",
    "    for i in idf.keys():\n",
    "        tf[i] = tf[i] / words\n",
    "        idf[i] = math.log(len(text)/idf[i])\n",
    "        ans[i] = tf[i]*idf[i]\n",
    "    return ans\n",
    "\n",
    "\n",
    "print(idf_tf(input()))"
   ]
  },
  {
   "cell_type": "markdown",
   "metadata": {},
   "source": [
    "Задание 2"
   ]
  },
  {
   "cell_type": "code",
   "execution_count": 31,
   "metadata": {},
   "outputs": [
    {
     "name": "stdout",
     "output_type": "stream",
     "text": [
      "Днем мама\n",
      "3\n",
      "s\n",
      "Днем мама\n",
      "3\n",
      "s\n",
      "[['Д', 'н', 'е'], ['н', 'е', 'м'], ['е', 'м', ' '], ['м', ' ', 'м'], [' ', 'м', 'а'], ['м', 'а', 'м'], ['а', 'м', 'а']]\n"
     ]
    }
   ],
   "source": [
    "def n_gramm(string, n, fl):\n",
    "    ans=[]\n",
    "    if fl==\"w\":\n",
    "        string = string.split()\n",
    "        for i in range(len(string)-n+1):\n",
    "            tmp = []\n",
    "            for j in range(n):\n",
    "                tmp.append(string[i+j])\n",
    "            ans.append(tmp)\n",
    "    elif fl=='s':\n",
    "        for i in range(len(string)-n+1):\n",
    "            tmp = []\n",
    "            for j in range(n):\n",
    "                tmp.append(string[i+j])\n",
    "            ans.append(tmp)\n",
    "    return ans\n",
    "\n",
    "\n",
    "s = input()\n",
    "n = int(input())\n",
    "fl = input()\n",
    "print(n_gramm(s, n, fl))"
   ]
  },
  {
   "cell_type": "code",
   "execution_count": null,
   "metadata": {},
   "outputs": [],
   "source": []
  },
  {
   "cell_type": "code",
   "execution_count": null,
   "metadata": {},
   "outputs": [],
   "source": []
  }
 ],
 "metadata": {
  "kernelspec": {
   "display_name": "Python 3",
   "language": "python",
   "name": "python3"
  },
  "language_info": {
   "codemirror_mode": {
    "name": "ipython",
    "version": 3
   },
   "file_extension": ".py",
   "mimetype": "text/x-python",
   "name": "python",
   "nbconvert_exporter": "python",
   "pygments_lexer": "ipython3",
   "version": "3.8.3"
  }
 },
 "nbformat": 4,
 "nbformat_minor": 4
}
