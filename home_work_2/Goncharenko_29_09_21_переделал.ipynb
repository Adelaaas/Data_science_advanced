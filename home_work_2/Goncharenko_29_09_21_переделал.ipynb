{
  "nbformat": 4,
  "nbformat_minor": 0,
  "metadata": {
    "colab": {
      "name": "Goncharenko 29.09.21 .ipynb",
      "provenance": [],
      "collapsed_sections": []
    },
    "kernelspec": {
      "name": "python3",
      "display_name": "Python 3"
    },
    "language_info": {
      "name": "python"
    }
  },
  "cells": [
    {
      "cell_type": "markdown",
      "metadata": {
        "id": "OBjcrv3tjlXV"
      },
      "source": [
        "Задача 1"
      ]
    },
    {
      "cell_type": "code",
      "metadata": {
        "colab": {
          "base_uri": "https://localhost:8080/"
        },
        "id": "JcpCBNBejn7m",
        "outputId": "90a2a116-4778-4ec4-ed49-751b7bcbd94a"
      },
      "source": [
        "import math\n",
        "\n",
        "w = input() # ввод строки\n",
        "w = w.replace(\",\", \"\")\n",
        "w = w.replace(\".\", \"\")\n",
        "c=len(w.split(' '))\n",
        "w=w.split()\n",
        "print(c, \"слов в тексте\")\n",
        "\n",
        "all_words=[]\n",
        "\n",
        "\n",
        "def TF(w):\n",
        "  for i in w:\n",
        "    if i not in all_words:\n",
        "      all_words.append(i)\n",
        "  for i in range(0, len(all_words)):\n",
        "    #TF=w.count(w[i])/c\n",
        "    print(all_words[i], '----', w.count(w[i]), \"встреч\")\n",
        "TF(w)"
      ],
      "execution_count": 58,
      "outputs": [
        {
          "output_type": "stream",
          "name": "stdout",
          "text": [
            "наконец, я дописал этот номер и могу пойти спать наконец, я дописал этот номер и могу пойти спать наконец, я дописал этот номер и \n",
            "25 слов в тексте\n",
            "наконец ---- 3 встреч\n",
            "я ---- 3 встреч\n",
            "дописал ---- 3 встреч\n",
            "этот ---- 3 встреч\n",
            "номер ---- 3 встреч\n",
            "и ---- 3 встреч\n",
            "могу ---- 2 встреч\n",
            "пойти ---- 2 встреч\n",
            "спать ---- 2 встреч\n"
          ]
        }
      ]
    },
    {
      "cell_type": "markdown",
      "metadata": {
        "id": "u67jiWVBjohM"
      },
      "source": [
        "Задача 2"
      ]
    },
    {
      "cell_type": "code",
      "metadata": {
        "colab": {
          "base_uri": "https://localhost:8080/"
        },
        "id": "PhTic3QLjpn_",
        "outputId": "3b563b8a-d352-4277-af33-0b58231ca640"
      },
      "source": [
        "w = input().split() # ввод строки с разбиением \n",
        "N = int(input()) # по сколько делить\n",
        "\n",
        "def ngr(w, N):\n",
        "  Ngram = []\n",
        "  for i in range(len(w) - N + 1):\n",
        "    Ngram.append(w[i: i+N])\n",
        "  return Ngram\n",
        "print(ngr(w, N))"
      ],
      "execution_count": 1,
      "outputs": [
        {
          "output_type": "stream",
          "name": "stdout",
          "text": [
            "наконец, я дописал этот номер и могу пойти спать\n",
            "3\n",
            "[['наконец,', 'я', 'дописал'], ['я', 'дописал', 'этот'], ['дописал', 'этот', 'номер'], ['этот', 'номер', 'и'], ['номер', 'и', 'могу'], ['и', 'могу', 'пойти'], ['могу', 'пойти', 'спать']]\n"
          ]
        }
      ]
    }
  ]
}