{
  "nbformat": 4,
  "nbformat_minor": 0,
  "metadata": {
    "colab": {
      "name": "Петров_Дз_2.ipynb",
      "provenance": [],
      "collapsed_sections": []
    },
    "kernelspec": {
      "name": "python3",
      "display_name": "Python 3"
    }
  },
  "cells": [
    {
      "cell_type": "markdown",
      "metadata": {
        "id": "p7izqIP0me_9"
      },
      "source": [
        "N-граммы"
      ]
    },
    {
      "cell_type": "code",
      "metadata": {
        "colab": {
          "base_uri": "https://localhost:8080/"
        },
        "id": "IrjCdiqtmg-d",
        "outputId": "5bccc166-faa9-4765-bae7-97b184acbd78"
      },
      "source": [
        "word = input().split()\n",
        "a = int(input())\n",
        "\n",
        "ngram = []  \n",
        "for i in range(len(word)- a + 1):\n",
        "  ngram.append(word[i:i + a])\n",
        "print(ngram)"
      ],
      "execution_count": 8,
      "outputs": [
        {
          "output_type": "stream",
          "name": "stdout",
          "text": [
            "Сколько же времени я потратил на этот маленький кусок кода\n",
            "3\n",
            "[['Сколько', 'же', 'времени'], ['же', 'времени', 'я'], ['времени', 'я', 'потратил'], ['я', 'потратил', 'на'], ['потратил', 'на', 'этот'], ['на', 'этот', 'маленький'], ['этот', 'маленький', 'кусок'], ['маленький', 'кусок', 'кода']]\n"
          ]
        }
      ]
    },
    {
      "cell_type": "markdown",
      "metadata": {
        "id": "MoSydSLqnUS9"
      },
      "source": [
        "Tf-idf"
      ]
    },
    {
      "cell_type": "code",
      "metadata": {
        "colab": {
          "base_uri": "https://localhost:8080/"
        },
        "id": "29GEFd13nY0m",
        "outputId": "f3a9740f-f59a-4021-e685-cf575dbd401c"
      },
      "source": [
        "word = input()\n",
        "k = word.split()\n",
        "a = []\n",
        "a = [e for e in k if e not in a]\n",
        "b = []\n",
        "for e in a:\n",
        "    if ',' not in e:\n",
        "        b.append(e)\n",
        "    else:\n",
        "        b.append(e[:-1])\n",
        "a = b\n",
        "for i in range(0, len(a)):\n",
        "  print(f'{a[i]} - {a.count(word[i])}')    "
      ],
      "execution_count": 9,
      "outputs": [
        {
          "output_type": "stream",
          "name": "stdout",
          "text": [
            "Вы даже не предсавляете\n",
            "Вы - 0\n",
            "даже - 0\n",
            "не - 0\n",
            "предсавляете - 0\n"
          ]
        }
      ]
    }
  ]
}