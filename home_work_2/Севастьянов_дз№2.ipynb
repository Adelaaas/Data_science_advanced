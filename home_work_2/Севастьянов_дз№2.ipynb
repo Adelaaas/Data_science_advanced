{
  "nbformat": 4,
  "nbformat_minor": 0,
  "metadata": {
    "colab": {
      "name": "Untitled23.ipynb",
      "provenance": []
    },
    "kernelspec": {
      "name": "python3",
      "display_name": "Python 3"
    },
    "language_info": {
      "name": "python"
    }
  },
  "cells": [
    {
      "cell_type": "markdown",
      "metadata": {
        "id": "qQrzfmxkHHF_"
      },
      "source": [
        "Севастьянов, дз №2 "
      ]
    },
    {
      "cell_type": "code",
      "metadata": {
        "id": "ZbS9BM4G4r9Y",
        "colab": {
          "base_uri": "https://localhost:8080/"
        },
        "outputId": "167fb22a-662f-4f0f-d216-cab827c56730"
      },
      "source": [
        "import re\n",
        "\n",
        "def f(s):\n",
        "    s = s.split()         \n",
        "    str2 = []\n",
        "    for i in s:             \n",
        "        if i not in str2:\n",
        "            str2.append(i) \n",
        "              \n",
        "    for i in range(0, len(str2)):\n",
        "        print('\"', str2[i], '\"' ' встречается', s.count(str2[i]), 'раз')    \n",
        "  \n",
        "s =input()\n",
        "#для русскоязычного текста это:\n",
        "s=re.sub('[^а-я]', ' ', s)\n",
        "#для англоязычного текста нужно раскоментировать строку снизу, и закоментировать строку сверху\n",
        "#re.sub('[^a-z]', ' ', s)\n",
        "f(s)                    \n",
        "  \n",
        "         "
      ],
      "execution_count": 34,
      "outputs": [
        {
          "output_type": "stream",
          "name": "stdout",
          "text": [
            "мама мыла раму. потом мы пошли гулять!\n",
            "\" мама \" встречается 1 раз\n",
            "\" мыла \" встречается 1 раз\n",
            "\" раму \" встречается 1 раз\n",
            "\" потом \" встречается 1 раз\n",
            "\" мы \" встречается 1 раз\n",
            "\" пошли \" встречается 1 раз\n",
            "\" гулять \" встречается 1 раз\n"
          ]
        }
      ]
    },
    {
      "cell_type": "code",
      "metadata": {
        "colab": {
          "base_uri": "https://localhost:8080/"
        },
        "id": "c4m-7MaMFURi",
        "outputId": "01217151-bf07-4fad-bf8d-29d8faa215bd"
      },
      "source": [
        "def ngrams(text, n):\n",
        "     words = text.split()\n",
        "     ngram = []  \n",
        "     for i in range(len(words)- n +1):\n",
        "         ngram.append(words[i:i+n])\n",
        "     return ngram\n",
        "\n",
        "print(\"Ведите строку\")\n",
        "s=input()\n",
        "print(\"Ведите число n\")\n",
        "n=input()\n",
        "n=int(n)\n",
        "ngrams(s, n)"
      ],
      "execution_count": 32,
      "outputs": [
        {
          "name": "stdout",
          "output_type": "stream",
          "text": [
            "Ведите строку\n",
            "мама мыла раму\n",
            "Ведите число n\n",
            "2\n"
          ]
        },
        {
          "output_type": "execute_result",
          "data": {
            "text/plain": [
              "[['мама', 'мыла'], ['мыла', 'раму']]"
            ]
          },
          "metadata": {},
          "execution_count": 32
        }
      ]
    }
  ]
}