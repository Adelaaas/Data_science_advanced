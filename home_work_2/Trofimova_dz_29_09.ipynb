{
  "nbformat": 4,
  "nbformat_minor": 0,
  "metadata": {
    "colab": {
      "name": "Untitled3.ipynb",
      "provenance": []
    },
    "kernelspec": {
      "name": "python3",
      "display_name": "Python 3"
    },
    "language_info": {
      "name": "python"
    },
    "widgets": {
      "application/vnd.jupyter.widget-state+json": {
        "278e2ddec3444d21a6ec350e143b08a6": {
          "model_module": "@jupyter-widgets/controls",
          "model_name": "HBoxModel",
          "model_module_version": "1.5.0",
          "state": {
            "_view_name": "HBoxView",
            "_dom_classes": [],
            "_model_name": "HBoxModel",
            "_view_module": "@jupyter-widgets/controls",
            "_model_module_version": "1.5.0",
            "_view_count": null,
            "_view_module_version": "1.5.0",
            "box_style": "",
            "layout": "IPY_MODEL_2385d6bc9aa446a7ac3bcece73fc86b2",
            "_model_module": "@jupyter-widgets/controls",
            "children": [
              "IPY_MODEL_a348dd84a73240e18d1b745b536eda29",
              "IPY_MODEL_3cf85f398bd1436fbd739018ca523179",
              "IPY_MODEL_5f1f744d68c14a1f8a6cb92f35161ab7"
            ]
          }
        },
        "2385d6bc9aa446a7ac3bcece73fc86b2": {
          "model_module": "@jupyter-widgets/base",
          "model_name": "LayoutModel",
          "model_module_version": "1.2.0",
          "state": {
            "_view_name": "LayoutView",
            "grid_template_rows": null,
            "right": null,
            "justify_content": null,
            "_view_module": "@jupyter-widgets/base",
            "overflow": null,
            "_model_module_version": "1.2.0",
            "_view_count": null,
            "flex_flow": null,
            "width": null,
            "min_width": null,
            "border": null,
            "align_items": null,
            "bottom": null,
            "_model_module": "@jupyter-widgets/base",
            "top": null,
            "grid_column": null,
            "overflow_y": null,
            "overflow_x": null,
            "grid_auto_flow": null,
            "grid_area": null,
            "grid_template_columns": null,
            "flex": null,
            "_model_name": "LayoutModel",
            "justify_items": null,
            "grid_row": null,
            "max_height": null,
            "align_content": null,
            "visibility": null,
            "align_self": null,
            "height": null,
            "min_height": null,
            "padding": null,
            "grid_auto_rows": null,
            "grid_gap": null,
            "max_width": null,
            "order": null,
            "_view_module_version": "1.2.0",
            "grid_template_areas": null,
            "object_position": null,
            "object_fit": null,
            "grid_auto_columns": null,
            "margin": null,
            "display": null,
            "left": null
          }
        },
        "a348dd84a73240e18d1b745b536eda29": {
          "model_module": "@jupyter-widgets/controls",
          "model_name": "HTMLModel",
          "model_module_version": "1.5.0",
          "state": {
            "_view_name": "HTMLView",
            "style": "IPY_MODEL_d86a4854b81549deafdfb6b5dea36741",
            "_dom_classes": [],
            "description": "",
            "_model_name": "HTMLModel",
            "placeholder": "​",
            "_view_module": "@jupyter-widgets/controls",
            "_model_module_version": "1.5.0",
            "value": "Downloading https://raw.githubusercontent.com/stanfordnlp/stanza-resources/main/resources_1.2.2.json: ",
            "_view_count": null,
            "_view_module_version": "1.5.0",
            "description_tooltip": null,
            "_model_module": "@jupyter-widgets/controls",
            "layout": "IPY_MODEL_e7d61e165f1a4a37afa5cfb8c0a400b4"
          }
        },
        "3cf85f398bd1436fbd739018ca523179": {
          "model_module": "@jupyter-widgets/controls",
          "model_name": "FloatProgressModel",
          "model_module_version": "1.5.0",
          "state": {
            "_view_name": "ProgressView",
            "style": "IPY_MODEL_84402e9273774ed88bfe31d9837d4cb2",
            "_dom_classes": [],
            "description": "",
            "_model_name": "FloatProgressModel",
            "bar_style": "success",
            "max": 24144,
            "_view_module": "@jupyter-widgets/controls",
            "_model_module_version": "1.5.0",
            "value": 24144,
            "_view_count": null,
            "_view_module_version": "1.5.0",
            "orientation": "horizontal",
            "min": 0,
            "description_tooltip": null,
            "_model_module": "@jupyter-widgets/controls",
            "layout": "IPY_MODEL_7a80eac9f75e4fa88fda822f06a96994"
          }
        },
        "5f1f744d68c14a1f8a6cb92f35161ab7": {
          "model_module": "@jupyter-widgets/controls",
          "model_name": "HTMLModel",
          "model_module_version": "1.5.0",
          "state": {
            "_view_name": "HTMLView",
            "style": "IPY_MODEL_4d6225778f744567b9b3f40687cd3b65",
            "_dom_classes": [],
            "description": "",
            "_model_name": "HTMLModel",
            "placeholder": "​",
            "_view_module": "@jupyter-widgets/controls",
            "_model_module_version": "1.5.0",
            "value": " 140k/? [00:00&lt;00:00, 2.53MB/s]",
            "_view_count": null,
            "_view_module_version": "1.5.0",
            "description_tooltip": null,
            "_model_module": "@jupyter-widgets/controls",
            "layout": "IPY_MODEL_698622683f6241208c1a5bb70e01cdad"
          }
        },
        "d86a4854b81549deafdfb6b5dea36741": {
          "model_module": "@jupyter-widgets/controls",
          "model_name": "DescriptionStyleModel",
          "model_module_version": "1.5.0",
          "state": {
            "_view_name": "StyleView",
            "_model_name": "DescriptionStyleModel",
            "description_width": "",
            "_view_module": "@jupyter-widgets/base",
            "_model_module_version": "1.5.0",
            "_view_count": null,
            "_view_module_version": "1.2.0",
            "_model_module": "@jupyter-widgets/controls"
          }
        },
        "e7d61e165f1a4a37afa5cfb8c0a400b4": {
          "model_module": "@jupyter-widgets/base",
          "model_name": "LayoutModel",
          "model_module_version": "1.2.0",
          "state": {
            "_view_name": "LayoutView",
            "grid_template_rows": null,
            "right": null,
            "justify_content": null,
            "_view_module": "@jupyter-widgets/base",
            "overflow": null,
            "_model_module_version": "1.2.0",
            "_view_count": null,
            "flex_flow": null,
            "width": null,
            "min_width": null,
            "border": null,
            "align_items": null,
            "bottom": null,
            "_model_module": "@jupyter-widgets/base",
            "top": null,
            "grid_column": null,
            "overflow_y": null,
            "overflow_x": null,
            "grid_auto_flow": null,
            "grid_area": null,
            "grid_template_columns": null,
            "flex": null,
            "_model_name": "LayoutModel",
            "justify_items": null,
            "grid_row": null,
            "max_height": null,
            "align_content": null,
            "visibility": null,
            "align_self": null,
            "height": null,
            "min_height": null,
            "padding": null,
            "grid_auto_rows": null,
            "grid_gap": null,
            "max_width": null,
            "order": null,
            "_view_module_version": "1.2.0",
            "grid_template_areas": null,
            "object_position": null,
            "object_fit": null,
            "grid_auto_columns": null,
            "margin": null,
            "display": null,
            "left": null
          }
        },
        "84402e9273774ed88bfe31d9837d4cb2": {
          "model_module": "@jupyter-widgets/controls",
          "model_name": "ProgressStyleModel",
          "model_module_version": "1.5.0",
          "state": {
            "_view_name": "StyleView",
            "_model_name": "ProgressStyleModel",
            "description_width": "",
            "_view_module": "@jupyter-widgets/base",
            "_model_module_version": "1.5.0",
            "_view_count": null,
            "_view_module_version": "1.2.0",
            "bar_color": null,
            "_model_module": "@jupyter-widgets/controls"
          }
        },
        "7a80eac9f75e4fa88fda822f06a96994": {
          "model_module": "@jupyter-widgets/base",
          "model_name": "LayoutModel",
          "model_module_version": "1.2.0",
          "state": {
            "_view_name": "LayoutView",
            "grid_template_rows": null,
            "right": null,
            "justify_content": null,
            "_view_module": "@jupyter-widgets/base",
            "overflow": null,
            "_model_module_version": "1.2.0",
            "_view_count": null,
            "flex_flow": null,
            "width": null,
            "min_width": null,
            "border": null,
            "align_items": null,
            "bottom": null,
            "_model_module": "@jupyter-widgets/base",
            "top": null,
            "grid_column": null,
            "overflow_y": null,
            "overflow_x": null,
            "grid_auto_flow": null,
            "grid_area": null,
            "grid_template_columns": null,
            "flex": null,
            "_model_name": "LayoutModel",
            "justify_items": null,
            "grid_row": null,
            "max_height": null,
            "align_content": null,
            "visibility": null,
            "align_self": null,
            "height": null,
            "min_height": null,
            "padding": null,
            "grid_auto_rows": null,
            "grid_gap": null,
            "max_width": null,
            "order": null,
            "_view_module_version": "1.2.0",
            "grid_template_areas": null,
            "object_position": null,
            "object_fit": null,
            "grid_auto_columns": null,
            "margin": null,
            "display": null,
            "left": null
          }
        },
        "4d6225778f744567b9b3f40687cd3b65": {
          "model_module": "@jupyter-widgets/controls",
          "model_name": "DescriptionStyleModel",
          "model_module_version": "1.5.0",
          "state": {
            "_view_name": "StyleView",
            "_model_name": "DescriptionStyleModel",
            "description_width": "",
            "_view_module": "@jupyter-widgets/base",
            "_model_module_version": "1.5.0",
            "_view_count": null,
            "_view_module_version": "1.2.0",
            "_model_module": "@jupyter-widgets/controls"
          }
        },
        "698622683f6241208c1a5bb70e01cdad": {
          "model_module": "@jupyter-widgets/base",
          "model_name": "LayoutModel",
          "model_module_version": "1.2.0",
          "state": {
            "_view_name": "LayoutView",
            "grid_template_rows": null,
            "right": null,
            "justify_content": null,
            "_view_module": "@jupyter-widgets/base",
            "overflow": null,
            "_model_module_version": "1.2.0",
            "_view_count": null,
            "flex_flow": null,
            "width": null,
            "min_width": null,
            "border": null,
            "align_items": null,
            "bottom": null,
            "_model_module": "@jupyter-widgets/base",
            "top": null,
            "grid_column": null,
            "overflow_y": null,
            "overflow_x": null,
            "grid_auto_flow": null,
            "grid_area": null,
            "grid_template_columns": null,
            "flex": null,
            "_model_name": "LayoutModel",
            "justify_items": null,
            "grid_row": null,
            "max_height": null,
            "align_content": null,
            "visibility": null,
            "align_self": null,
            "height": null,
            "min_height": null,
            "padding": null,
            "grid_auto_rows": null,
            "grid_gap": null,
            "max_width": null,
            "order": null,
            "_view_module_version": "1.2.0",
            "grid_template_areas": null,
            "object_position": null,
            "object_fit": null,
            "grid_auto_columns": null,
            "margin": null,
            "display": null,
            "left": null
          }
        },
        "3dc84eb278524a6f9fbcf98833a46635": {
          "model_module": "@jupyter-widgets/controls",
          "model_name": "HBoxModel",
          "model_module_version": "1.5.0",
          "state": {
            "_view_name": "HBoxView",
            "_dom_classes": [],
            "_model_name": "HBoxModel",
            "_view_module": "@jupyter-widgets/controls",
            "_model_module_version": "1.5.0",
            "_view_count": null,
            "_view_module_version": "1.5.0",
            "box_style": "",
            "layout": "IPY_MODEL_381a695bdf184e50bec7d92e8c00d395",
            "_model_module": "@jupyter-widgets/controls",
            "children": [
              "IPY_MODEL_de360d98f3c640648c20336957f07d78",
              "IPY_MODEL_8a01a8b32ab24f4faaddad3d324daf18",
              "IPY_MODEL_6baa6a21ad5b42bfa5d9314cd46e5070"
            ]
          }
        },
        "381a695bdf184e50bec7d92e8c00d395": {
          "model_module": "@jupyter-widgets/base",
          "model_name": "LayoutModel",
          "model_module_version": "1.2.0",
          "state": {
            "_view_name": "LayoutView",
            "grid_template_rows": null,
            "right": null,
            "justify_content": null,
            "_view_module": "@jupyter-widgets/base",
            "overflow": null,
            "_model_module_version": "1.2.0",
            "_view_count": null,
            "flex_flow": null,
            "width": null,
            "min_width": null,
            "border": null,
            "align_items": null,
            "bottom": null,
            "_model_module": "@jupyter-widgets/base",
            "top": null,
            "grid_column": null,
            "overflow_y": null,
            "overflow_x": null,
            "grid_auto_flow": null,
            "grid_area": null,
            "grid_template_columns": null,
            "flex": null,
            "_model_name": "LayoutModel",
            "justify_items": null,
            "grid_row": null,
            "max_height": null,
            "align_content": null,
            "visibility": null,
            "align_self": null,
            "height": null,
            "min_height": null,
            "padding": null,
            "grid_auto_rows": null,
            "grid_gap": null,
            "max_width": null,
            "order": null,
            "_view_module_version": "1.2.0",
            "grid_template_areas": null,
            "object_position": null,
            "object_fit": null,
            "grid_auto_columns": null,
            "margin": null,
            "display": null,
            "left": null
          }
        },
        "de360d98f3c640648c20336957f07d78": {
          "model_module": "@jupyter-widgets/controls",
          "model_name": "HTMLModel",
          "model_module_version": "1.5.0",
          "state": {
            "_view_name": "HTMLView",
            "style": "IPY_MODEL_eab573f61b264a34a0ed9fa282bd0dd8",
            "_dom_classes": [],
            "description": "",
            "_model_name": "HTMLModel",
            "placeholder": "​",
            "_view_module": "@jupyter-widgets/controls",
            "_model_module_version": "1.5.0",
            "value": "Downloading http://nlp.stanford.edu/software/stanza/1.2.2/ru/default.zip: 100%",
            "_view_count": null,
            "_view_module_version": "1.5.0",
            "description_tooltip": null,
            "_model_module": "@jupyter-widgets/controls",
            "layout": "IPY_MODEL_d724f2c477414a679ba025850c3b93d1"
          }
        },
        "8a01a8b32ab24f4faaddad3d324daf18": {
          "model_module": "@jupyter-widgets/controls",
          "model_name": "FloatProgressModel",
          "model_module_version": "1.5.0",
          "state": {
            "_view_name": "ProgressView",
            "style": "IPY_MODEL_f6f92889b36b471a9e56b425ecc08d07",
            "_dom_classes": [],
            "description": "",
            "_model_name": "FloatProgressModel",
            "bar_style": "success",
            "max": 574066147,
            "_view_module": "@jupyter-widgets/controls",
            "_model_module_version": "1.5.0",
            "value": 574066147,
            "_view_count": null,
            "_view_module_version": "1.5.0",
            "orientation": "horizontal",
            "min": 0,
            "description_tooltip": null,
            "_model_module": "@jupyter-widgets/controls",
            "layout": "IPY_MODEL_fe2b784087154e1d9f90ba22a4ad929b"
          }
        },
        "6baa6a21ad5b42bfa5d9314cd46e5070": {
          "model_module": "@jupyter-widgets/controls",
          "model_name": "HTMLModel",
          "model_module_version": "1.5.0",
          "state": {
            "_view_name": "HTMLView",
            "style": "IPY_MODEL_8d149099907e4100b4d92cd36e9e9e34",
            "_dom_classes": [],
            "description": "",
            "_model_name": "HTMLModel",
            "placeholder": "​",
            "_view_module": "@jupyter-widgets/controls",
            "_model_module_version": "1.5.0",
            "value": " 574M/574M [01:50&lt;00:00, 5.36MB/s]",
            "_view_count": null,
            "_view_module_version": "1.5.0",
            "description_tooltip": null,
            "_model_module": "@jupyter-widgets/controls",
            "layout": "IPY_MODEL_f41f382529a74b0c8945c92cbe79f21d"
          }
        },
        "eab573f61b264a34a0ed9fa282bd0dd8": {
          "model_module": "@jupyter-widgets/controls",
          "model_name": "DescriptionStyleModel",
          "model_module_version": "1.5.0",
          "state": {
            "_view_name": "StyleView",
            "_model_name": "DescriptionStyleModel",
            "description_width": "",
            "_view_module": "@jupyter-widgets/base",
            "_model_module_version": "1.5.0",
            "_view_count": null,
            "_view_module_version": "1.2.0",
            "_model_module": "@jupyter-widgets/controls"
          }
        },
        "d724f2c477414a679ba025850c3b93d1": {
          "model_module": "@jupyter-widgets/base",
          "model_name": "LayoutModel",
          "model_module_version": "1.2.0",
          "state": {
            "_view_name": "LayoutView",
            "grid_template_rows": null,
            "right": null,
            "justify_content": null,
            "_view_module": "@jupyter-widgets/base",
            "overflow": null,
            "_model_module_version": "1.2.0",
            "_view_count": null,
            "flex_flow": null,
            "width": null,
            "min_width": null,
            "border": null,
            "align_items": null,
            "bottom": null,
            "_model_module": "@jupyter-widgets/base",
            "top": null,
            "grid_column": null,
            "overflow_y": null,
            "overflow_x": null,
            "grid_auto_flow": null,
            "grid_area": null,
            "grid_template_columns": null,
            "flex": null,
            "_model_name": "LayoutModel",
            "justify_items": null,
            "grid_row": null,
            "max_height": null,
            "align_content": null,
            "visibility": null,
            "align_self": null,
            "height": null,
            "min_height": null,
            "padding": null,
            "grid_auto_rows": null,
            "grid_gap": null,
            "max_width": null,
            "order": null,
            "_view_module_version": "1.2.0",
            "grid_template_areas": null,
            "object_position": null,
            "object_fit": null,
            "grid_auto_columns": null,
            "margin": null,
            "display": null,
            "left": null
          }
        },
        "f6f92889b36b471a9e56b425ecc08d07": {
          "model_module": "@jupyter-widgets/controls",
          "model_name": "ProgressStyleModel",
          "model_module_version": "1.5.0",
          "state": {
            "_view_name": "StyleView",
            "_model_name": "ProgressStyleModel",
            "description_width": "",
            "_view_module": "@jupyter-widgets/base",
            "_model_module_version": "1.5.0",
            "_view_count": null,
            "_view_module_version": "1.2.0",
            "bar_color": null,
            "_model_module": "@jupyter-widgets/controls"
          }
        },
        "fe2b784087154e1d9f90ba22a4ad929b": {
          "model_module": "@jupyter-widgets/base",
          "model_name": "LayoutModel",
          "model_module_version": "1.2.0",
          "state": {
            "_view_name": "LayoutView",
            "grid_template_rows": null,
            "right": null,
            "justify_content": null,
            "_view_module": "@jupyter-widgets/base",
            "overflow": null,
            "_model_module_version": "1.2.0",
            "_view_count": null,
            "flex_flow": null,
            "width": null,
            "min_width": null,
            "border": null,
            "align_items": null,
            "bottom": null,
            "_model_module": "@jupyter-widgets/base",
            "top": null,
            "grid_column": null,
            "overflow_y": null,
            "overflow_x": null,
            "grid_auto_flow": null,
            "grid_area": null,
            "grid_template_columns": null,
            "flex": null,
            "_model_name": "LayoutModel",
            "justify_items": null,
            "grid_row": null,
            "max_height": null,
            "align_content": null,
            "visibility": null,
            "align_self": null,
            "height": null,
            "min_height": null,
            "padding": null,
            "grid_auto_rows": null,
            "grid_gap": null,
            "max_width": null,
            "order": null,
            "_view_module_version": "1.2.0",
            "grid_template_areas": null,
            "object_position": null,
            "object_fit": null,
            "grid_auto_columns": null,
            "margin": null,
            "display": null,
            "left": null
          }
        },
        "8d149099907e4100b4d92cd36e9e9e34": {
          "model_module": "@jupyter-widgets/controls",
          "model_name": "DescriptionStyleModel",
          "model_module_version": "1.5.0",
          "state": {
            "_view_name": "StyleView",
            "_model_name": "DescriptionStyleModel",
            "description_width": "",
            "_view_module": "@jupyter-widgets/base",
            "_model_module_version": "1.5.0",
            "_view_count": null,
            "_view_module_version": "1.2.0",
            "_model_module": "@jupyter-widgets/controls"
          }
        },
        "f41f382529a74b0c8945c92cbe79f21d": {
          "model_module": "@jupyter-widgets/base",
          "model_name": "LayoutModel",
          "model_module_version": "1.2.0",
          "state": {
            "_view_name": "LayoutView",
            "grid_template_rows": null,
            "right": null,
            "justify_content": null,
            "_view_module": "@jupyter-widgets/base",
            "overflow": null,
            "_model_module_version": "1.2.0",
            "_view_count": null,
            "flex_flow": null,
            "width": null,
            "min_width": null,
            "border": null,
            "align_items": null,
            "bottom": null,
            "_model_module": "@jupyter-widgets/base",
            "top": null,
            "grid_column": null,
            "overflow_y": null,
            "overflow_x": null,
            "grid_auto_flow": null,
            "grid_area": null,
            "grid_template_columns": null,
            "flex": null,
            "_model_name": "LayoutModel",
            "justify_items": null,
            "grid_row": null,
            "max_height": null,
            "align_content": null,
            "visibility": null,
            "align_self": null,
            "height": null,
            "min_height": null,
            "padding": null,
            "grid_auto_rows": null,
            "grid_gap": null,
            "max_width": null,
            "order": null,
            "_view_module_version": "1.2.0",
            "grid_template_areas": null,
            "object_position": null,
            "object_fit": null,
            "grid_auto_columns": null,
            "margin": null,
            "display": null,
            "left": null
          }
        }
      }
    }
  },
  "cells": [
    {
      "cell_type": "markdown",
      "metadata": {
        "id": "kfzvJcXQt6_2"
      },
      "source": [
        "# `Извлечение именованных сущностей и фактов`\n",
        "\n",
        "> При постановке задачи по извлечению информации было замечено, что необходимо различать такие информационные единицы, как персона, организация, локация и числовые выражения, включающие в себя время, даты, деньги и проценты.\n",
        "\n",
        "\n",
        "\n"
      ]
    },
    {
      "cell_type": "markdown",
      "metadata": {
        "id": "46798hCjuwA3"
      },
      "source": [
        "# Named-entity recognition, NER\n",
        "\n",
        "---\n",
        "\n",
        "\n",
        "\n",
        "\n"
      ]
    },
    {
      "cell_type": "markdown",
      "metadata": {
        "id": "9ZBNCVdyu9GX"
      },
      "source": [
        "# Подзадачи\n",
        "\n",
        "---\n",
        "\n",
        "\n",
        "\n",
        "1.  Обнаружить, что какая-то последовательность слов — это именованная сущность\n",
        "2.   Понять, к какому классу (имя человека, название организации, город и т.п.) эта именованная сущность относится.\n",
        "\n"
      ]
    },
    {
      "cell_type": "markdown",
      "metadata": {
        "id": "a3yLS2Zgv2CJ"
      },
      "source": [
        "# Применение\n",
        "\n",
        "---\n",
        "\n",
        "\n",
        "\n",
        "1.   структуризация неструктурированных данных\n",
        "2.   перевод текстов\n",
        "3.   создание краткого изложения\n",
        "4.   извлечение субъективной информации\n",
        "\n"
      ]
    },
    {
      "cell_type": "markdown",
      "metadata": {
        "id": "mDy3y8H6xNRc"
      },
      "source": [
        "# Оценка NER\n",
        "```\n",
        "        количество верно выделенных сущностей \n",
        "  P=    ______________________________________\n",
        "        количество всех выделенных сущностей \n",
        "```\n",
        "```\n",
        "        количество верно выделенных сущностей\n",
        "  R=    ______________________________________\n",
        "        количество сущностей в корпусе\n",
        "\n",
        "```\n",
        "\n",
        "\n",
        "\n",
        "```\n",
        "      2PR\n",
        "F2=  _____\n",
        "      P+R\n",
        "```\n",
        "\n",
        "\n",
        "\n"
      ]
    },
    {
      "cell_type": "code",
      "metadata": {
        "colab": {
          "base_uri": "https://localhost:8080/"
        },
        "id": "nfRdUBbW0FHX",
        "outputId": "5026c906-1f1e-4107-d56a-f5930171246d"
      },
      "source": [
        "pip install pymorphy2\n",
        "pip install stanza\n",
        "pip install natasha\n",
        "pip install pullenti_wrapper"
      ],
      "execution_count": 28,
      "outputs": [
        {
          "output_type": "stream",
          "name": "stdout",
          "text": [
            "Collecting pymorphy2\n",
            "  Downloading pymorphy2-0.9.1-py3-none-any.whl (55 kB)\n",
            "\u001b[?25l\r\u001b[K     |██████                          | 10 kB 19.8 MB/s eta 0:00:01\r\u001b[K     |███████████▉                    | 20 kB 26.6 MB/s eta 0:00:01\r\u001b[K     |█████████████████▊              | 30 kB 12.6 MB/s eta 0:00:01\r\u001b[K     |███████████████████████▋        | 40 kB 9.5 MB/s eta 0:00:01\r\u001b[K     |█████████████████████████████▌  | 51 kB 5.0 MB/s eta 0:00:01\r\u001b[K     |████████████████████████████████| 55 kB 1.9 MB/s \n",
            "\u001b[?25hRequirement already satisfied: docopt>=0.6 in /usr/local/lib/python3.7/dist-packages (from pymorphy2) (0.6.2)\n",
            "Collecting pymorphy2-dicts-ru<3.0,>=2.4\n",
            "  Downloading pymorphy2_dicts_ru-2.4.417127.4579844-py2.py3-none-any.whl (8.2 MB)\n",
            "\u001b[K     |████████████████████████████████| 8.2 MB 9.8 MB/s \n",
            "\u001b[?25hCollecting dawg-python>=0.7.1\n",
            "  Downloading DAWG_Python-0.7.2-py2.py3-none-any.whl (11 kB)\n",
            "Installing collected packages: pymorphy2-dicts-ru, dawg-python, pymorphy2\n",
            "Successfully installed dawg-python-0.7.2 pymorphy2-0.9.1 pymorphy2-dicts-ru-2.4.417127.4579844\n"
          ]
        }
      ]
    },
    {
      "cell_type": "code",
      "metadata": {
        "colab": {
          "base_uri": "https://localhost:8080/",
          "height": 353,
          "referenced_widgets": [
            "278e2ddec3444d21a6ec350e143b08a6",
            "2385d6bc9aa446a7ac3bcece73fc86b2",
            "a348dd84a73240e18d1b745b536eda29",
            "3cf85f398bd1436fbd739018ca523179",
            "5f1f744d68c14a1f8a6cb92f35161ab7",
            "d86a4854b81549deafdfb6b5dea36741",
            "e7d61e165f1a4a37afa5cfb8c0a400b4",
            "84402e9273774ed88bfe31d9837d4cb2",
            "7a80eac9f75e4fa88fda822f06a96994",
            "4d6225778f744567b9b3f40687cd3b65",
            "698622683f6241208c1a5bb70e01cdad",
            "3dc84eb278524a6f9fbcf98833a46635",
            "381a695bdf184e50bec7d92e8c00d395",
            "de360d98f3c640648c20336957f07d78",
            "8a01a8b32ab24f4faaddad3d324daf18",
            "6baa6a21ad5b42bfa5d9314cd46e5070",
            "eab573f61b264a34a0ed9fa282bd0dd8",
            "d724f2c477414a679ba025850c3b93d1",
            "f6f92889b36b471a9e56b425ecc08d07",
            "fe2b784087154e1d9f90ba22a4ad929b",
            "8d149099907e4100b4d92cd36e9e9e34",
            "f41f382529a74b0c8945c92cbe79f21d"
          ]
        },
        "id": "CmVS0tJq7is2",
        "outputId": "5c329214-c912-4cbe-a940-3424496bf5bf"
      },
      "source": [
        "import nltk\n",
        "import pymorphy2\n",
        "import pandas as pd\n",
        "import numpy as np\n",
        "import re\n",
        "from tqdm import tqdm\n",
        "import stanza\n",
        "from natasha import NamesExtractor\n",
        "from pullenti_wrapper.processor import Processor, PERSON\n",
        "from sklearn.metrics import f1_score\n",
        "stanza.download('ru')\n",
        "nltk.download('punkt')\n",
        "stanza_nlp = stanza.Pipeline(lang='ru', processors='tokenize,ner')\n",
        "morph = pymorphy2.MorphAnalyzer()"
      ],
      "execution_count": 35,
      "outputs": [
        {
          "output_type": "display_data",
          "data": {
            "application/vnd.jupyter.widget-view+json": {
              "model_id": "278e2ddec3444d21a6ec350e143b08a6",
              "version_minor": 0,
              "version_major": 2
            },
            "text/plain": [
              "Downloading https://raw.githubusercontent.com/stanfordnlp/stanza-resources/main/resources_1.2.2.json:   0%|   …"
            ]
          },
          "metadata": {}
        },
        {
          "output_type": "stream",
          "name": "stderr",
          "text": [
            "2021-09-29 13:49:57 INFO: Downloading default packages for language: ru (Russian)...\n"
          ]
        },
        {
          "output_type": "display_data",
          "data": {
            "application/vnd.jupyter.widget-view+json": {
              "model_id": "3dc84eb278524a6f9fbcf98833a46635",
              "version_minor": 0,
              "version_major": 2
            },
            "text/plain": [
              "Downloading http://nlp.stanford.edu/software/stanza/1.2.2/ru/default.zip:   0%|          | 0.00/574M [00:00<?,…"
            ]
          },
          "metadata": {}
        },
        {
          "output_type": "stream",
          "name": "stderr",
          "text": [
            "2021-09-29 13:52:00 INFO: Finished downloading models and saved to /root/stanza_resources.\n"
          ]
        },
        {
          "output_type": "stream",
          "name": "stdout",
          "text": [
            "[nltk_data] Downloading package punkt to /root/nltk_data...\n",
            "[nltk_data]   Unzipping tokenizers/punkt.zip.\n"
          ]
        },
        {
          "output_type": "stream",
          "name": "stderr",
          "text": [
            "2021-09-29 13:52:01 INFO: Loading these models for language: ru (Russian):\n",
            "=========================\n",
            "| Processor | Package   |\n",
            "-------------------------\n",
            "| tokenize  | syntagrus |\n",
            "| ner       | wikiner   |\n",
            "=========================\n",
            "\n",
            "2021-09-29 13:52:01 INFO: Use device: cpu\n",
            "2021-09-29 13:52:01 INFO: Loading: tokenize\n",
            "2021-09-29 13:52:01 INFO: Loading: ner\n",
            "2021-09-29 13:52:03 INFO: Done loading processors!\n"
          ]
        }
      ]
    },
    {
      "cell_type": "code",
      "metadata": {
        "id": "5UavIyy21ycB"
      },
      "source": [
        "from pullenti_wrapper.processor import (\n",
        "    Processor,\n",
        "    DATE,\n",
        "    GEO,\n",
        "    ORGANIZATION,\n",
        "    PERSON,\n",
        "    MONEY,\n",
        ")"
      ],
      "execution_count": 45,
      "outputs": []
    },
    {
      "cell_type": "code",
      "metadata": {
        "id": "4XiDhTRI68a3"
      },
      "source": [
        "def name_recognize_nltk(text):\n",
        "    prob_thresh = 0.4\n",
        "    text = str(text)\n",
        "    result = ''\n",
        "    global morph\n",
        "    for word in nltk.word_tokenize(text):\n",
        "       for p in morph.parse(word):\n",
        "            if ('Name' in p.tag and p.score >= prob_thresh) or ('Surn' in p.tag and p.score >= prob_thresh):\n",
        "                    result += '{:<12}({:>12})score:{:0.3}'.format(word, p.normal_form, p.score)\n",
        "                    result += ' \\ '         \n",
        "    if result != '':\n",
        "        return result\n",
        "    else:\n",
        "        return 0"
      ],
      "execution_count": 36,
      "outputs": []
    },
    {
      "cell_type": "code",
      "metadata": {
        "id": "p_3LXn9F8D-Y"
      },
      "source": [
        "def name_recognize_natasha(text):\n",
        "    global morph\n",
        "    extractor = NamesExtractor(morph)\n",
        "    matches = extractor(text)\n",
        "    if matches != None:\n",
        "        result = ''\n",
        "        for index, match in enumerate(matches):\n",
        "            if match != None:\n",
        "                result += str(match.fact)\n",
        "    if result !='':\n",
        "        return result\n",
        "    else:\n",
        "        return 0"
      ],
      "execution_count": 37,
      "outputs": []
    },
    {
      "cell_type": "code",
      "metadata": {
        "id": "jSmD1P4X8HOW"
      },
      "source": [
        "def name_recognize_stanza(text):\n",
        "    result = ''\n",
        "    global stanza_nlp\n",
        "    doc = stanza_nlp(text)\n",
        "    for sent in doc.sentences:\n",
        "        for ent in sent.ents:\n",
        "            if ent.type == 'PER':\n",
        "                result +=  f'entity: {ent.text}\\ttype: {ent.type}' + \" \"\n",
        "    if result != '':\n",
        "        return result\n",
        "    else: return 0"
      ],
      "execution_count": 38,
      "outputs": []
    },
    {
      "cell_type": "code",
      "metadata": {
        "id": "PET-1J6G8KFl"
      },
      "source": [
        "def name_recognize_pullenti(text):\n",
        "    result = ''\n",
        "    processor = Processor([PERSON, ORGANIZATION, GEO, DATE, MONEY])\n",
        "    ner_result = processor(text)\n",
        "    if ner_result.matches != []:\n",
        "        for match in ner_result.matches:\n",
        "            result += str(match)+ ' '\n",
        "    if result != '':\n",
        "        return result\n",
        "    else: return 0"
      ],
      "execution_count": 46,
      "outputs": []
    },
    {
      "cell_type": "code",
      "metadata": {
        "id": "R_LR9BJj9dtr"
      },
      "source": [
        "s=\"Так говорила в июле 1805 года известная Анна Павловна Шерер, фрейлина и приближенная императрицы Марии Феодоровны, встречая важного и чиновного князя Василия, первого приехавшего на ее вечер. Анна Павловна кашляла несколько дней, у нее был грипп, как она говорила (грипп был тогда новое слово, употреблявшееся только редкими). В записочках, разосланных утром с красным лакеем, было написано без различия во всех:  — отвечал, нисколько не смутясь такою встречей, вошедший князь, в придворном, шитом мундире, в чулках, башмаках и звездах, с светлым выражением плоского лица.Он говорил на том изысканном французском языке, на котором не только говорили, но и думали наши деды, и с теми, тихими, покровительственными интонациями, которые свойственны состаревшемуся в свете и при дворе значительному человеку. Он подошел к Анне Павловне, поцеловал ее руку, подставив ей свою надушенную и сияющую лысину, и покойно уселся на диване.\""
      ],
      "execution_count": 40,
      "outputs": []
    },
    {
      "cell_type": "code",
      "metadata": {
        "colab": {
          "base_uri": "https://localhost:8080/"
        },
        "id": "waZTe_Li693l",
        "outputId": "14c810b5-4667-4178-e1cc-2a8be715252b"
      },
      "source": [
        "print(name_recognize_nltk(s))"
      ],
      "execution_count": 41,
      "outputs": [
        {
          "output_type": "stream",
          "name": "stdout",
          "text": [
            "Анна        (        анна)score:1.0 \\ Марии       (       мария)score:0.657 \\ Василия     (     василий)score:0.871 \\ Анна        (        анна)score:1.0 \\ \n"
          ]
        }
      ]
    },
    {
      "cell_type": "code",
      "metadata": {
        "colab": {
          "base_uri": "https://localhost:8080/"
        },
        "id": "GsTJWy9L9iaj",
        "outputId": "128db03b-7b94-4a33-8ae7-fca915df1f42"
      },
      "source": [
        "print(name_recognize_natasha(s))"
      ],
      "execution_count": 42,
      "outputs": [
        {
          "output_type": "stream",
          "name": "stdout",
          "text": [
            "Name(first=None, last='в', middle=None)Name(first=None, last='июле', middle=None)Name(first=None, last='известная', middle=None)Name(first='Анна', last='Шерер', middle='Павловна')Name(first=None, last='и', middle=None)Name(first='Марии', last='Феодоровны', middle=None)Name(first=None, last='и', middle=None)Name(first=None, last='князя', middle=None)Name(first='Василия', last=None, middle=None)Name(first=None, last='вечер', middle=None)Name(first='Анна', last='Павловна', middle=None)Name(first=None, last='у', middle=None)Name(first=None, last='грипп', middle=None)Name(first=None, last='грипп', middle=None)Name(first=None, last='новое', middle=None)Name(first=None, last='редкими', middle=None)Name(first=None, last='В', middle=None)Name(first=None, last='с', middle=None)Name(first=None, last='красным', middle=None)Name(first=None, last='лакеем', middle=None)Name(first=None, last='было', middle=None)Name(first=None, last='без', middle=None)Name(first=None, last='во', middle=None)Name(first=None, last='не', middle=None)Name(first='смутясь', last=None, middle=None)Name(first=None, last='князь', middle=None)Name(first=None, last='в', middle=None)Name(first=None, last='придворном', middle=None)Name(first=None, last='шитом', middle=None)Name(first=None, last='мундире', middle=None)Name(first=None, last='в', middle=None)Name(first=None, last='башмаках', middle=None)Name(first=None, last='и', middle=None)Name(first=None, last='с', middle=None)Name(first=None, last='светлым', middle=None)Name(first=None, last='плоского', middle=None)Name(first='том', last=None, middle=None)Name(first=None, last='французском', middle=None)Name(first=None, last='языке', middle=None)Name(first=None, last='котором', middle=None)Name(first=None, last='не', middle=None)Name(first=None, last='и', middle=None)Name(first=None, last='думали', middle=None)Name(first=None, last='наши', middle=None)Name(first=None, last='деды', middle=None)Name(first=None, last='и', middle=None)Name(first=None, last='с', middle=None)Name(first=None, last='теми', middle=None)Name(first=None, last='тихими', middle=None)Name(first=None, last='в', middle=None)Name(first='свете', last=None, middle=None)Name(first=None, last='и', middle=None)Name(first=None, last='при', middle=None)Name(first=None, last='к', middle=None)Name(first='Анне', last='Павловне', middle=None)Name(first=None, last='свою', middle=None)Name(first=None, last='и', middle=None)Name(first=None, last='лысину', middle=None)Name(first=None, last='и', middle=None)Name(first=None, last='диване', middle=None)\n"
          ]
        }
      ]
    },
    {
      "cell_type": "code",
      "metadata": {
        "colab": {
          "base_uri": "https://localhost:8080/"
        },
        "id": "z7xiSEU39mlJ",
        "outputId": "5e02d8a3-af93-4300-8b28-ffe3c1b2c5a3"
      },
      "source": [
        "print(name_recognize_stanza(s))"
      ],
      "execution_count": 43,
      "outputs": [
        {
          "output_type": "stream",
          "name": "stdout",
          "text": [
            "entity: Анна Павловна Шерер\ttype: PER entity: Марии Феодоровны\ttype: PER entity: Василия\ttype: PER entity: Анна Павловна\ttype: PER entity: Анне Павловне\ttype: PER \n"
          ]
        }
      ]
    },
    {
      "cell_type": "code",
      "metadata": {
        "colab": {
          "base_uri": "https://localhost:8080/"
        },
        "id": "ZepFuikR9ooS",
        "outputId": "20cca7d5-b5cf-45f0-c2e5-67f70a89640a"
      },
      "source": [
        "print(name_recognize_pullenti(s))"
      ],
      "execution_count": 47,
      "outputs": [
        {
          "output_type": "stream",
          "name": "stdout",
          "text": [
            "Match(referent=DateReferent(label='DATE', slots=[Slot(key='MONTH', value='7'), Slot(key='HIGHER', value=DateReferent(label='DATE', slots=[Slot(key='YEAR', value='1805')]))]), span=Span(start=15, stop=29), children=[]) Match(referent=PersonReferent(label='PERSON', slots=[Slot(key='SEX', value='FEMALE'), Slot(key='LASTNAME', value='ШЕРЕР'), Slot(key='FIRSTNAME', value='АННА'), Slot(key='MIDDLENAME', value='ПАВЛОВНА'), Slot(key='ATTRIBUTE', value=PersonPropertyReferent(label='PERSONPROPERTY', slots=[Slot(key='NAME', value='фрейлина')]))]), span=Span(start=40, stop=69), children=[Match(referent=PersonPropertyReferent(label='PERSONPROPERTY', slots=[Slot(key='NAME', value='фрейлина')]), span=Span(start=61, stop=69), children=[])]) Match(referent=PersonReferent(label='PERSON', slots=[Slot(key='SEX', value='FEMALE'), Slot(key='FIRSTNAME', value='МАРЬЯ'), Slot(key='FIRSTNAME', value='МАРИЯ'), Slot(key='MIDDLENAME', value='ФЕОДОРОВНА'), Slot(key='ATTRIBUTE', value=PersonPropertyReferent(label='PERSONPROPERTY', slots=[Slot(key='NAME', value='императрица')]))]), span=Span(start=85, stop=113), children=[Match(referent=PersonPropertyReferent(label='PERSONPROPERTY', slots=[Slot(key='NAME', value='императрица')]), span=Span(start=85, stop=96), children=[])]) Match(referent=PersonReferent(label='PERSON', slots=[Slot(key='SEX', value='MALE'), Slot(key='FIRSTNAME', value='ВАСИЛИЙ'), Slot(key='ATTRIBUTE', value=PersonPropertyReferent(label='PERSONPROPERTY', slots=[Slot(key='NAME', value='важный чиновный князь')]))]), span=Span(start=124, stop=157), children=[Match(referent=PersonPropertyReferent(label='PERSONPROPERTY', slots=[Slot(key='NAME', value='важный чиновный князь')]), span=Span(start=124, stop=149), children=[])]) Match(referent=PersonReferent(label='PERSON', slots=[Slot(key='SEX', value='FEMALE'), Slot(key='LASTNAME', value='ШЕРЕР'), Slot(key='FIRSTNAME', value='АННА'), Slot(key='MIDDLENAME', value='ПАВЛОВНА'), Slot(key='ATTRIBUTE', value=PersonPropertyReferent(label='PERSONPROPERTY', slots=[Slot(key='NAME', value='фрейлина')]))]), span=Span(start=192, stop=205), children=[]) Match(referent=PersonReferent(label='PERSON', slots=[Slot(key='SEX', value='FEMALE'), Slot(key='LASTNAME', value='ШЕРЕР'), Slot(key='FIRSTNAME', value='АННА'), Slot(key='MIDDLENAME', value='ПАВЛОВНА'), Slot(key='ATTRIBUTE', value=PersonPropertyReferent(label='PERSONPROPERTY', slots=[Slot(key='NAME', value='фрейлина')]))]), span=Span(start=818, stop=831), children=[]) \n"
          ]
        }
      ]
    },
    {
      "cell_type": "markdown",
      "metadata": {
        "id": "kqf_TuMg-lU2"
      },
      "source": [
        "# Общие задачи"
      ]
    },
    {
      "cell_type": "code",
      "metadata": {
        "id": "XeJSr4MT_gCD"
      },
      "source": [
        "import math\n",
        "import pandas as pd\n",
        "import re"
      ],
      "execution_count": null,
      "outputs": []
    },
    {
      "cell_type": "code",
      "metadata": {
        "id": "8W6lEaGv_CTC"
      },
      "source": [
        "def idf_tf(text):\n",
        "  global df\n",
        "  words={}\n",
        "  sent={}\n",
        "  s=0\n",
        "  sum=0\n",
        "  test = re.sub(r'[^А-Яа-яё0-9 ]', \"\", text)\n",
        "  for i in test.split(\" \"):\n",
        "    sum+=1\n",
        "    if i in words.keys():\n",
        "      words[i]+=1\n",
        "    else:\n",
        "      words[i]=1\n",
        "      sent[i]=0\n",
        "      text = re.sub(r'[^А-Яа-яё0-9. ]', \" \", text)\n",
        "      text=\" \"+text\n",
        "      for j in text.split(\".\"):\n",
        "         j=\" \"+j+\" \"\n",
        "         st=\" \"+i+\" \"\n",
        "         if st in j:\n",
        "            sent[i]+=1\n",
        "  #print(words) \n",
        "  #print(sent) \n",
        "  for j in words.keys():\n",
        "     a=(words[j]/sum)*math.log(len(sent)/sent[i])\n",
        "     print(j,a)"
      ],
      "execution_count": null,
      "outputs": []
    },
    {
      "cell_type": "code",
      "metadata": {
        "colab": {
          "base_uri": "https://localhost:8080/"
        },
        "id": "5EDWrywV_Mj8",
        "outputId": "64cb1132-313e-4a6b-9258-ce7b4ca72e77"
      },
      "source": [
        "idf_tf(\" Так говорила в июле 1805 года известная. Анна. Павловна Шерер, фрейлина. и приближенная Анна Анна года известная императрицы Марии Феодоровны, встречая важного и чиновного князя Василия, первого приехавшего на ее вечер.\")"
      ],
      "execution_count": null,
      "outputs": [
        {
          "output_type": "stream",
          "name": "stdout",
          "text": [
            " 0.10299490206263529\n",
            "Так 0.10299490206263529\n",
            "говорила 0.10299490206263529\n",
            "в 0.10299490206263529\n",
            "июле 0.10299490206263529\n",
            "1805 0.10299490206263529\n",
            "года 0.20598980412527057\n",
            "известная 0.20598980412527057\n",
            "Анна 0.30898470618790586\n",
            "Павловна 0.10299490206263529\n",
            "Шерер 0.10299490206263529\n",
            "фрейлина 0.10299490206263529\n",
            "и 0.20598980412527057\n",
            "приближенная 0.10299490206263529\n",
            "императрицы 0.10299490206263529\n",
            "Марии 0.10299490206263529\n",
            "Феодоровны 0.10299490206263529\n",
            "встречая 0.10299490206263529\n",
            "важного 0.10299490206263529\n",
            "чиновного 0.10299490206263529\n",
            "князя 0.10299490206263529\n",
            "Василия 0.10299490206263529\n",
            "первого 0.10299490206263529\n",
            "приехавшего 0.10299490206263529\n",
            "на 0.10299490206263529\n",
            "ее 0.10299490206263529\n",
            "вечер 0.10299490206263529\n"
          ]
        }
      ]
    },
    {
      "cell_type": "markdown",
      "metadata": {
        "id": "zj_Zj_4KDVk6"
      },
      "source": [
        ""
      ]
    },
    {
      "cell_type": "code",
      "metadata": {
        "id": "y1sCuazmMG7X"
      },
      "source": [
        "def ngl(n, text):\n",
        "   for i in range(0,len(text)-n+1):\n",
        "      print(text[i:i+n])"
      ],
      "execution_count": null,
      "outputs": []
    },
    {
      "cell_type": "code",
      "metadata": {
        "colab": {
          "base_uri": "https://localhost:8080/"
        },
        "id": "1JMpdlEWM0tU",
        "outputId": "869f1290-e785-4198-ac97-fee6790a6c57"
      },
      "source": [
        "ngl(3, \"abcdefghj\")"
      ],
      "execution_count": null,
      "outputs": [
        {
          "output_type": "stream",
          "name": "stdout",
          "text": [
            "abc\n",
            "bcd\n",
            "cde\n",
            "def\n",
            "efg\n",
            "fgh\n",
            "ghj\n"
          ]
        }
      ]
    },
    {
      "cell_type": "code",
      "metadata": {
        "id": "JOr-9QtmNI1m"
      },
      "source": [
        "def ngw(n, text):\n",
        "   a=text.split() \n",
        "   for i in range(0, len(a)-n+1):\n",
        "      b=\"\"\n",
        "      for j in range (i, i+n):\n",
        "          b=b+\" \"+a[j]\n",
        "      print(b)"
      ],
      "execution_count": null,
      "outputs": []
    },
    {
      "cell_type": "code",
      "metadata": {
        "id": "a3Zrh8CrP26Z",
        "colab": {
          "base_uri": "https://localhost:8080/"
        },
        "outputId": "14f69d67-0d3e-4a12-faee-cd67abb3b2ff"
      },
      "source": [
        "ngw(3, \"01 02 003 4 50 68 70 88 9090\")"
      ],
      "execution_count": null,
      "outputs": [
        {
          "output_type": "stream",
          "name": "stdout",
          "text": [
            " 01 02 003\n",
            " 02 003 4\n",
            " 003 4 50\n",
            " 4 50 68\n",
            " 50 68 70\n",
            " 68 70 88\n",
            " 70 88 9090\n"
          ]
        }
      ]
    },
    {
      "cell_type": "markdown",
      "metadata": {
        "id": "Pj8Lqf4w3EBI"
      },
      "source": [
        "# ДЗ1"
      ]
    },
    {
      "cell_type": "code",
      "metadata": {
        "colab": {
          "base_uri": "https://localhost:8080/"
        },
        "id": "vE1dhbCH3Edi",
        "outputId": "7be3fd77-a585-4b01-f28f-e5d6dcba10a9"
      },
      "source": [
        "def ufo(n,s):\n",
        "  for i in range(0,len(s)-n):\n",
        "    if s[i]!='?':\n",
        "      j=i+n\n",
        "      while j<len(s):\n",
        "        if (s[i]!=s[j])&(s[j]!='?'):\n",
        "          return 'NO'\n",
        "        j+=n\n",
        "  return \"YES\"\n",
        "\n",
        "n=int(input())\n",
        "p=int(input())\n",
        "l=[]\n",
        "for i in range(0,n):\n",
        "  m=input()\n",
        "  an=ufo(p,m)\n",
        "  l.append(an)\n",
        "for i in range(0,n):\n",
        "  print(l[i])\n",
        "\n"
      ],
      "execution_count": 49,
      "outputs": [
        {
          "output_type": "stream",
          "name": "stdout",
          "text": [
            "1\n",
            "4\n",
            "q?er?wer?werw?er\n",
            "NO\n"
          ]
        }
      ]
    }
  ]
}