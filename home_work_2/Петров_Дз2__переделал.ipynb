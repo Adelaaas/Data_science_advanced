{
  "nbformat": 4,
  "nbformat_minor": 0,
  "metadata": {
    "colab": {
      "name": "Петров_Дз2_ переделал.ipynb",
      "provenance": [],
      "collapsed_sections": []
    },
    "kernelspec": {
      "name": "python3",
      "display_name": "Python 3"
    }
  },
  "cells": [
    {
      "cell_type": "markdown",
      "metadata": {
        "id": "p7izqIP0me_9"
      },
      "source": [
        "N-граммы"
      ]
    },
    {
      "cell_type": "code",
      "metadata": {
        "id": "IrjCdiqtmg-d",
        "colab": {
          "base_uri": "https://localhost:8080/"
        },
        "outputId": "4530ec9d-c134-48a7-fb43-c39609622e15"
      },
      "source": [
        "from string import punctuation\n",
        " \n",
        " \n",
        "def clean(text):\n",
        "    if not isinstance(text, str):\n",
        "        raise TypeError('text должен быть str')\n",
        "    return ''.join(x for x in text if x not in punctuation)\n",
        "\n",
        "\n",
        "def ngram():\n",
        "  word = clean(input()).split()\n",
        "  n = int(input())\n",
        "  ngram = []  \n",
        "  for i in range(len(word)- n + 1):\n",
        "    ngram.append(word[i:i + n])\n",
        "  print(ngram)\n",
        "\n",
        "ngram()"
      ],
      "execution_count": null,
      "outputs": [
        {
          "output_type": "stream",
          "name": "stdout",
          "text": [
            "Я, наконец, все сделал\n",
            "2\n",
            "[['Я', 'наконец'], ['наконец', 'все'], ['все', 'сделал']]\n"
          ]
        }
      ]
    },
    {
      "cell_type": "markdown",
      "metadata": {
        "id": "-TGwfXoh_GZU"
      },
      "source": [
        "TF-IDF"
      ]
    },
    {
      "cell_type": "code",
      "metadata": {
        "colab": {
          "base_uri": "https://localhost:8080/"
        },
        "id": "_5QO-EDC_FJs",
        "outputId": "7f59543b-8737-4612-da6b-f5b07018c706"
      },
      "source": [
        "from string import punctuation\n",
        " \n",
        " \n",
        "def clean(text):\n",
        "    if not isinstance(text, str):\n",
        "        raise TypeError('text должен быть str')\n",
        "    return ''.join(x for x in text if x not in punctuation)\n",
        "\n",
        "def tf_idf():\n",
        "  word = [e.lower() for e in clean(input()).split()]\n",
        "  a = {}\n",
        "  word2 = list(set(word))\n",
        "  print(word2)\n",
        "  for e in word2:\n",
        "    a[e] = word.count(e) / len(word)\n",
        "  for e in a:\n",
        "    print(e, a[e])\n",
        "\n",
        "tf_idf()\n"
      ],
      "execution_count": 29,
      "outputs": [
        {
          "output_type": "stream",
          "name": "stdout",
          "text": [
            "Насколько я понял, рассчытывается по такой формуле, напишу  еще раз \"я\" чтоб была разная частота\n",
            "['такой', 'понял', 'раз', 'частота', 'напишу', 'формуле', 'еще', 'чтоб', 'рассчытывается', 'насколько', 'я', 'по', 'разная', 'была']\n",
            "такой 0.06666666666666667\n",
            "понял 0.06666666666666667\n",
            "раз 0.06666666666666667\n",
            "частота 0.06666666666666667\n",
            "напишу 0.06666666666666667\n",
            "формуле 0.06666666666666667\n",
            "еще 0.06666666666666667\n",
            "чтоб 0.06666666666666667\n",
            "рассчытывается 0.06666666666666667\n",
            "насколько 0.06666666666666667\n",
            "я 0.13333333333333333\n",
            "по 0.06666666666666667\n",
            "разная 0.06666666666666667\n",
            "была 0.06666666666666667\n"
          ]
        }
      ]
    }
  ]
}