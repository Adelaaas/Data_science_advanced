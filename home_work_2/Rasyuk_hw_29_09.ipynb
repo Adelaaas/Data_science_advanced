{
  "nbformat": 4,
  "nbformat_minor": 0,
  "metadata": {
    "colab": {
      "name": "Rasyuk_hw_29.09.ipynb",
      "provenance": [],
      "collapsed_sections": []
    },
    "kernelspec": {
      "name": "python3",
      "display_name": "Python 3"
    },
    "language_info": {
      "name": "python"
    }
  },
  "cells": [
    {
      "cell_type": "markdown",
      "metadata": {
        "id": "nCyV7BPfQPOg"
      },
      "source": [
        "TF-IDF"
      ]
    },
    {
      "cell_type": "code",
      "metadata": {
        "colab": {
          "base_uri": "https://localhost:8080/"
        },
        "id": "KxmFpWUNNknR",
        "outputId": "8c9f109e-d80f-4f4a-e7d0-21f65c9aa72e"
      },
      "source": [
        "from math import log\n",
        "\n",
        "def f(stt):\n",
        "  sp = []\n",
        "  d = 0\n",
        "  aaaa, dtf, didf = {}, {}, {}\n",
        "  for i in st:\n",
        "    c = 0\n",
        "    sp.append([])\n",
        "    for j in i.split():\n",
        "      if j in dtf.keys():\n",
        "        dtf[j] += 1\n",
        "        c = 1\n",
        "      else:\n",
        "        dtf[j] = 1\n",
        "        didf[j] = 1\n",
        "        c = 1\n",
        "      sp[-1].append(j)\n",
        "      d +=1\n",
        "  for i in dtf.keys():\n",
        "    dtf[i] = dtf[i] / d\n",
        "    didf[i] = log(len(sp) / didf[i])\n",
        "    aaaa[i] = dtf[i] * didf[i]\n",
        "\n",
        "  print(aaaa)\n",
        "\n",
        "\n",
        "\n",
        "st = 'Text of first document. Text of the second document made longer. Number three. This is number four.'.lower().split('.')\n",
        "\n",
        "f(st)\n"
      ],
      "execution_count": 94,
      "outputs": [
        {
          "output_type": "stream",
          "name": "stdout",
          "text": [
            "{'text': 0.18934563675695298, 'of': 0.18934563675695298, 'first': 0.09467281837847649, 'document': 0.18934563675695298, 'the': 0.09467281837847649, 'second': 0.09467281837847649, 'made': 0.09467281837847649, 'longer': 0.09467281837847649, 'number': 0.18934563675695298, 'three': 0.09467281837847649, 'this': 0.09467281837847649, 'is': 0.09467281837847649, 'four': 0.09467281837847649}\n"
          ]
        }
      ]
    },
    {
      "cell_type": "markdown",
      "metadata": {
        "id": "f6eRhQFhQP9I"
      },
      "source": [
        "\n",
        "N-граммы"
      ]
    },
    {
      "cell_type": "code",
      "metadata": {
        "colab": {
          "base_uri": "https://localhost:8080/"
        },
        "id": "ZjYiHxZvQUht",
        "outputId": "73c4fcaf-1cb2-410b-ef54-911a4b5204f2"
      },
      "source": [
        "def f(st, n):\n",
        "  ngram = []  \n",
        "  for i in range(len(st.split())- n + 1):\n",
        "    ngram.append(st.split()[i:i + n])\n",
        "  print(ngram)\n",
        "\n",
        "st = input()\n",
        "n = int(input())\n",
        "\n",
        "f(st, n)\n"
      ],
      "execution_count": null,
      "outputs": [
        {
          "output_type": "stream",
          "name": "stdout",
          "text": [
            "cat go home and see some mouse//\n",
            "4\n",
            "[['cat', 'go', 'home', 'and'], ['go', 'home', 'and', 'see'], ['home', 'and', 'see', 'some'], ['and', 'see', 'some', 'mouse//']]\n"
          ]
        }
      ]
    }
  ]
}