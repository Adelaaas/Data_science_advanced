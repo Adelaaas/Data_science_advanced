{
  "nbformat": 4,
  "nbformat_minor": 0,
  "metadata": {
    "colab": {
      "name": "Rasyuk_hw_29.09.ipynb",
      "provenance": [],
      "collapsed_sections": []
    },
    "kernelspec": {
      "name": "python3",
      "display_name": "Python 3"
    },
    "language_info": {
      "name": "python"
    }
  },
  "cells": [
    {
      "cell_type": "markdown",
      "metadata": {
        "id": "nCyV7BPfQPOg"
      },
      "source": [
        "TF-IDF"
      ]
    },
    {
      "cell_type": "code",
      "metadata": {
        "id": "uiObjAZNPoIq",
        "colab": {
          "base_uri": "https://localhost:8080/"
        },
        "outputId": "70fcdf55-a34c-40b3-ee73-5b9bab88133d"
      },
      "source": [
        "st = input()\n",
        "\n",
        "sp = []\n",
        "for i in st.split():             \n",
        "  if i not in sp:\n",
        "    sp.append(i)         \n",
        "\n",
        "for i in range(0, len(sp)):\n",
        "  print(sp[i], '-', s.count(sp[i]))    \n",
        "\n",
        "# we are children of the last century, we and we are not young"
      ],
      "execution_count": null,
      "outputs": [
        {
          "output_type": "stream",
          "name": "stdout",
          "text": [
            "we are children of the last century, we and we are not young\n",
            "we - 3\n",
            "are - 2\n",
            "children - 1\n",
            "of - 1\n",
            "the - 1\n",
            "last - 1\n",
            "century, - 1\n",
            "and - 1\n",
            "not - 1\n",
            "young - 1\n"
          ]
        }
      ]
    },
    {
      "cell_type": "markdown",
      "metadata": {
        "id": "f6eRhQFhQP9I"
      },
      "source": [
        "\n",
        "N-граммы"
      ]
    },
    {
      "cell_type": "code",
      "metadata": {
        "colab": {
          "base_uri": "https://localhost:8080/"
        },
        "id": "ZjYiHxZvQUht",
        "outputId": "f68d63be-2395-4780-f764-70fd97725cf1"
      },
      "source": [
        "st = input()\n",
        "n = int(input())\n",
        "\n",
        "ngram = []  \n",
        "for i in range(len(st.split())- n + 1):\n",
        "  ngram.append(st.split()[i:i + n])\n",
        "print(ngram)\n",
        "\n",
        "# cat go home and see some mouse//"
      ],
      "execution_count": null,
      "outputs": [
        {
          "output_type": "stream",
          "name": "stdout",
          "text": [
            "cat go home and see some mouse//\n",
            "2\n",
            "[['cat', 'go'], ['go', 'home'], ['home', 'and'], ['and', 'see'], ['see', 'some'], ['some', 'mouse//']]\n"
          ]
        }
      ]
    }
  ]
}