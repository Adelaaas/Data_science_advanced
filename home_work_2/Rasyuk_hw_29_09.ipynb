{
  "nbformat": 4,
  "nbformat_minor": 0,
  "metadata": {
    "colab": {
      "name": "Rasyuk_hw_29.09.ipynb",
      "provenance": [],
      "collapsed_sections": []
    },
    "kernelspec": {
      "name": "python3",
      "display_name": "Python 3"
    },
    "language_info": {
      "name": "python"
    }
  },
  "cells": [
    {
      "cell_type": "markdown",
      "metadata": {
        "id": "nCyV7BPfQPOg"
      },
      "source": [
        "TF-IDF"
      ]
    },
    {
      "cell_type": "code",
      "metadata": {
        "id": "uiObjAZNPoIq",
        "colab": {
          "base_uri": "https://localhost:8080/"
        },
        "outputId": "fc71b13c-74dc-446a-a482-b66a4df18ebc"
      },
      "source": [
        "def f(st):\n",
        "  sp = []\n",
        "  for i in st.split():             \n",
        "    if i not in sp:\n",
        "      sp.append(i)         \n",
        "  for i in range(0, len(sp)):\n",
        "    print(sp[i], '-', st.count(sp[i]) / len(sp)) \n",
        "\n",
        "st = input()\n",
        "f(st)\n",
        "# we are children of the last century, we and we are not young"
      ],
      "execution_count": 5,
      "outputs": [
        {
          "output_type": "stream",
          "name": "stdout",
          "text": [
            "we are children of the last century, we and we are not young\n",
            "['we', 'are', 'children', 'of', 'the', 'last', 'century,', 'and', 'not', 'young']\n",
            "we - 0.3\n",
            "are - 0.2\n",
            "children - 0.1\n",
            "of - 0.1\n",
            "the - 0.1\n",
            "last - 0.1\n",
            "century, - 0.1\n",
            "and - 0.1\n",
            "not - 0.1\n",
            "young - 0.1\n"
          ]
        }
      ]
    },
    {
      "cell_type": "markdown",
      "metadata": {
        "id": "f6eRhQFhQP9I"
      },
      "source": [
        "\n",
        "N-граммы"
      ]
    },
    {
      "cell_type": "code",
      "metadata": {
        "colab": {
          "base_uri": "https://localhost:8080/"
        },
        "id": "ZjYiHxZvQUht",
        "outputId": "73c4fcaf-1cb2-410b-ef54-911a4b5204f2"
      },
      "source": [
        "def f(st, n):\n",
        "  ngram = []  \n",
        "  for i in range(len(st.split())- n + 1):\n",
        "    ngram.append(st.split()[i:i + n])\n",
        "  print(ngram)\n",
        "\n",
        "st = input()\n",
        "n = int(input())\n",
        "\n",
        "f(st, n)\n",
        "\n",
        "# cat go home and see some mouse//"
      ],
      "execution_count": 6,
      "outputs": [
        {
          "output_type": "stream",
          "name": "stdout",
          "text": [
            "cat go home and see some mouse//\n",
            "4\n",
            "[['cat', 'go', 'home', 'and'], ['go', 'home', 'and', 'see'], ['home', 'and', 'see', 'some'], ['and', 'see', 'some', 'mouse//']]\n"
          ]
        }
      ]
    }
  ]
}