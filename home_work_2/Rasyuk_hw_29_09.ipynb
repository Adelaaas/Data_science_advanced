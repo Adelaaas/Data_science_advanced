{
  "nbformat": 4,
  "nbformat_minor": 0,
  "metadata": {
    "colab": {
      "name": "Rasyuk_hw_29.09.ipynb",
      "provenance": [],
      "collapsed_sections": []
    },
    "kernelspec": {
      "name": "python3",
      "display_name": "Python 3"
    },
    "language_info": {
      "name": "python"
    }
  },
  "cells": [
    {
      "cell_type": "markdown",
      "metadata": {
        "id": "nCyV7BPfQPOg"
      },
      "source": [
        "TF-IDF"
      ]
    },
    {
      "cell_type": "code",
      "metadata": {
        "id": "uiObjAZNPoIq",
        "colab": {
          "base_uri": "https://localhost:8080/"
        },
        "outputId": "0c1e9fa4-d32a-4835-efad-f195e29b28b7"
      },
      "source": [
        "def f(st):\n",
        "  sp = []\n",
        "  for i in st.split():             \n",
        "    if i not in sp:\n",
        "      sp.append(i)         \n",
        "  for i in range(0, len(sp)):\n",
        "    print(sp[i], '-', st.count(sp[i]) / len(sp)) \n",
        "\n",
        "st = input()\n",
        "for i in st:\n",
        "  if i in ['.', ',', '/', '!', '?']:\n",
        "    st = st.replace(i, ' ')\n",
        "f(st)\n",
        "# we are children of the last century, we and we are not young"
      ],
      "execution_count": 20,
      "outputs": [
        {
          "output_type": "stream",
          "name": "stdout",
          "text": [
            "asd jdf,  sjs asd ldfkf sjs asd! gdvjf\n",
            "asd - 0.6\n",
            "jdf - 0.2\n",
            "sjs - 0.4\n",
            "ldfkf - 0.2\n",
            "gdvjf - 0.2\n"
          ]
        }
      ]
    },
    {
      "cell_type": "markdown",
      "metadata": {
        "id": "f6eRhQFhQP9I"
      },
      "source": [
        "\n",
        "N-граммы"
      ]
    },
    {
      "cell_type": "code",
      "metadata": {
        "colab": {
          "base_uri": "https://localhost:8080/"
        },
        "id": "ZjYiHxZvQUht",
        "outputId": "73c4fcaf-1cb2-410b-ef54-911a4b5204f2"
      },
      "source": [
        "def f(st, n):\n",
        "  ngram = []  \n",
        "  for i in range(len(st.split())- n + 1):\n",
        "    ngram.append(st.split()[i:i + n])\n",
        "  print(ngram)\n",
        "\n",
        "st = input()\n",
        "n = int(input())\n",
        "\n",
        "f(st, n)\n",
        "\n",
        "# cat go home and see some mouse//"
      ],
      "execution_count": null,
      "outputs": [
        {
          "output_type": "stream",
          "name": "stdout",
          "text": [
            "cat go home and see some mouse//\n",
            "4\n",
            "[['cat', 'go', 'home', 'and'], ['go', 'home', 'and', 'see'], ['home', 'and', 'see', 'some'], ['and', 'see', 'some', 'mouse//']]\n"
          ]
        }
      ]
    }
  ]
}