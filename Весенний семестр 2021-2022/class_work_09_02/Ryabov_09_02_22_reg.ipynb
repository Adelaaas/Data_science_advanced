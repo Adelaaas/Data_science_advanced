{
 "cells": [
  {
   "cell_type": "code",
   "execution_count": 1,
   "metadata": {},
   "outputs": [
    {
     "data": {
      "text/html": [
       "<div>\n",
       "<style scoped>\n",
       "    .dataframe tbody tr th:only-of-type {\n",
       "        vertical-align: middle;\n",
       "    }\n",
       "\n",
       "    .dataframe tbody tr th {\n",
       "        vertical-align: top;\n",
       "    }\n",
       "\n",
       "    .dataframe thead th {\n",
       "        text-align: right;\n",
       "    }\n",
       "</style>\n",
       "<table border=\"1\" class=\"dataframe\">\n",
       "  <thead>\n",
       "    <tr style=\"text-align: right;\">\n",
       "      <th></th>\n",
       "      <th>Unnamed: 0</th>\n",
       "      <th>0</th>\n",
       "      <th>1</th>\n",
       "      <th>2</th>\n",
       "      <th>3</th>\n",
       "      <th>4</th>\n",
       "      <th>5</th>\n",
       "      <th>6</th>\n",
       "      <th>7</th>\n",
       "      <th>8</th>\n",
       "      <th>9</th>\n",
       "      <th>Predict</th>\n",
       "    </tr>\n",
       "  </thead>\n",
       "  <tbody>\n",
       "    <tr>\n",
       "      <th>0</th>\n",
       "      <td>0</td>\n",
       "      <td>-0.019734</td>\n",
       "      <td>-2.293412</td>\n",
       "      <td>-1.990040</td>\n",
       "      <td>2.077776</td>\n",
       "      <td>0.517476</td>\n",
       "      <td>-0.414082</td>\n",
       "      <td>2.983293</td>\n",
       "      <td>0.355151</td>\n",
       "      <td>3.691985</td>\n",
       "      <td>-3.158359</td>\n",
       "      <td>5.778825</td>\n",
       "    </tr>\n",
       "    <tr>\n",
       "      <th>1</th>\n",
       "      <td>1</td>\n",
       "      <td>0.807845</td>\n",
       "      <td>-0.755991</td>\n",
       "      <td>0.666609</td>\n",
       "      <td>-0.631528</td>\n",
       "      <td>1.335432</td>\n",
       "      <td>0.475088</td>\n",
       "      <td>-0.693739</td>\n",
       "      <td>-0.726469</td>\n",
       "      <td>-0.601803</td>\n",
       "      <td>0.123827</td>\n",
       "      <td>-3.011382</td>\n",
       "    </tr>\n",
       "    <tr>\n",
       "      <th>2</th>\n",
       "      <td>3</td>\n",
       "      <td>1.490152</td>\n",
       "      <td>3.544350</td>\n",
       "      <td>0.126952</td>\n",
       "      <td>-2.002267</td>\n",
       "      <td>0.526118</td>\n",
       "      <td>-0.357506</td>\n",
       "      <td>-3.680189</td>\n",
       "      <td>-1.032858</td>\n",
       "      <td>-1.293841</td>\n",
       "      <td>1.994930</td>\n",
       "      <td>-13.235602</td>\n",
       "    </tr>\n",
       "    <tr>\n",
       "      <th>3</th>\n",
       "      <td>4</td>\n",
       "      <td>-1.309911</td>\n",
       "      <td>-2.506019</td>\n",
       "      <td>1.253174</td>\n",
       "      <td>3.283466</td>\n",
       "      <td>-0.936802</td>\n",
       "      <td>0.650320</td>\n",
       "      <td>0.208176</td>\n",
       "      <td>-1.446294</td>\n",
       "      <td>0.828209</td>\n",
       "      <td>2.080548</td>\n",
       "      <td>0.236855</td>\n",
       "    </tr>\n",
       "    <tr>\n",
       "      <th>4</th>\n",
       "      <td>5</td>\n",
       "      <td>0.786761</td>\n",
       "      <td>0.881352</td>\n",
       "      <td>-0.340254</td>\n",
       "      <td>-1.394215</td>\n",
       "      <td>0.717803</td>\n",
       "      <td>-0.134697</td>\n",
       "      <td>-0.408692</td>\n",
       "      <td>0.279844</td>\n",
       "      <td>-0.411956</td>\n",
       "      <td>-0.681040</td>\n",
       "      <td>-5.260961</td>\n",
       "    </tr>\n",
       "    <tr>\n",
       "      <th>...</th>\n",
       "      <td>...</td>\n",
       "      <td>...</td>\n",
       "      <td>...</td>\n",
       "      <td>...</td>\n",
       "      <td>...</td>\n",
       "      <td>...</td>\n",
       "      <td>...</td>\n",
       "      <td>...</td>\n",
       "      <td>...</td>\n",
       "      <td>...</td>\n",
       "      <td>...</td>\n",
       "      <td>...</td>\n",
       "    </tr>\n",
       "    <tr>\n",
       "      <th>895</th>\n",
       "      <td>995</td>\n",
       "      <td>3.130305</td>\n",
       "      <td>1.569587</td>\n",
       "      <td>-0.196364</td>\n",
       "      <td>-1.079102</td>\n",
       "      <td>0.461223</td>\n",
       "      <td>2.725660</td>\n",
       "      <td>-1.339184</td>\n",
       "      <td>0.996833</td>\n",
       "      <td>-0.970232</td>\n",
       "      <td>-0.965126</td>\n",
       "      <td>-4.905278</td>\n",
       "    </tr>\n",
       "    <tr>\n",
       "      <th>896</th>\n",
       "      <td>996</td>\n",
       "      <td>0.882832</td>\n",
       "      <td>-1.408377</td>\n",
       "      <td>2.570194</td>\n",
       "      <td>0.486270</td>\n",
       "      <td>0.818461</td>\n",
       "      <td>2.046682</td>\n",
       "      <td>-2.299856</td>\n",
       "      <td>-1.796541</td>\n",
       "      <td>-2.010109</td>\n",
       "      <td>2.765260</td>\n",
       "      <td>-4.246608</td>\n",
       "    </tr>\n",
       "    <tr>\n",
       "      <th>897</th>\n",
       "      <td>997</td>\n",
       "      <td>-1.524617</td>\n",
       "      <td>-0.920628</td>\n",
       "      <td>0.699234</td>\n",
       "      <td>0.326355</td>\n",
       "      <td>0.562563</td>\n",
       "      <td>-1.797492</td>\n",
       "      <td>-0.530307</td>\n",
       "      <td>-1.772910</td>\n",
       "      <td>0.219859</td>\n",
       "      <td>1.655470</td>\n",
       "      <td>-4.587023</td>\n",
       "    </tr>\n",
       "    <tr>\n",
       "      <th>898</th>\n",
       "      <td>998</td>\n",
       "      <td>-4.056466</td>\n",
       "      <td>-1.586197</td>\n",
       "      <td>3.461764</td>\n",
       "      <td>-0.100583</td>\n",
       "      <td>-1.661877</td>\n",
       "      <td>-1.045096</td>\n",
       "      <td>-0.063807</td>\n",
       "      <td>-0.631540</td>\n",
       "      <td>-3.785526</td>\n",
       "      <td>4.114990</td>\n",
       "      <td>-7.648747</td>\n",
       "    </tr>\n",
       "    <tr>\n",
       "      <th>899</th>\n",
       "      <td>999</td>\n",
       "      <td>0.677428</td>\n",
       "      <td>0.748272</td>\n",
       "      <td>-1.199789</td>\n",
       "      <td>1.008086</td>\n",
       "      <td>-0.992701</td>\n",
       "      <td>0.778885</td>\n",
       "      <td>0.683108</td>\n",
       "      <td>1.025285</td>\n",
       "      <td>1.282251</td>\n",
       "      <td>-1.143313</td>\n",
       "      <td>-2.247172</td>\n",
       "    </tr>\n",
       "  </tbody>\n",
       "</table>\n",
       "<p>900 rows × 12 columns</p>\n",
       "</div>"
      ],
      "text/plain": [
       "     Unnamed: 0         0         1         2         3         4         5  \\\n",
       "0             0 -0.019734 -2.293412 -1.990040  2.077776  0.517476 -0.414082   \n",
       "1             1  0.807845 -0.755991  0.666609 -0.631528  1.335432  0.475088   \n",
       "2             3  1.490152  3.544350  0.126952 -2.002267  0.526118 -0.357506   \n",
       "3             4 -1.309911 -2.506019  1.253174  3.283466 -0.936802  0.650320   \n",
       "4             5  0.786761  0.881352 -0.340254 -1.394215  0.717803 -0.134697   \n",
       "..          ...       ...       ...       ...       ...       ...       ...   \n",
       "895         995  3.130305  1.569587 -0.196364 -1.079102  0.461223  2.725660   \n",
       "896         996  0.882832 -1.408377  2.570194  0.486270  0.818461  2.046682   \n",
       "897         997 -1.524617 -0.920628  0.699234  0.326355  0.562563 -1.797492   \n",
       "898         998 -4.056466 -1.586197  3.461764 -0.100583 -1.661877 -1.045096   \n",
       "899         999  0.677428  0.748272 -1.199789  1.008086 -0.992701  0.778885   \n",
       "\n",
       "            6         7         8         9    Predict  \n",
       "0    2.983293  0.355151  3.691985 -3.158359   5.778825  \n",
       "1   -0.693739 -0.726469 -0.601803  0.123827  -3.011382  \n",
       "2   -3.680189 -1.032858 -1.293841  1.994930 -13.235602  \n",
       "3    0.208176 -1.446294  0.828209  2.080548   0.236855  \n",
       "4   -0.408692  0.279844 -0.411956 -0.681040  -5.260961  \n",
       "..        ...       ...       ...       ...        ...  \n",
       "895 -1.339184  0.996833 -0.970232 -0.965126  -4.905278  \n",
       "896 -2.299856 -1.796541 -2.010109  2.765260  -4.246608  \n",
       "897 -0.530307 -1.772910  0.219859  1.655470  -4.587023  \n",
       "898 -0.063807 -0.631540 -3.785526  4.114990  -7.648747  \n",
       "899  0.683108  1.025285  1.282251 -1.143313  -2.247172  \n",
       "\n",
       "[900 rows x 12 columns]"
      ]
     },
     "execution_count": 1,
     "metadata": {},
     "output_type": "execute_result"
    }
   ],
   "source": [
    "import pandas as pd\n",
    "\n",
    "df = pd.read_csv(\"C:\\\\Users\\In9.var\\Desktop\\Projects\\data3\\\\train_simple_reg.csv\")\n",
    "df"
   ]
  },
  {
   "cell_type": "code",
   "execution_count": 2,
   "metadata": {},
   "outputs": [
    {
     "name": "stdout",
     "output_type": "stream",
     "text": [
      "<class 'pandas.core.frame.DataFrame'>\n",
      "RangeIndex: 900 entries, 0 to 899\n",
      "Data columns (total 12 columns):\n",
      " #   Column      Non-Null Count  Dtype  \n",
      "---  ------      --------------  -----  \n",
      " 0   Unnamed: 0  900 non-null    int64  \n",
      " 1   0           900 non-null    float64\n",
      " 2   1           900 non-null    float64\n",
      " 3   2           900 non-null    float64\n",
      " 4   3           900 non-null    float64\n",
      " 5   4           900 non-null    float64\n",
      " 6   5           900 non-null    float64\n",
      " 7   6           900 non-null    float64\n",
      " 8   7           900 non-null    float64\n",
      " 9   8           900 non-null    float64\n",
      " 10  9           900 non-null    float64\n",
      " 11  Predict     900 non-null    float64\n",
      "dtypes: float64(11), int64(1)\n",
      "memory usage: 84.5 KB\n"
     ]
    }
   ],
   "source": [
    "df.info()"
   ]
  },
  {
   "cell_type": "code",
   "execution_count": 3,
   "metadata": {},
   "outputs": [],
   "source": [
    "X = df.drop([\"Unnamed: 0\", \"Predict\"], axis=1)\n",
    "y = df[\"Predict\"]"
   ]
  },
  {
   "cell_type": "code",
   "execution_count": 6,
   "metadata": {},
   "outputs": [
    {
     "name": "stdout",
     "output_type": "stream",
     "text": [
      "0.6757790399514878\n"
     ]
    }
   ],
   "source": [
    "from sklearn.model_selection import train_test_split\n",
    "import sklearn\n",
    "\n",
    "X_train, X_test, y_train, y_test = train_test_split(X, y, test_size=1/3, random_state=42)\n",
    "\n",
    "from sklearn.ensemble import RandomForestRegressor\n",
    "\n",
    "clf = RandomForestRegressor(random_state=42)\n",
    "clf.fit(X_train, y_train)\n",
    "y_pred = clf.predict(X_test)\n",
    "print(sklearn.metrics.mean_absolute_error(y_test, clf.predict(X_test)))"
   ]
  },
  {
   "cell_type": "code",
   "execution_count": 7,
   "metadata": {},
   "outputs": [
    {
     "name": "stdout",
     "output_type": "stream",
     "text": [
      "3.54630676676256e-15\n"
     ]
    }
   ],
   "source": [
    "from sklearn.linear_model import  LinearRegression\n",
    "\n",
    "model = LinearRegression()\n",
    "model.fit(X_train, y_train)\n",
    "print(sklearn.metrics.mean_absolute_error(y_test, model.predict(X_test)))"
   ]
  },
  {
   "cell_type": "code",
   "execution_count": 8,
   "metadata": {},
   "outputs": [
    {
     "name": "stdout",
     "output_type": "stream",
     "text": [
      "(15, 1.1895325728038124)\n"
     ]
    }
   ],
   "source": [
    "from sklearn.tree import DecisionTreeRegressor\n",
    "\n",
    "scores=[]\n",
    "for i in range(1, 20):\n",
    "    tree = DecisionTreeRegressor(criterion='mse', max_depth=i, random_state=42)\n",
    "    tree.fit(X_train, y_train)\n",
    "    scores.append((i, sklearn.metrics.mean_absolute_error(y_test, tree.predict(X_test))))\n",
    "print(min(scores, key=lambda x: x[1]))"
   ]
  },
  {
   "cell_type": "code",
   "execution_count": 9,
   "metadata": {},
   "outputs": [
    {
     "name": "stdout",
     "output_type": "stream",
     "text": [
      "(1, 1.050403140631066) (2, 0.8613410447144058) (3, 0.848032945112994) (4, 0.8149183754369617) (5, 0.7747807119638966) (6, 0.8284038833210273) (7, 0.8216847562304967) (8, 0.7952428560400775) (9, 0.7966336531342696) (10, 0.8220090409298263) (11, 0.8373792314591257)\n",
      "(5, 0.7747807119638966)\n"
     ]
    }
   ],
   "source": [
    "from sklearn.neighbors import KNeighborsRegressor\n",
    "\n",
    "scores=[]\n",
    "for i in range(1, 12):\n",
    "    knn = KNeighborsRegressor(i)\n",
    "    knn.fit(X_train, y_train)\n",
    "    scores.append((i, sklearn.metrics.mean_absolute_error(y_test, knn.predict(X_test))))\n",
    "print(*scores)\n",
    "print(min(scores, key=lambda x: x[1]))"
   ]
  },
  {
   "cell_type": "markdown",
   "metadata": {},
   "source": [
    "LinerRegression показала наилучшие результаты"
   ]
  },
  {
   "cell_type": "code",
   "execution_count": 10,
   "metadata": {},
   "outputs": [
    {
     "data": {
      "text/plain": [
       "LinearRegression()"
      ]
     },
     "execution_count": 10,
     "metadata": {},
     "output_type": "execute_result"
    }
   ],
   "source": [
    "model = LinearRegression()\n",
    "model.fit(X, y)"
   ]
  },
  {
   "cell_type": "code",
   "execution_count": 12,
   "metadata": {},
   "outputs": [
    {
     "data": {
      "text/plain": [
       "array([  2.3681824 ,   2.90174376,  -5.79901408, -12.77574291,\n",
       "        -4.00885638,  -4.44175745,  -1.57903697,  -3.64333624,\n",
       "        -7.04551887,  -8.19866467,   2.66906506,  -5.11617315,\n",
       "        -0.1451319 ,   3.17934795,  -5.57420855,  -8.99271045,\n",
       "        -7.60808719,  -0.52670723,  -1.68518524,  -4.59470589,\n",
       "        -2.84443814, -12.74993315, -11.01672323,  -1.71730718,\n",
       "       -18.029801  ,  -8.09754657,  -5.60689592,  -7.68025535,\n",
       "         1.92589941,   3.56392995,  -4.68484375,  -9.55242738,\n",
       "        -3.24402662,  -0.08149652,  -2.92646086,   0.84057806,\n",
       "        -7.41767579,  -7.85660981,  -6.78842583,  -0.53521717,\n",
       "         0.07102973,  -6.4229036 ,  -3.3873022 ,  -3.98200828,\n",
       "       -10.62680653,  -7.31027196,  -0.78460229,   8.74232168,\n",
       "        -2.4349823 ,   0.69942642, -11.03667348,   5.92761289,\n",
       "        -3.1458432 ,   1.92941608,  -1.59383917,  -9.69314793,\n",
       "       -13.18479383,  -2.50722521,  -1.29725203,  -6.50414515,\n",
       "        -0.74430082,  -2.17811026,  -2.87926424,  -0.34126306,\n",
       "        -6.61397223,  -4.19933126,   2.25825196,  -1.35203802,\n",
       "        -6.38764583, -12.50873367, -15.33686527,  -1.48839311,\n",
       "        -4.57702448,  -0.43675757,  -7.57561614,   0.76865536,\n",
       "       -11.7338628 ,  -9.42509427,  -8.79455397,  -4.51949071,\n",
       "        -7.43687959,   2.90982424,  -7.43753999,  -8.11325357,\n",
       "        -6.37793169,  -3.233711  ,   1.38159657,   1.25569915,\n",
       "        -2.72039689,   0.29207266,  -3.02780485,  -7.69345522,\n",
       "        -5.40806294,   0.36410923,  -8.28957437,  -2.14727624,\n",
       "       -16.44601668,   1.40229341,  -0.49655008,  -4.01916631])"
      ]
     },
     "execution_count": 12,
     "metadata": {},
     "output_type": "execute_result"
    }
   ],
   "source": [
    "test = pd.read_csv(\"C:\\\\Users\\In9.var\\Desktop\\Projects\\data3\\\\test_simple_reg.csv\")\n",
    "test = test.drop([\"Unnamed: 0\"], axis=1)\n",
    "pre = model.predict(test)\n",
    "pre"
   ]
  },
  {
   "cell_type": "code",
   "execution_count": 13,
   "metadata": {},
   "outputs": [],
   "source": [
    "pre = pd.DataFrame(pre, columns=['Predict'])\n",
    "pre.reset_index(inplace=True)\n",
    "pre.to_csv('C:\\\\Users\\In9.var\\Desktop\\Projects\\data2\\submition_R_Igor.csv', index=False)"
   ]
  },
  {
   "cell_type": "code",
   "execution_count": null,
   "metadata": {},
   "outputs": [],
   "source": []
  }
 ],
 "metadata": {
  "kernelspec": {
   "display_name": "Python 3",
   "language": "python",
   "name": "python3"
  },
  "language_info": {
   "codemirror_mode": {
    "name": "ipython",
    "version": 3
   },
   "file_extension": ".py",
   "mimetype": "text/x-python",
   "name": "python",
   "nbconvert_exporter": "python",
   "pygments_lexer": "ipython3",
   "version": "3.8.3"
  }
 },
 "nbformat": 4,
 "nbformat_minor": 4
}
