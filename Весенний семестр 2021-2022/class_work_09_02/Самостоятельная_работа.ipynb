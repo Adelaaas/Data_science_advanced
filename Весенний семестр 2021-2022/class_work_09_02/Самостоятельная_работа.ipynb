{
  "nbformat": 4,
  "nbformat_minor": 0,
  "metadata": {
    "colab": {
      "name": "Самостоятельная работа.ipynb",
      "provenance": []
    },
    "kernelspec": {
      "name": "python3",
      "display_name": "Python 3"
    },
    "language_info": {
      "name": "python"
    }
  },
  "cells": [
    {
      "cell_type": "markdown",
      "source": [
        "# Задача 1. Предсказание осадков"
      ],
      "metadata": {
        "id": "eXB0n27YAjED"
      }
    },
    {
      "cell_type": "markdown",
      "source": [
        "На основе информации про текущий день нужно определить, будут ли осадки завтра.\n",
        "\n",
        "Предсказываемая колонка — RainTomorrow.\n",
        "\n",
        "В обучающих данных (train) есть целевая переменная RainTomorrow, в тестовых данных (test) она отсутствует.\n",
        "\n",
        "Результатом должен быть .csv файл с двумя колонками: index строки, i-я строка в котором содержит ответ на i-ю строку файла test_data.csv\n",
        "\n",
        "https://www.kaggle.com/c/weather-prediction/overview"
      ],
      "metadata": {
        "id": "v_2K0yfhAllg"
      }
    },
    {
      "cell_type": "code",
      "source": [
        "# ваше решение тут"
      ],
      "metadata": {
        "id": "gW6cc9wKAo1W"
      },
      "execution_count": null,
      "outputs": []
    },
    {
      "cell_type": "markdown",
      "source": [
        "# Задача 2."
      ],
      "metadata": {
        "id": "0G1UpzaULMvH"
      }
    },
    {
      "cell_type": "markdown",
      "source": [
        "**Задана функция** $f:R^{10} → R$. Вам нужно предсказать значения функции на тестовых данных, обучившись на размеченных данных.\n",
        "\n",
        "Метрика качества Mean Average Error $MAE = \\sum_{i=0}^{99} |f_{predicted}(x_i)-f(x_i)|$.\n",
        "\n",
        "Тестовые данные: $i,x_i$ для $0≤i≤99$. Где $x_i$ — десятимерные вектора.\n",
        "\n",
        "https://www.kaggle.com/c/simple-regression/overview"
      ],
      "metadata": {
        "id": "KcG5KhjuLO_9"
      }
    },
    {
      "cell_type": "code",
      "source": [
        "# ваше решение тут"
      ],
      "metadata": {
        "id": "kK0KYAoxLQol"
      },
      "execution_count": null,
      "outputs": []
    }
  ]
}