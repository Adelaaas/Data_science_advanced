{
  "nbformat": 4,
  "nbformat_minor": 0,
  "metadata": {
    "colab": {
      "name": "Untitled22.ipynb",
      "provenance": []
    },
    "kernelspec": {
      "name": "python3",
      "display_name": "Python 3"
    },
    "language_info": {
      "name": "python"
    }
  },
  "cells": [
    {
      "cell_type": "markdown",
      "metadata": {
        "id": "ZFp262z9_Bvd"
      },
      "source": [
        "Севастьянов дз1 Задача 3"
      ]
    },
    {
      "cell_type": "code",
      "metadata": {
        "colab": {
          "base_uri": "https://localhost:8080/"
        },
        "id": "zgwd6Dhez4HZ",
        "outputId": "4ae7b5aa-fd4f-4f0d-9482-b970fc0c23c1"
      },
      "source": [
        "n=input()\n",
        "a={'zero':0, 'one':1, 'two':2, 'three':3, 'four':4, 'five':5, 'six':6, 'seven':7, 'eight':8, 'nine':9, 'ten':10, 'eleven':11, 'twelve':12, 'thirteen':13, 'fourteen':14, 'fifteen':15, 'sixteen':16, 'seventeen':17, 'eighteen':18, 'nineteen':19}\n",
        "b={'twenty':20, 'thirty':30, 'forty':40, 'fifty':50, 'sixty':60, 'seventy':70, 'eighty':80, 'ninety':90}\n",
        "\n",
        "a1={ 10:'ten', 11:'eleven', 12:'twelve', 13:'thirteen', 14:'fourteen', 15:'fifteen', 16:'sixteen', 17:'seventeen', 18:'eighteen', 19:'nineteen'}\n",
        "b1={20:'twenty', 30:'thirty', 40:'forty', 50:'fifty', 60:'sixty', 70:'seventy', 80:'eighty', 90:'ninety'}\n",
        "c1={0:'zero', 1:'one', 2:'two', 3:'three', 4:'four', 5:'five', 6:'six', 7:'seven', 8:'eight', 9:'nine'}\n",
        "for i in range(0,int(n)):\n",
        "  s=input()\n",
        "  s = s.split()\n",
        "  \n",
        "  if(s[0] in b):\n",
        "    z1=b[s[0]]\n",
        "    if(s[1] in a):\n",
        "      z1=z1+a[s[1]]\n",
        "  else:\n",
        "    if(s[0] in a):\n",
        "      z1=a[s[0]]\n",
        "    if(s[0] in b):\n",
        "      z1=b[s[0]]\n",
        "\n",
        "  if(s[-2] in b):\n",
        "    z2=b[s[-2]]\n",
        "    if(s[-1] in a):\n",
        "      z2=z2+a[s[-1]]\n",
        "  else:\n",
        "    if(s[-1] in a):\n",
        "      z2=a[s[-1]]\n",
        "    if(s[-1] in b):\n",
        "      z2=b[s[-1]]\n",
        "\n",
        "  if(s[2]=='plus' or s[1]=='plus' ):\n",
        "    sum=z1+z2\n",
        "    if(sum<10):\n",
        "      print(c1[sum])\n",
        "    if(sum>9 and sum%10==0):\n",
        "      print(b1[sum])\n",
        "    if(sum>9 and sum%10!=0):\n",
        "      if(sum in a1):\n",
        "        print(a1[sum])\n",
        "      else:\n",
        "        print(b1[sum-sum%10]+\" \"+c1[sum%10])\n",
        "    #print(z1+z2)\n",
        "  if(s[2]=='minus' or s[1]=='minus' ):\n",
        "    #print(z1-z2)\n",
        "    sum=z1-z2\n",
        "    if(sum>0):\n",
        "      if(sum<10):\n",
        "        print(c1[sum])\n",
        "      if(sum>9 and sum%10==0):\n",
        "        print(b1[sum])\n",
        "      if(sum>9 and sum%10!=0):\n",
        "        if(sum in a1):\n",
        "          print(a1[sum])\n",
        "        else:\n",
        "          print(b1[sum-sum%10]+\" \"+c1[sum%10])\n",
        "    else:\n",
        "      sum=-sum\n",
        "      if(sum<10):\n",
        "        print('minus '+c1[sum])\n",
        "      if(sum>9 and sum%10==0):\n",
        "        print('minus '+b1[sum])\n",
        "      if(sum>9 and sum%10!=0):\n",
        "        if(sum in a1):\n",
        "          print('minus '+a1[sum])\n",
        "        else:\n",
        "          print('minus '+b1[sum-sum%10]+\" \"+c1[sum%10])\n",
        "\n"
      ],
      "execution_count": 20,
      "outputs": [
        {
          "output_type": "stream",
          "name": "stdout",
          "text": [
            "1\n",
            "one minus two\n",
            "minus one\n"
          ]
        }
      ]
    }
  ]
}