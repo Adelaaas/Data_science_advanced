{
  "nbformat": 4,
  "nbformat_minor": 0,
  "metadata": {
    "colab": {
      "name": "Rasyuk.ipynb",
      "provenance": [],
      "collapsed_sections": []
    },
    "kernelspec": {
      "name": "python3",
      "display_name": "Python 3"
    },
    "language_info": {
      "name": "python"
    }
  },
  "cells": [
    {
      "cell_type": "code",
      "metadata": {
        "colab": {
          "base_uri": "https://localhost:8080/"
        },
        "id": "v370pQ4-Vz83",
        "outputId": "a41f61b9-0f12-456a-94e4-ef26c5c4fe78"
      },
      "source": [
        "s = input().split()\n",
        "n = int(s[0])\n",
        "p = int(s[1])\n",
        "for i in range(n):\n",
        "  sp = list(input())\n",
        "  fl = False\n",
        "  try:\n",
        "    for j in range(len(sp)):\n",
        "      if sp[j+b] != sp[j]:\n",
        "        if sp[j] == '?' and sp[j+p] == '?':\n",
        "          sp[j+p] = sp[j]\n",
        "        else:\n",
        "          fl += not(fl)\n",
        "          break\n",
        "  except Exception:\n",
        "    pass\n",
        "  if fl == False:\n",
        "    print('YES')\n",
        "  else:\n",
        "    print('NO')"
      ],
      "execution_count": 21,
      "outputs": [
        {
          "output_type": "stream",
          "name": "stdout",
          "text": [
            "2 4\n",
            "abacabaca\n",
            "YES\n",
            "abracadabra\n",
            "NO\n"
          ]
        }
      ]
    }
  ]
}