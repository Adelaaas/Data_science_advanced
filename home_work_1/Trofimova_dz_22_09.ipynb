{
  "nbformat": 4,
  "nbformat_minor": 0,
  "metadata": {
    "colab": {
      "name": "Untitled1.ipynb",
      "provenance": []
    },
    "kernelspec": {
      "name": "python3",
      "display_name": "Python 3"
    },
    "language_info": {
      "name": "python"
    }
  },
  "cells": [
    {
      "cell_type": "markdown",
      "metadata": {
        "id": "Mt5PrXJl1yHi"
      },
      "source": [
        "Задача 2.\n",
        "Кто делает: Расюк, Рябов, Дынник, Трофимова\n",
        "\n",
        "Сенсация! Известный специалист по UFO профессор Персиков получил послание от внеземного разума. Во всяком случае он так считает. Послание представляет собой непрерывную последовательность из сигналов нескольких типов, каждый из этих типов для определенности можно обозначить малой буквой латинского алфавита. Профессор считает, что доказательством искусственности происхождения сигнала служит его периодичность. При этом период должен быть строго равен «константе Персикова» — числу P. Такую последовательность назовем P — периодичной.\n",
        "\n",
        "К сожалению, некоторые сигналы из-за прохождения сквозь бездны пространства (а может даже и времени) были утеряны. Их заменили на знак вопроса. Теперь профессору для дальнейшей работы требуется выяснить, можно ли как-то заменить утерянные сигналы на буквы так, чтобы последовательность стала P — периодичной. Для чистоты эксперимента полученная из космоса последовательность была размещена среди себе подобных. Не подведите, в ваших руках — будущее межгалактических взаимоотношений!\n",
        "\n",
        "Формат входных данных\n",
        "\n",
        "В первой строке содержится два числа через пробел: N — общее количество строк, которые вам нужно проверить на P-периодичность и число P — константа Персикова (1 <= P <= 510^3). Далее содержится N непустых строк, состоящих из малых букв латиницы и знаков вопроса. 1 <= N <= 510^4 , суммарная длина всех строк не превосходит 2*10^5.\n",
        "\n",
        "Формат выходных данных\n",
        "\n",
        "Вывести N строк, в каждой из которых вывести либо «YES», если соответствующую строку можно сделать P-периодичной путем замены всех знаков вопроса на некоторые буквы, и «NO» в противном случае. Будем считать последовательность P-периодичной, если для любых двух символов, расстояние между которыми кратно P верно, что они совпадают."
      ]
    },
    {
      "cell_type": "code",
      "metadata": {
        "colab": {
          "base_uri": "https://localhost:8080/"
        },
        "id": "1NcgFR102wgd",
        "outputId": "973acb3f-34cc-4495-df4b-8454681e400c"
      },
      "source": [
        "def ufo(s,p):\n",
        "  for a in range(0,len(s)-p):\n",
        "    if (s[a]!=s[a+p])&(s[a]!='?')&(s[a+p]!='?'):\n",
        "      return 'NO'\n",
        "  return 'YES'\n",
        "  \n",
        "\n",
        "n=int(input())\n",
        "p=int(input())\n",
        "l=[]\n",
        "for i in range(0,n):\n",
        "  m=input()\n",
        "  an=ufo(m,p)\n",
        "  l.append(an)\n",
        "for i in range(0,n):\n",
        "  print(l[i])\n",
        "\n"
      ],
      "execution_count": null,
      "outputs": [
        {
          "output_type": "stream",
          "name": "stdout",
          "text": [
            "3\n",
            "3\n",
            "???\n",
            "abc??c\n",
            "aaa?aaaaa\n",
            "YES\n",
            "YES\n",
            "YES\n"
          ]
        }
      ]
    },
    {
      "cell_type": "markdown",
      "metadata": {
        "id": "U-n3Zi4Y7lsa"
      },
      "source": [
        "Задача 4. Общая задача.\n",
        "Можно ли узнать возраст клиента на основе информации о его расходах по карте? Мы подготовили задачу на базе реальных банковских транзакций. Совершенствуя свои продукты, банк использует информацию о пользователях, в том числе и возраст. Это помогает сделать персонализированные продукты, которые удовлетворяют реальные потребности клиентов. Но всегда ли календарный возраст соответствует образу жизни (и покупок) человека?\n",
        "\n",
        "Ваша задача — по информации о расходах клиента банка предсказать, в какую из возрастных групп он попадает. Даны обучающие train данные для построения признаков и обучения моделей, и тестовые test данные для проверки алгоритмов. Это специальным образом подготовленная и анонимизированная информация, на которой можно обучать модели, сохраняя полную безопасность реальных данных клиентов. Решением задачи являются предсказания алгоритмов на тестовых данных. Чем меньше ошибок совершит ваш алгоритм, тем выше вы поднимитесь в рейтинге!\n",
        "\n",
        "Данные\n",
        "\n",
        "Для решения задачи участникам предоставляется информация о транзакциях клиентов банка. Объемом около 27000000 миллионов записей. Каждая запись описывает одну банковскую транзакцию. Для каждого из ≈ 20000 тестовых id, участникам необходимо с помощью обученной модели предсказать, в какую из возрастных групп попадает Клиент.\n",
        "\n",
        "Подготовлено два набора данных:\n",
        "\n",
        "Обучающий transactions_train.csv, в котором для каждой транзакции известна дата, сумма, тип и id клиента;\n",
        "Тестовый transactions_test.csv, содержащий те же поля:\n",
        "сlient_id – уникальный номер клиента;\n",
        "trans_date – дата транзакции (представляет из себя просто номер дня в хронологическом порядке, начиная от заданной даты);\n",
        "small_group – группа транзакций, характеризующих тип транзакции (например, продуктовые магазины, одежда, заправки, детские товары и т.п.);\n",
        "amount_rur – сумма транзакции (для анонимизации данные суммы были трансформированы без потери структуры).\n",
        "На базе данных файлов можно строить различные признаки, которые характеризуют возрастные группы.\n",
        "\n",
        "Целевая переменная для обучающего датасета находится в файле train_target.csv.\n",
        "\n",
        "В нем содержится информация о Клиенте и метка возрастной группы, к которой он относится:\n",
        "\n",
        "client_id – уникальный номер Клиента (соответствует client_id и файла transactions_train.csv);\n",
        "bins – метка возраста. В файлe test.csv вам надо предсказать для указанных client_id соответствующую метку группы возраста.\n",
        "Участникам также предоставлен информационный файл small_group_description.csv, который содержит расшифровку типов транзакций.\n",
        "\n",
        "Наборы данных и базовое решени: https://drive.google.com/drive/folders/1y0Ua0pO9Fo6iWfa-yoJ8KvUhPXUbUafF?usp=sharing"
      ]
    },
    {
      "cell_type": "code",
      "metadata": {
        "id": "1Sm6ldSG-l4R"
      },
      "source": [
        "import pandas as pd"
      ],
      "execution_count": null,
      "outputs": []
    },
    {
      "cell_type": "code",
      "metadata": {
        "id": "T_38V5I97k0M"
      },
      "source": [
        "df1=pd.read_csv('/content/drive/MyDrive/transactions_train.csv')"
      ],
      "execution_count": null,
      "outputs": []
    },
    {
      "cell_type": "code",
      "metadata": {
        "id": "9BvhrJNb_Yti"
      },
      "source": [
        "name=pd.read_csv('/content/drive/MyDrive/train_target.csv')"
      ],
      "execution_count": null,
      "outputs": []
    },
    {
      "cell_type": "code",
      "metadata": {
        "colab": {
          "base_uri": "https://localhost:8080/",
          "height": 419
        },
        "id": "lMFXZeX-_Deq",
        "outputId": "aaafbafb-9120-4933-a5cf-1ea4ae5794d6"
      },
      "source": [
        "df1"
      ],
      "execution_count": null,
      "outputs": [
        {
          "output_type": "execute_result",
          "data": {
            "text/html": [
              "<div>\n",
              "<style scoped>\n",
              "    .dataframe tbody tr th:only-of-type {\n",
              "        vertical-align: middle;\n",
              "    }\n",
              "\n",
              "    .dataframe tbody tr th {\n",
              "        vertical-align: top;\n",
              "    }\n",
              "\n",
              "    .dataframe thead th {\n",
              "        text-align: right;\n",
              "    }\n",
              "</style>\n",
              "<table border=\"1\" class=\"dataframe\">\n",
              "  <thead>\n",
              "    <tr style=\"text-align: right;\">\n",
              "      <th></th>\n",
              "      <th>client_id</th>\n",
              "      <th>trans_date</th>\n",
              "      <th>small_group</th>\n",
              "      <th>amount_rur</th>\n",
              "    </tr>\n",
              "  </thead>\n",
              "  <tbody>\n",
              "    <tr>\n",
              "      <th>0</th>\n",
              "      <td>33172</td>\n",
              "      <td>6</td>\n",
              "      <td>4</td>\n",
              "      <td>71.463</td>\n",
              "    </tr>\n",
              "    <tr>\n",
              "      <th>1</th>\n",
              "      <td>33172</td>\n",
              "      <td>6</td>\n",
              "      <td>35</td>\n",
              "      <td>45.017</td>\n",
              "    </tr>\n",
              "    <tr>\n",
              "      <th>2</th>\n",
              "      <td>33172</td>\n",
              "      <td>8</td>\n",
              "      <td>11</td>\n",
              "      <td>13.887</td>\n",
              "    </tr>\n",
              "    <tr>\n",
              "      <th>3</th>\n",
              "      <td>33172</td>\n",
              "      <td>9</td>\n",
              "      <td>11</td>\n",
              "      <td>15.983</td>\n",
              "    </tr>\n",
              "    <tr>\n",
              "      <th>4</th>\n",
              "      <td>33172</td>\n",
              "      <td>10</td>\n",
              "      <td>11</td>\n",
              "      <td>21.341</td>\n",
              "    </tr>\n",
              "    <tr>\n",
              "      <th>...</th>\n",
              "      <td>...</td>\n",
              "      <td>...</td>\n",
              "      <td>...</td>\n",
              "      <td>...</td>\n",
              "    </tr>\n",
              "    <tr>\n",
              "      <th>26450572</th>\n",
              "      <td>43300</td>\n",
              "      <td>727</td>\n",
              "      <td>25</td>\n",
              "      <td>7.602</td>\n",
              "    </tr>\n",
              "    <tr>\n",
              "      <th>26450573</th>\n",
              "      <td>43300</td>\n",
              "      <td>727</td>\n",
              "      <td>15</td>\n",
              "      <td>3.709</td>\n",
              "    </tr>\n",
              "    <tr>\n",
              "      <th>26450574</th>\n",
              "      <td>43300</td>\n",
              "      <td>727</td>\n",
              "      <td>1</td>\n",
              "      <td>6.448</td>\n",
              "    </tr>\n",
              "    <tr>\n",
              "      <th>26450575</th>\n",
              "      <td>43300</td>\n",
              "      <td>727</td>\n",
              "      <td>11</td>\n",
              "      <td>24.669</td>\n",
              "    </tr>\n",
              "    <tr>\n",
              "      <th>26450576</th>\n",
              "      <td>43300</td>\n",
              "      <td>729</td>\n",
              "      <td>3</td>\n",
              "      <td>19.408</td>\n",
              "    </tr>\n",
              "  </tbody>\n",
              "</table>\n",
              "<p>26450577 rows × 4 columns</p>\n",
              "</div>"
            ],
            "text/plain": [
              "          client_id  trans_date  small_group  amount_rur\n",
              "0             33172           6            4      71.463\n",
              "1             33172           6           35      45.017\n",
              "2             33172           8           11      13.887\n",
              "3             33172           9           11      15.983\n",
              "4             33172          10           11      21.341\n",
              "...             ...         ...          ...         ...\n",
              "26450572      43300         727           25       7.602\n",
              "26450573      43300         727           15       3.709\n",
              "26450574      43300         727            1       6.448\n",
              "26450575      43300         727           11      24.669\n",
              "26450576      43300         729            3      19.408\n",
              "\n",
              "[26450577 rows x 4 columns]"
            ]
          },
          "metadata": {},
          "execution_count": 4
        }
      ]
    },
    {
      "cell_type": "code",
      "metadata": {
        "colab": {
          "base_uri": "https://localhost:8080/"
        },
        "id": "yiZOnBfe-7jE",
        "outputId": "e7713108-8c7d-499b-f155-4aac6ed592d0"
      },
      "source": [
        "df1.info"
      ],
      "execution_count": null,
      "outputs": [
        {
          "output_type": "execute_result",
          "data": {
            "text/plain": [
              "<bound method DataFrame.info of           client_id  trans_date  small_group  amount_rur\n",
              "0             33172           6            4      71.463\n",
              "1             33172           6           35      45.017\n",
              "2             33172           8           11      13.887\n",
              "3             33172           9           11      15.983\n",
              "4             33172          10           11      21.341\n",
              "...             ...         ...          ...         ...\n",
              "26450572      43300         727           25       7.602\n",
              "26450573      43300         727           15       3.709\n",
              "26450574      43300         727            1       6.448\n",
              "26450575      43300         727           11      24.669\n",
              "26450576      43300         729            3      19.408\n",
              "\n",
              "[26450577 rows x 4 columns]>"
            ]
          },
          "metadata": {},
          "execution_count": 5
        }
      ]
    },
    {
      "cell_type": "code",
      "metadata": {
        "colab": {
          "base_uri": "https://localhost:8080/"
        },
        "id": "Z-lO2m4I--G4",
        "outputId": "a15ffb74-7f88-4491-cf55-8048759f60f9"
      },
      "source": [
        "df1.isna().sum()"
      ],
      "execution_count": null,
      "outputs": [
        {
          "output_type": "execute_result",
          "data": {
            "text/plain": [
              "client_id      0\n",
              "trans_date     0\n",
              "small_group    0\n",
              "amount_rur     0\n",
              "dtype: int64"
            ]
          },
          "metadata": {},
          "execution_count": 6
        }
      ]
    },
    {
      "cell_type": "code",
      "metadata": {
        "id": "GiWmBvHD_BmY"
      },
      "source": [
        "df=pd.merge(df1,name,on='client_id')"
      ],
      "execution_count": null,
      "outputs": []
    },
    {
      "cell_type": "code",
      "metadata": {
        "colab": {
          "base_uri": "https://localhost:8080/",
          "height": 419
        },
        "id": "rn_hxWLn_2_d",
        "outputId": "999ed88e-abbc-4244-ba75-d8f3089af289"
      },
      "source": [
        "df"
      ],
      "execution_count": null,
      "outputs": [
        {
          "output_type": "execute_result",
          "data": {
            "text/html": [
              "<div>\n",
              "<style scoped>\n",
              "    .dataframe tbody tr th:only-of-type {\n",
              "        vertical-align: middle;\n",
              "    }\n",
              "\n",
              "    .dataframe tbody tr th {\n",
              "        vertical-align: top;\n",
              "    }\n",
              "\n",
              "    .dataframe thead th {\n",
              "        text-align: right;\n",
              "    }\n",
              "</style>\n",
              "<table border=\"1\" class=\"dataframe\">\n",
              "  <thead>\n",
              "    <tr style=\"text-align: right;\">\n",
              "      <th></th>\n",
              "      <th>client_id</th>\n",
              "      <th>trans_date</th>\n",
              "      <th>small_group</th>\n",
              "      <th>amount_rur</th>\n",
              "      <th>bins</th>\n",
              "    </tr>\n",
              "  </thead>\n",
              "  <tbody>\n",
              "    <tr>\n",
              "      <th>0</th>\n",
              "      <td>33172</td>\n",
              "      <td>6</td>\n",
              "      <td>4</td>\n",
              "      <td>71.463</td>\n",
              "      <td>0</td>\n",
              "    </tr>\n",
              "    <tr>\n",
              "      <th>1</th>\n",
              "      <td>33172</td>\n",
              "      <td>6</td>\n",
              "      <td>35</td>\n",
              "      <td>45.017</td>\n",
              "      <td>0</td>\n",
              "    </tr>\n",
              "    <tr>\n",
              "      <th>2</th>\n",
              "      <td>33172</td>\n",
              "      <td>8</td>\n",
              "      <td>11</td>\n",
              "      <td>13.887</td>\n",
              "      <td>0</td>\n",
              "    </tr>\n",
              "    <tr>\n",
              "      <th>3</th>\n",
              "      <td>33172</td>\n",
              "      <td>9</td>\n",
              "      <td>11</td>\n",
              "      <td>15.983</td>\n",
              "      <td>0</td>\n",
              "    </tr>\n",
              "    <tr>\n",
              "      <th>4</th>\n",
              "      <td>33172</td>\n",
              "      <td>10</td>\n",
              "      <td>11</td>\n",
              "      <td>21.341</td>\n",
              "      <td>0</td>\n",
              "    </tr>\n",
              "    <tr>\n",
              "      <th>...</th>\n",
              "      <td>...</td>\n",
              "      <td>...</td>\n",
              "      <td>...</td>\n",
              "      <td>...</td>\n",
              "      <td>...</td>\n",
              "    </tr>\n",
              "    <tr>\n",
              "      <th>26450572</th>\n",
              "      <td>43300</td>\n",
              "      <td>727</td>\n",
              "      <td>25</td>\n",
              "      <td>7.602</td>\n",
              "      <td>2</td>\n",
              "    </tr>\n",
              "    <tr>\n",
              "      <th>26450573</th>\n",
              "      <td>43300</td>\n",
              "      <td>727</td>\n",
              "      <td>15</td>\n",
              "      <td>3.709</td>\n",
              "      <td>2</td>\n",
              "    </tr>\n",
              "    <tr>\n",
              "      <th>26450574</th>\n",
              "      <td>43300</td>\n",
              "      <td>727</td>\n",
              "      <td>1</td>\n",
              "      <td>6.448</td>\n",
              "      <td>2</td>\n",
              "    </tr>\n",
              "    <tr>\n",
              "      <th>26450575</th>\n",
              "      <td>43300</td>\n",
              "      <td>727</td>\n",
              "      <td>11</td>\n",
              "      <td>24.669</td>\n",
              "      <td>2</td>\n",
              "    </tr>\n",
              "    <tr>\n",
              "      <th>26450576</th>\n",
              "      <td>43300</td>\n",
              "      <td>729</td>\n",
              "      <td>3</td>\n",
              "      <td>19.408</td>\n",
              "      <td>2</td>\n",
              "    </tr>\n",
              "  </tbody>\n",
              "</table>\n",
              "<p>26450577 rows × 5 columns</p>\n",
              "</div>"
            ],
            "text/plain": [
              "          client_id  trans_date  small_group  amount_rur  bins\n",
              "0             33172           6            4      71.463     0\n",
              "1             33172           6           35      45.017     0\n",
              "2             33172           8           11      13.887     0\n",
              "3             33172           9           11      15.983     0\n",
              "4             33172          10           11      21.341     0\n",
              "...             ...         ...          ...         ...   ...\n",
              "26450572      43300         727           25       7.602     2\n",
              "26450573      43300         727           15       3.709     2\n",
              "26450574      43300         727            1       6.448     2\n",
              "26450575      43300         727           11      24.669     2\n",
              "26450576      43300         729            3      19.408     2\n",
              "\n",
              "[26450577 rows x 5 columns]"
            ]
          },
          "metadata": {},
          "execution_count": 8
        }
      ]
    },
    {
      "cell_type": "code",
      "metadata": {
        "id": "xvxPKN-mBQfv"
      },
      "source": [
        "import xgboost as xgb"
      ],
      "execution_count": null,
      "outputs": []
    },
    {
      "cell_type": "code",
      "metadata": {
        "id": "7fPcG7ijBXRf"
      },
      "source": [
        "X=df.drop(['bins','client_id'],axis='columns')\n",
        "y=df.bins"
      ],
      "execution_count": null,
      "outputs": []
    },
    {
      "cell_type": "code",
      "metadata": {
        "colab": {
          "base_uri": "https://localhost:8080/"
        },
        "id": "2Y7zryTE_9rC",
        "outputId": "86d7e1d4-6b6e-46e3-e421-8bdf61b5a32c"
      },
      "source": [
        "model=xgb.XGBClassifier(objective='multi:softprob',num_class=4,n_jobs=4,seed=42,n_estimators=300)\n",
        "model.fit(X[:10000],y[:10000])"
      ],
      "execution_count": null,
      "outputs": [
        {
          "output_type": "execute_result",
          "data": {
            "text/plain": [
              "XGBClassifier(base_score=0.5, booster='gbtree', colsample_bylevel=1,\n",
              "              colsample_bynode=1, colsample_bytree=1, gamma=0,\n",
              "              learning_rate=0.1, max_delta_step=0, max_depth=3,\n",
              "              min_child_weight=1, missing=None, n_estimators=300, n_jobs=4,\n",
              "              nthread=None, num_class=4, objective='multi:softprob',\n",
              "              random_state=0, reg_alpha=0, reg_lambda=1, scale_pos_weight=1,\n",
              "              seed=42, silent=None, subsample=1, verbosity=1)"
            ]
          },
          "metadata": {},
          "execution_count": 25
        }
      ]
    },
    {
      "cell_type": "code",
      "metadata": {
        "id": "ApVpu7KHN_JU"
      },
      "source": [
        "test=pd.read_csv('/content/drive/MyDrive/transactions_test.csv')"
      ],
      "execution_count": null,
      "outputs": []
    },
    {
      "cell_type": "code",
      "metadata": {
        "id": "Qh1IGjp4OGFR"
      },
      "source": [
        "test\n",
        "X_test=test.drop(['client_id'],axis='columns')"
      ],
      "execution_count": null,
      "outputs": []
    },
    {
      "cell_type": "code",
      "metadata": {
        "colab": {
          "base_uri": "https://localhost:8080/",
          "height": 419
        },
        "id": "7-Oy8BWcOY1V",
        "outputId": "06da1a07-fbaf-43a4-d1c0-3d091211b2b8"
      },
      "source": [
        "X"
      ],
      "execution_count": null,
      "outputs": [
        {
          "output_type": "execute_result",
          "data": {
            "text/html": [
              "<div>\n",
              "<style scoped>\n",
              "    .dataframe tbody tr th:only-of-type {\n",
              "        vertical-align: middle;\n",
              "    }\n",
              "\n",
              "    .dataframe tbody tr th {\n",
              "        vertical-align: top;\n",
              "    }\n",
              "\n",
              "    .dataframe thead th {\n",
              "        text-align: right;\n",
              "    }\n",
              "</style>\n",
              "<table border=\"1\" class=\"dataframe\">\n",
              "  <thead>\n",
              "    <tr style=\"text-align: right;\">\n",
              "      <th></th>\n",
              "      <th>trans_date</th>\n",
              "      <th>small_group</th>\n",
              "      <th>amount_rur</th>\n",
              "    </tr>\n",
              "  </thead>\n",
              "  <tbody>\n",
              "    <tr>\n",
              "      <th>0</th>\n",
              "      <td>6</td>\n",
              "      <td>4</td>\n",
              "      <td>71.463</td>\n",
              "    </tr>\n",
              "    <tr>\n",
              "      <th>1</th>\n",
              "      <td>6</td>\n",
              "      <td>35</td>\n",
              "      <td>45.017</td>\n",
              "    </tr>\n",
              "    <tr>\n",
              "      <th>2</th>\n",
              "      <td>8</td>\n",
              "      <td>11</td>\n",
              "      <td>13.887</td>\n",
              "    </tr>\n",
              "    <tr>\n",
              "      <th>3</th>\n",
              "      <td>9</td>\n",
              "      <td>11</td>\n",
              "      <td>15.983</td>\n",
              "    </tr>\n",
              "    <tr>\n",
              "      <th>4</th>\n",
              "      <td>10</td>\n",
              "      <td>11</td>\n",
              "      <td>21.341</td>\n",
              "    </tr>\n",
              "    <tr>\n",
              "      <th>...</th>\n",
              "      <td>...</td>\n",
              "      <td>...</td>\n",
              "      <td>...</td>\n",
              "    </tr>\n",
              "    <tr>\n",
              "      <th>26450572</th>\n",
              "      <td>727</td>\n",
              "      <td>25</td>\n",
              "      <td>7.602</td>\n",
              "    </tr>\n",
              "    <tr>\n",
              "      <th>26450573</th>\n",
              "      <td>727</td>\n",
              "      <td>15</td>\n",
              "      <td>3.709</td>\n",
              "    </tr>\n",
              "    <tr>\n",
              "      <th>26450574</th>\n",
              "      <td>727</td>\n",
              "      <td>1</td>\n",
              "      <td>6.448</td>\n",
              "    </tr>\n",
              "    <tr>\n",
              "      <th>26450575</th>\n",
              "      <td>727</td>\n",
              "      <td>11</td>\n",
              "      <td>24.669</td>\n",
              "    </tr>\n",
              "    <tr>\n",
              "      <th>26450576</th>\n",
              "      <td>729</td>\n",
              "      <td>3</td>\n",
              "      <td>19.408</td>\n",
              "    </tr>\n",
              "  </tbody>\n",
              "</table>\n",
              "<p>26450577 rows × 3 columns</p>\n",
              "</div>"
            ],
            "text/plain": [
              "          trans_date  small_group  amount_rur\n",
              "0                  6            4      71.463\n",
              "1                  6           35      45.017\n",
              "2                  8           11      13.887\n",
              "3                  9           11      15.983\n",
              "4                 10           11      21.341\n",
              "...              ...          ...         ...\n",
              "26450572         727           25       7.602\n",
              "26450573         727           15       3.709\n",
              "26450574         727            1       6.448\n",
              "26450575         727           11      24.669\n",
              "26450576         729            3      19.408\n",
              "\n",
              "[26450577 rows x 3 columns]"
            ]
          },
          "metadata": {},
          "execution_count": 30
        }
      ]
    },
    {
      "cell_type": "code",
      "metadata": {
        "colab": {
          "base_uri": "https://localhost:8080/",
          "height": 419
        },
        "id": "iHa_jnVMOaW9",
        "outputId": "62f96c13-3bf5-4db3-8296-165fa6cc6d54"
      },
      "source": [
        "X_test"
      ],
      "execution_count": null,
      "outputs": [
        {
          "output_type": "execute_result",
          "data": {
            "text/html": [
              "<div>\n",
              "<style scoped>\n",
              "    .dataframe tbody tr th:only-of-type {\n",
              "        vertical-align: middle;\n",
              "    }\n",
              "\n",
              "    .dataframe tbody tr th {\n",
              "        vertical-align: top;\n",
              "    }\n",
              "\n",
              "    .dataframe thead th {\n",
              "        text-align: right;\n",
              "    }\n",
              "</style>\n",
              "<table border=\"1\" class=\"dataframe\">\n",
              "  <thead>\n",
              "    <tr style=\"text-align: right;\">\n",
              "      <th></th>\n",
              "      <th>trans_date</th>\n",
              "      <th>small_group</th>\n",
              "      <th>amount_rur</th>\n",
              "    </tr>\n",
              "  </thead>\n",
              "  <tbody>\n",
              "    <tr>\n",
              "      <th>0</th>\n",
              "      <td>3</td>\n",
              "      <td>0</td>\n",
              "      <td>19.555</td>\n",
              "    </tr>\n",
              "    <tr>\n",
              "      <th>1</th>\n",
              "      <td>3</td>\n",
              "      <td>1</td>\n",
              "      <td>27.774</td>\n",
              "    </tr>\n",
              "    <tr>\n",
              "      <th>2</th>\n",
              "      <td>4</td>\n",
              "      <td>0</td>\n",
              "      <td>18.114</td>\n",
              "    </tr>\n",
              "    <tr>\n",
              "      <th>3</th>\n",
              "      <td>4</td>\n",
              "      <td>1</td>\n",
              "      <td>22.183</td>\n",
              "    </tr>\n",
              "    <tr>\n",
              "      <th>4</th>\n",
              "      <td>5</td>\n",
              "      <td>2</td>\n",
              "      <td>45.795</td>\n",
              "    </tr>\n",
              "    <tr>\n",
              "      <th>...</th>\n",
              "      <td>...</td>\n",
              "      <td>...</td>\n",
              "      <td>...</td>\n",
              "    </tr>\n",
              "    <tr>\n",
              "      <th>17667323</th>\n",
              "      <td>727</td>\n",
              "      <td>1</td>\n",
              "      <td>21.824</td>\n",
              "    </tr>\n",
              "    <tr>\n",
              "      <th>17667324</th>\n",
              "      <td>728</td>\n",
              "      <td>36</td>\n",
              "      <td>84.900</td>\n",
              "    </tr>\n",
              "    <tr>\n",
              "      <th>17667325</th>\n",
              "      <td>728</td>\n",
              "      <td>3</td>\n",
              "      <td>2.748</td>\n",
              "    </tr>\n",
              "    <tr>\n",
              "      <th>17667326</th>\n",
              "      <td>728</td>\n",
              "      <td>1</td>\n",
              "      <td>47.369</td>\n",
              "    </tr>\n",
              "    <tr>\n",
              "      <th>17667327</th>\n",
              "      <td>729</td>\n",
              "      <td>3</td>\n",
              "      <td>4.579</td>\n",
              "    </tr>\n",
              "  </tbody>\n",
              "</table>\n",
              "<p>17667328 rows × 3 columns</p>\n",
              "</div>"
            ],
            "text/plain": [
              "          trans_date  small_group  amount_rur\n",
              "0                  3            0      19.555\n",
              "1                  3            1      27.774\n",
              "2                  4            0      18.114\n",
              "3                  4            1      22.183\n",
              "4                  5            2      45.795\n",
              "...              ...          ...         ...\n",
              "17667323         727            1      21.824\n",
              "17667324         728           36      84.900\n",
              "17667325         728            3       2.748\n",
              "17667326         728            1      47.369\n",
              "17667327         729            3       4.579\n",
              "\n",
              "[17667328 rows x 3 columns]"
            ]
          },
          "metadata": {},
          "execution_count": 29
        }
      ]
    },
    {
      "cell_type": "code",
      "metadata": {
        "id": "iRKn69P5CN4o"
      },
      "source": [
        "pred=model.predict(X_test)"
      ],
      "execution_count": null,
      "outputs": []
    },
    {
      "cell_type": "code",
      "metadata": {
        "id": "EHS12e_tCpNt"
      },
      "source": [
        "pred"
      ],
      "execution_count": null,
      "outputs": []
    }
  ]
}