{
  "nbformat": 4,
  "nbformat_minor": 0,
  "metadata": {
    "colab": {
      "name": "1 задача Гончаренко домашнее задание 20.09.21.ipynb",
      "provenance": [],
      "collapsed_sections": []
    },
    "kernelspec": {
      "name": "python3",
      "display_name": "Python 3"
    },
    "language_info": {
      "name": "python"
    }
  },
  "cells": [
    {
      "cell_type": "markdown",
      "metadata": {
        "id": "Cm1-48MIuKhR"
      },
      "source": [
        "Задача 1"
      ]
    },
    {
      "cell_type": "code",
      "metadata": {
        "colab": {
          "base_uri": "https://localhost:8080/"
        },
        "id": "dDk6jqgc5xCr",
        "outputId": "40c0eb86-eec7-4be3-87a7-031a12a776ea"
      },
      "source": [
        "a = input()\n",
        "b = []\n",
        "fl = 0\n",
        "for i in a:\n",
        "    if i == '(' or i == '[' or i == '{' or i == ']' or i == '}' or i == ')':\n",
        "        if i == ']' or i == '}' or i == ')':\n",
        "            try:\n",
        "                if i == '}' and b[-1] != '{' or i == ')' and b[-1] != '(' or i == ']' and b[-1] != '[':\n",
        "                    fl += 1\n",
        "                    break\n",
        "                else:\n",
        "                    b.pop(-1)\n",
        "            except Exception:\n",
        "                fl += 1\n",
        "                break\n",
        "        else:\n",
        "            b.append(i)\n",
        "if fl != 0 or len(b) != 0:\n",
        "    print(\"incorrect\")\n",
        "else:\n",
        "    print(\"correct\")"
      ],
      "execution_count": null,
      "outputs": [
        {
          "output_type": "stream",
          "name": "stdout",
          "text": [
            "(this [is] test)\n",
            "correct\n"
          ]
        }
      ]
    }
  ]
}