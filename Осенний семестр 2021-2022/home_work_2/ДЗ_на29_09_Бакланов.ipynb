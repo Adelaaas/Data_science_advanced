{
  "nbformat": 4,
  "nbformat_minor": 0,
  "metadata": {
    "colab": {
      "name": "ДЗ_на29_09_Бакланов.ipynb",
      "provenance": [],
      "collapsed_sections": []
    },
    "kernelspec": {
      "name": "python3",
      "display_name": "Python 3"
    },
    "language_info": {
      "name": "python"
    }
  },
  "cells": [
    {
      "cell_type": "code",
      "metadata": {
        "id": "HxlBQtxz6jhd"
      },
      "source": [
        "import math"
      ],
      "execution_count": 25,
      "outputs": []
    },
    {
      "cell_type": "code",
      "metadata": {
        "id": "zmMsTxmgV44l"
      },
      "source": [
        "text = ['Never gonna give you up',\n",
        "        'Never gonna let you down',\n",
        "        'Never gonna run around and desert you',\n",
        "        'Never gonna make you cry',\n",
        "        'Never gonna say goodbye',\n",
        "        'Never gonna tell a lie and hurt you'\n",
        "]"
      ],
      "execution_count": 26,
      "outputs": []
    },
    {
      "cell_type": "code",
      "metadata": {
        "id": "a4ye_he6380N",
        "colab": {
          "base_uri": "https://localhost:8080/"
        },
        "outputId": "cd3d65ca-00ca-46ca-db11-baf0adf6e3fb"
      },
      "source": [
        "def TFIDF(text):\n",
        "  TF_IDF = []\n",
        "  words = []\n",
        "  word_count = 0\n",
        "  sent_count = 0\n",
        "  word_in_text = 0 \n",
        "  word_in_sent = 0 \n",
        "\n",
        "  \n",
        "  for sent in text:\n",
        "      sent_count += 1; \n",
        "      sent = sent.split(' ');\n",
        "\n",
        "      for i in sent:\n",
        "        word_count +=1;\n",
        "        if i not in words:\n",
        "          words.append(i)\n",
        "\n",
        "  for i in words: \n",
        "    for sent in text:\n",
        "       \n",
        "      if sent.count(i) != 0  : \n",
        "        word_in_sent += 1; \n",
        "        word_in_text += sent.count(i);\n",
        "    TF = word_in_text / word_count;\n",
        "    IDF  = math.log(sent_count / word_in_sent )\n",
        "    TF_IDF.append(TF * IDF)\n",
        "  \n",
        "  spisok = dict(zip(words, TF_IDF))\n",
        "\n",
        "  return spisok \n",
        "\n",
        "TFIDF(text)"
      ],
      "execution_count": 27,
      "outputs": [
        {
          "output_type": "execute_result",
          "data": {
            "text/plain": [
              "{'Never': 0.0,\n",
              " 'a': -2.300700384320449,\n",
              " 'and': -1.0493502615001074,\n",
              " 'around': -0.9089970345330936,\n",
              " 'cry': -1.2686017984270639,\n",
              " 'desert': -1.121316582018503,\n",
              " 'down': -0.773765362894198,\n",
              " 'give': -0.2956314278539783,\n",
              " 'gonna': -0.24464018137409835,\n",
              " 'goodbye': -1.4200922756771472,\n",
              " 'hurt': -2.477385234134459,\n",
              " 'let': -0.7082192966623154,\n",
              " 'lie': -2.3887168935860754,\n",
              " 'make': -1.1944144033223354,\n",
              " 'run': -0.8407125191431101,\n",
              " 'say': -1.343839837117475,\n",
              " 'tell': -1.4973252880285244,\n",
              " 'up': -0.644144432024392,\n",
              " 'you': -0.5816182704713523}"
            ]
          },
          "metadata": {},
          "execution_count": 27
        }
      ]
    },
    {
      "cell_type": "code",
      "metadata": {
        "id": "hDwZcbzrq43Q"
      },
      "source": [
        "def NGRAM(sent, n):\n",
        "  all_ngrams = []\n",
        "  sent = sent.split(' ');\n",
        "\n",
        "  for i in range(len(sent)):\n",
        "    if (i+n <= len(sent)):\n",
        "        ngrams = sent[i:i+n] #берем части предложения \n",
        "        ngram_temp = ''\n",
        "        for j in ngrams:\n",
        "          if(ngrams.index(j) == 0):\n",
        "            ngram_temp += j\n",
        "          else: \n",
        "            ngram_temp += (' ' + j)\n",
        "\n",
        "        if (all_ngrams.count(ngram_temp) == 0):\n",
        "           all_ngrams.append(ngram_temp)\n",
        "      \n",
        "  return all_ngrams\n",
        "\n",
        "\n",
        "\n"
      ],
      "execution_count": 59,
      "outputs": []
    },
    {
      "cell_type": "code",
      "metadata": {
        "colab": {
          "base_uri": "https://localhost:8080/"
        },
        "id": "f61U8wxczki5",
        "outputId": "7b02e78f-45dc-410d-93f2-4c7279a0b11b"
      },
      "source": [
        "print(NGRAM('Never gonna give you up', 1))"
      ],
      "execution_count": 61,
      "outputs": [
        {
          "output_type": "stream",
          "name": "stdout",
          "text": [
            "['Never', 'gonna', 'give', 'you', 'up']\n"
          ]
        }
      ]
    }
  ]
}