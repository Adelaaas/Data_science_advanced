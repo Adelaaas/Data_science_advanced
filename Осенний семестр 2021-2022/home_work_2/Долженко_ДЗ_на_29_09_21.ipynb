{
  "nbformat": 4,
  "nbformat_minor": 0,
  "metadata": {
    "colab": {
      "name": "Долженко_ДЗ_на_29_09_21.ipynb",
      "provenance": [],
      "collapsed_sections": []
    },
    "kernelspec": {
      "name": "python3",
      "display_name": "Python 3"
    },
    "language_info": {
      "name": "python"
    }
  },
  "cells": [
    {
      "cell_type": "code",
      "metadata": {
        "id": "VU8H-g-fLyRB"
      },
      "source": [
        "from math import log"
      ],
      "execution_count": 52,
      "outputs": []
    },
    {
      "cell_type": "code",
      "metadata": {
        "id": "nWkLR_JxMo-M"
      },
      "source": [
        "text = [\n",
        "          'Text of first document Text.',\n",
        "          'Text of the second document made longer.',\n",
        "          'Number three.',\n",
        "          'This is number four.',\n",
        "]"
      ],
      "execution_count": 182,
      "outputs": []
    },
    {
      "cell_type": "code",
      "metadata": {
        "id": "bzmvBYTQMxHw"
      },
      "source": [
        "def sentencePreparation(sentence):\n",
        "    sentence = sentence[0:-1]\n",
        "    sentence = sentence.lower()\n",
        "    split_sentence = sentence.split(' ')\n",
        "    return split_sentence\n",
        "\n",
        "def ngramInSentence(n, sentence):\n",
        "        ngrams_in_sent = []\n",
        "\n",
        "        sentence = sentencePreparation(sentence)\n",
        "        for i in range(len(sentence)):\n",
        "            if(i + n <= len(sentence)):\n",
        "                ngram_sent = sentence[i:i+n]\n",
        "                ngram = ''\n",
        "                for s in ngram_sent:\n",
        "                    if(ngram_sent.index(s) == 0):\n",
        "                        ngram += s\n",
        "                    else: ngram += (' ' + s)\n",
        "                if(ngrams_in_sent.count(ngram) == 0): ngrams_in_sent.append(ngram)\n",
        "        return ngrams_in_sent\n",
        "\n",
        "def tfIdf(text):\n",
        "    words = []\n",
        "    countAllWords = 0\n",
        "    countAllSentences = 0\n",
        "    idf_of_words = []\n",
        "    tfIdf_of_words = []\n",
        "\n",
        "    for sentence in text:\n",
        "\n",
        "        countAllSentences += 1\n",
        "        sentence = sentencePreparation(sentence)\n",
        "\n",
        "        for word in sentence:\n",
        "            countAllWords += 1\n",
        "            if(words.count(word) == 0): words.append(word)\n",
        "\n",
        "    for word in words:\n",
        "\n",
        "        countWordInText = 0\n",
        "        count_senteces_with_word = 0\n",
        "\n",
        "        for sentence in text:\n",
        "            sentence = sentence_preparation(sentence)\n",
        "            if(sentence.count(word) != 0):\n",
        "                countWordInText += sentence.count(word)\n",
        "                count_senteces_with_word += 1\n",
        "    \n",
        "        tf_word = countWordInText/countAllWords\n",
        "        idf_word = log(countAllSentences/count_senteces_with_word)\n",
        "        idf_of_words.append(idf_word)\n",
        "        tfIdf_of_words.append(tf_word * idf_word)\n",
        "\n",
        "    dictionary = dict(zip(words, tfIdf_of_words))\n",
        "    sorted_dict = sorted(dictionary.items(), key=lambda x: x[1])\n",
        "    return dict(sorted_dict)"
      ],
      "execution_count": 183,
      "outputs": []
    },
    {
      "cell_type": "code",
      "metadata": {
        "colab": {
          "base_uri": "https://localhost:8080/"
        },
        "id": "5fytzyBZcjGj",
        "outputId": "89c2dee8-5b6c-4649-f3f8-87176829942c"
      },
      "source": [
        "tfIdf(text)"
      ],
      "execution_count": 184,
      "outputs": [
        {
          "output_type": "execute_result",
          "data": {
            "text/plain": [
              "{'document': 0.07701635339554948,\n",
              " 'first': 0.07701635339554948,\n",
              " 'four': 0.07701635339554948,\n",
              " 'is': 0.07701635339554948,\n",
              " 'longer': 0.07701635339554948,\n",
              " 'made': 0.07701635339554948,\n",
              " 'number': 0.07701635339554948,\n",
              " 'of': 0.07701635339554948,\n",
              " 'second': 0.07701635339554948,\n",
              " 'text': 0.11552453009332421,\n",
              " 'the': 0.07701635339554948,\n",
              " 'this': 0.07701635339554948,\n",
              " 'three': 0.07701635339554948}"
            ]
          },
          "metadata": {},
          "execution_count": 184
        }
      ]
    },
    {
      "cell_type": "code",
      "metadata": {
        "colab": {
          "base_uri": "https://localhost:8080/"
        },
        "id": "s3lKamBjsYOY",
        "outputId": "13882010-c768-488f-ff77-83c4131ce24f"
      },
      "source": [
        "print(ngramInSentence(1, 'Text of first document Text.'))\n",
        "print(ngramInSentence(2, 'Text of first document Text.'))\n",
        "print(ngramInSentence(3, 'Text of first document Text.'))"
      ],
      "execution_count": 188,
      "outputs": [
        {
          "output_type": "stream",
          "name": "stdout",
          "text": [
            "['text', 'of', 'first', 'document']\n",
            "['text of', 'of first', 'first document', 'document text']\n",
            "['text of first', 'of first document', 'first document text']\n"
          ]
        }
      ]
    }
  ]
}