{
  "nbformat": 4,
  "nbformat_minor": 0,
  "metadata": {
    "colab": {
      "name": "Untitled23.ipynb",
      "provenance": []
    },
    "kernelspec": {
      "name": "python3",
      "display_name": "Python 3"
    },
    "language_info": {
      "name": "python"
    }
  },
  "cells": [
    {
      "cell_type": "markdown",
      "metadata": {
        "id": "qQrzfmxkHHF_"
      },
      "source": [
        "Севастьянов, дз №2 "
      ]
    },
    {
      "cell_type": "code",
      "metadata": {
        "id": "ZbS9BM4G4r9Y",
        "colab": {
          "base_uri": "https://localhost:8080/"
        },
        "outputId": "d08cc960-346f-4641-c817-d82cfc36e902"
      },
      "source": [
        "import re\n",
        "\n",
        "def f(s):\n",
        "    s = s.split()         \n",
        "    str2 = []\n",
        "    for i in s:             \n",
        "        if i not in str2:\n",
        "            str2.append(i) \n",
        "\n",
        "\n",
        "              \n",
        "    for i in range(0, len(str2)):\n",
        "        print('\"', str2[i], '\"'  , s.count(str2[i])/len(s), 'раз')    \n",
        "  \n",
        "s =input()\n",
        "#для русскоязычного текста это:\n",
        "s=re.sub('[^а-я]', ' ', s)\n",
        "#для англоязычного текста нужно раскоментировать строку снизу, и закоментировать строку сверху\n",
        "#re.sub('[^a-z]', ' ', s)\n",
        "f(s)                    \n",
        "  \n",
        "         "
      ],
      "execution_count": 4,
      "outputs": [
        {
          "output_type": "stream",
          "name": "stdout",
          "text": [
            "сегодня у нас была контрольная по физике, потом была контрольная по математике\n",
            "\" сегодня \" 0.08333333333333333 раз\n",
            "\" у \" 0.08333333333333333 раз\n",
            "\" нас \" 0.08333333333333333 раз\n",
            "\" была \" 0.16666666666666666 раз\n",
            "\" контрольная \" 0.16666666666666666 раз\n",
            "\" по \" 0.16666666666666666 раз\n",
            "\" физике \" 0.08333333333333333 раз\n",
            "\" потом \" 0.08333333333333333 раз\n",
            "\" математике \" 0.08333333333333333 раз\n"
          ]
        }
      ]
    },
    {
      "cell_type": "code",
      "metadata": {
        "colab": {
          "base_uri": "https://localhost:8080/"
        },
        "id": "c4m-7MaMFURi",
        "outputId": "01217151-bf07-4fad-bf8d-29d8faa215bd"
      },
      "source": [
        "def ngrams(text, n):\n",
        "     words = text.split()\n",
        "     ngram = []  \n",
        "     for i in range(len(words)- n +1):\n",
        "         ngram.append(words[i:i+n])\n",
        "     return ngram\n",
        "\n",
        "print(\"Ведите строку\")\n",
        "s=input()\n",
        "print(\"Ведите число n\")\n",
        "n=input()\n",
        "n=int(n)\n",
        "ngrams(s, n)"
      ],
      "execution_count": null,
      "outputs": [
        {
          "name": "stdout",
          "output_type": "stream",
          "text": [
            "Ведите строку\n",
            "мама мыла раму\n",
            "Ведите число n\n",
            "2\n"
          ]
        },
        {
          "output_type": "execute_result",
          "data": {
            "text/plain": [
              "[['мама', 'мыла'], ['мыла', 'раму']]"
            ]
          },
          "metadata": {},
          "execution_count": 32
        }
      ]
    }
  ]
}