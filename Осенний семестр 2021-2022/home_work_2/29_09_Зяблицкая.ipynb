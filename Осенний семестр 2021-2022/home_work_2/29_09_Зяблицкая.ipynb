{
  "nbformat": 4,
  "nbformat_minor": 0,
  "metadata": {
    "colab": {
      "name": "29.09_Зяблицкая.ipynb",
      "provenance": [],
      "collapsed_sections": []
    },
    "kernelspec": {
      "name": "python3",
      "display_name": "Python 3"
    },
    "language_info": {
      "name": "python"
    }
  },
  "cells": [
    {
      "cell_type": "code",
      "metadata": {
        "id": "SQ6yjr85oZS6"
      },
      "source": [
        "Реализовать собственную функцию подсчета TF-IDF для текста - для всех\n",
        "Самим реализовать функцию получения N-грамм - для всех"
      ],
      "execution_count": null,
      "outputs": []
    },
    {
      "cell_type": "code",
      "metadata": {
        "id": "eoTOLnQCo1jS"
      },
      "source": [
        "Term Frequency TF - это частота слова, то есть на сколько важно слово для текста.\n",
        "\n",
        "TF термина а = (Количество раз, когда термин а встретился в тексте / количество всех слов в тексте)"
      ],
      "execution_count": null,
      "outputs": []
    },
    {
      "cell_type": "code",
      "metadata": {
        "id": "fcx-xsJqQgBz"
      },
      "source": [
        "Inverse Document Frequency IDF - измеряет непосредственную важность данного термина для текущего текста. То есть, для TF каждое слово равное по важности в тексте.\n",
        "\n",
        "IDF термина а = логарифм(Общее количество документов / Количество документов, в которых встречается термин а)\n",
        "\n",
        "Term Frequency — Inverse Document Frequency- это умножение TF на IDF и получаем — TF-IDF\n",
        "\n",
        "TF-IDF термина а = (TF термина а) * (IDF термина а)"
      ],
      "execution_count": null,
      "outputs": []
    },
    {
      "cell_type": "markdown",
      "metadata": {
        "id": "t6esqa4Ki6mp"
      },
      "source": [
        "Задание номер 1"
      ]
    },
    {
      "cell_type": "code",
      "metadata": {
        "id": "gNPUE6cza14g"
      },
      "source": [
        "def TF(text):\n",
        "\n",
        "  list_text = []\n",
        "  dictin = text.split()\n",
        "  amount = len(dictin)\n",
        "  list_sen = text.split('.')\n",
        "  save = []\n",
        "  for i in range(0, len(dictin), 1):\n",
        "    list_text.append(dictin[i].lower().replace('.', ''))\n",
        "\n",
        "  for i in range(0, len(list_text), 1):\n",
        "    if list_text[i] not in  save:\n",
        "      print(list_text[i] + \" - \", list_text.count(list_text[i])/amount)\n",
        "    save.append(list_text[i])\n",
        "\n",
        "    \n",
        "    "
      ],
      "execution_count": 97,
      "outputs": []
    },
    {
      "cell_type": "code",
      "metadata": {
        "colab": {
          "base_uri": "https://localhost:8080/"
        },
        "id": "MIquHdTCLLpw",
        "outputId": "3d15d534-f216-495e-ea01-d09552e4dda5"
      },
      "source": [
        "text = 'Мама мыла раму. Мама не хочет мыть раму. Мама устала от жизни где надо мыть раму.'\n",
        "TF(text)\n"
      ],
      "execution_count": 98,
      "outputs": [
        {
          "output_type": "stream",
          "name": "stdout",
          "text": [
            "мама -  0.1875\n",
            "мыла -  0.0625\n",
            "раму -  0.1875\n",
            "не -  0.0625\n",
            "хочет -  0.0625\n",
            "мыть -  0.125\n",
            "устала -  0.0625\n",
            "от -  0.0625\n",
            "жизни -  0.0625\n",
            "где -  0.0625\n",
            "надо -  0.0625\n"
          ]
        }
      ]
    },
    {
      "cell_type": "code",
      "metadata": {
        "id": "P4kecVBQQetY"
      },
      "source": [
        "import math\n",
        "def IDF(text):\n",
        "  amount_sentence = text.count('.')\n",
        "  dictin = text.split()\n",
        "  list_text = text.split('.')\n",
        "  k = 0\n",
        "  save = []\n",
        "\n",
        "  for i in range(0, len(dictin), 1):\n",
        "    for j in range(0, len(list_text), 1):\n",
        "      if dictin[i] not in  save:\n",
        "        if dictin[i] in list_text[j]:\n",
        "         k = k + 1\n",
        "    save.append(dictin[i])\n",
        "    print(dictin[i], math.log10(k/amount_sentence))\n",
        "\n",
        "\n",
        "\n",
        "\n"
      ],
      "execution_count": null,
      "outputs": []
    },
    {
      "cell_type": "code",
      "metadata": {
        "colab": {
          "base_uri": "https://localhost:8080/"
        },
        "id": "csoNht8VULVe",
        "outputId": "e19cc2ae-5059-4da5-ae2d-6350781c2657"
      },
      "source": [
        "text = 'Мама мыла раму. Мама не хочет мыть раму. Мама устала от жизни где надо мыть раму.'\n",
        "IDF(text)"
      ],
      "execution_count": null,
      "outputs": [
        {
          "output_type": "stream",
          "name": "stdout",
          "text": [
            "Мама 0.0\n",
            "мыла 0.12493873660829992\n",
            "раму. 0.12493873660829992\n",
            "Мама 0.12493873660829992\n",
            "не 0.22184874961635637\n",
            "хочет 0.3010299956639812\n",
            "мыть 0.4259687322722811\n",
            "раму. 0.4259687322722811\n",
            "Мама 0.4259687322722811\n",
            "устала 0.47712125471966244\n",
            "от 0.5228787452803376\n",
            "жизни 0.5642714304385625\n",
            "где 0.6020599913279624\n",
            "надо 0.6368220975871743\n",
            "мыть 0.6368220975871743\n",
            "раму. 0.6368220975871743\n"
          ]
        }
      ]
    },
    {
      "cell_type": "markdown",
      "metadata": {
        "id": "9I5RShBTLq9n"
      },
      "source": [
        "Мама мыла раму. Мама не хочет мыть раму. Мама устала от жизни где надо мыть раму."
      ]
    },
    {
      "cell_type": "markdown",
      "metadata": {
        "id": "mGk5suSXjAfj"
      },
      "source": [
        "n грамма(разбивает только по словам)"
      ]
    },
    {
      "cell_type": "code",
      "metadata": {
        "id": "QHr2Uq3WjmgO"
      },
      "source": [
        "def ngam(words, amount):\n",
        "  ngramma = []  \n",
        "  for i in range(0, len(words.split())- amount + 1, 1):\n",
        "    ngramma.append(words.split()[i:i + amount])\n",
        "  print(ngramma)\n",
        "\n",
        "\n"
      ],
      "execution_count": 107,
      "outputs": []
    },
    {
      "cell_type": "code",
      "metadata": {
        "id": "ED2-otzbm1aL"
      },
      "source": [
        "def ngram(words, amount):\n",
        "  ngramma = [] \n",
        "  for i in range(0, len(words.split()) - amount+1, 1):\n",
        "    for j in range(0, amount, 1):\n",
        "      ngramma.append(words.split()[i+j] )\n",
        "    ngramma.append('-')  \n",
        "  print(ngramma)\n",
        "\n"
      ],
      "execution_count": 163,
      "outputs": []
    },
    {
      "cell_type": "code",
      "metadata": {
        "colab": {
          "base_uri": "https://localhost:8080/"
        },
        "id": "5WTeBikakxKe",
        "outputId": "d91061c2-4f51-42cc-90e4-89bff14d391b"
      },
      "source": [
        "ngram('мама мыла раму и окно', 3)"
      ],
      "execution_count": 164,
      "outputs": [
        {
          "output_type": "stream",
          "name": "stdout",
          "text": [
            "['мама', 'мыла', 'раму', '-', 'мыла', 'раму', 'и', '-', 'раму', 'и', 'окно', '-']\n"
          ]
        }
      ]
    }
  ]
}