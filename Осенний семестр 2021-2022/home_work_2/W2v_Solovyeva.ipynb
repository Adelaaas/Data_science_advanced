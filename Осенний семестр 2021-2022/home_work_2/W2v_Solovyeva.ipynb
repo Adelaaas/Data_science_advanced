{
  "nbformat": 4,
  "nbformat_minor": 0,
  "metadata": {
    "colab": {
      "name": "W2v_Solovyeva.ipynb",
      "provenance": [],
      "collapsed_sections": []
    },
    "kernelspec": {
      "name": "python3",
      "display_name": "Python 3"
    },
    "language_info": {
      "name": "python"
    }
  },
  "cells": [
    {
      "cell_type": "markdown",
      "metadata": {
        "id": "RbnnHQRr5FAs"
      },
      "source": [
        "**Word2vec** — общее название для совокупности моделей на основе  нейронных сетей, предназначенных для получения векторных представлений слов на естественном языке"
      ]
    },
    {
      "cell_type": "markdown",
      "metadata": {
        "id": "wdLGV1i65QIl"
      },
      "source": [
        "**Слова-векторы (word vectors)** — это численные представления слов, сохраняющие семантическую связь между ними. "
      ]
    },
    {
      "cell_type": "markdown",
      "metadata": {
        "id": "vJYXoZkw5R-Q"
      },
      "source": [
        "Модель Word2Vec бывает двух видов: модель Skip Gram и модель Continuous Bag of Words (CBOW). "
      ]
    },
    {
      "cell_type": "code",
      "metadata": {
        "id": "IC7FabSwMB8u",
        "colab": {
          "base_uri": "https://localhost:8080/"
        },
        "outputId": "bb478202-b22e-44ee-c37b-3e4d695c0c40"
      },
      "source": [
        "import pandas as pd\n",
        "import numpy as np\n",
        "import gensim\n",
        "import nltk\n",
        "nltk.download('punkt')"
      ],
      "execution_count": 3,
      "outputs": [
        {
          "output_type": "stream",
          "name": "stdout",
          "text": [
            "[nltk_data] Downloading package punkt to /root/nltk_data...\n",
            "[nltk_data]   Unzipping tokenizers/punkt.zip.\n"
          ]
        },
        {
          "output_type": "execute_result",
          "data": {
            "text/plain": [
              "True"
            ]
          },
          "metadata": {},
          "execution_count": 3
        }
      ]
    },
    {
      "cell_type": "code",
      "metadata": {
        "id": "ULP_JuHP6DWK"
      },
      "source": [
        "documents = ['в небольшом квартале к западу от улицы перепутались и переломались в короткие полоски именуемые проездами',\n",
        "        'эти проезды образуют странные углы и кривые линии',\n",
        "        'одна улица там даже пересекает самe себя раза два',\n",
        "        'некоему художнику удалось открыть весьма ценное свойство этой улицы',\n",
        "        'предположим сборщик из магазина со счетом за краски бумагу и холст повстречает там самого себя идущего восвояси не получив ни единого цента по счету',\n",
        "        'и вот в поисках окон выходящих на север кровель столетия голландских мансард и дешевой квартирной платы люди искусства набрели на своеобразный квартал',\n",
        "        'затем они перевезли туда с шестой авеню несколько оловянных кружек и одну-две жаровни и основали колонию']"
      ],
      "execution_count": 4,
      "outputs": []
    },
    {
      "cell_type": "code",
      "metadata": {
        "id": "F1eTIRp-ccro"
      },
      "source": [
        "documents_2 =[\"господина пневмонию никак нельзя было назвать галантным старым джентльменом\",\n",
        "         \"миниатюрная девушка малокровная от калифорнийских зефиров едва ли могла считаться достойным противником для дюжего старого тупицы с красными кулачищами и одышкой\",\n",
        "         \"однако он свалил ее с ног и джонси лежала неподвижно на крашеной железной кровати глядя сквозь мелкий переплет голландского окна на глухую стену соседнего кирпичного дома\",\n",
        "         \"однажды утром озабоченный доктор одним движением косматых седых бровей вызвал сью в коридор\"\n",
        "]"
      ],
      "execution_count": 5,
      "outputs": []
    },
    {
      "cell_type": "code",
      "metadata": {
        "id": "qjtBpXc7Z31q"
      },
      "source": [
        "\n",
        "from gensim import corpora\n",
        "from pprint import pprint"
      ],
      "execution_count": 6,
      "outputs": []
    },
    {
      "cell_type": "code",
      "metadata": {
        "colab": {
          "base_uri": "https://localhost:8080/"
        },
        "id": "8QmBBkRVcVdE",
        "outputId": "35a9e0fb-83c2-420d-b53a-0dccee1a39b5"
      },
      "source": [
        "# Tokenize(split) the sentences into words\n",
        "texts = [[text for text in doc.split()] for doc in documents]\n",
        "# Create dictionary\n",
        "dictionary = corpora.Dictionary(texts)\n",
        "# Get information about the dictionary\n",
        "print(dictionary)"
      ],
      "execution_count": 7,
      "outputs": [
        {
          "output_type": "stream",
          "name": "stdout",
          "text": [
            "Dictionary(91 unique tokens: ['в', 'западу', 'и', 'именуемые', 'к']...)\n"
          ]
        }
      ]
    },
    {
      "cell_type": "code",
      "metadata": {
        "colab": {
          "base_uri": "https://localhost:8080/"
        },
        "id": "1tHF30Dbdd9O",
        "outputId": "9f10ce9d-9e35-4847-d8a8-61ee93225c92"
      },
      "source": [
        "print(dictionary.token2id)"
      ],
      "execution_count": 8,
      "outputs": [
        {
          "output_type": "stream",
          "name": "stdout",
          "text": [
            "{'в': 0, 'западу': 1, 'и': 2, 'именуемые': 3, 'к': 4, 'квартале': 5, 'короткие': 6, 'небольшом': 7, 'от': 8, 'переломались': 9, 'перепутались': 10, 'полоски': 11, 'проездами': 12, 'улицы': 13, 'кривые': 14, 'линии': 15, 'образуют': 16, 'проезды': 17, 'странные': 18, 'углы': 19, 'эти': 20, 'даже': 21, 'два': 22, 'одна': 23, 'пересекает': 24, 'раза': 25, 'самe': 26, 'себя': 27, 'там': 28, 'улица': 29, 'весьма': 30, 'некоему': 31, 'открыть': 32, 'свойство': 33, 'удалось': 34, 'художнику': 35, 'ценное': 36, 'этой': 37, 'бумагу': 38, 'восвояси': 39, 'единого': 40, 'за': 41, 'идущего': 42, 'из': 43, 'краски': 44, 'магазина': 45, 'не': 46, 'ни': 47, 'по': 48, 'повстречает': 49, 'получив': 50, 'предположим': 51, 'самого': 52, 'сборщик': 53, 'со': 54, 'счетом': 55, 'счету': 56, 'холст': 57, 'цента': 58, 'вот': 59, 'выходящих': 60, 'голландских': 61, 'дешевой': 62, 'искусства': 63, 'квартал': 64, 'квартирной': 65, 'кровель': 66, 'люди': 67, 'мансард': 68, 'на': 69, 'набрели': 70, 'окон': 71, 'платы': 72, 'поисках': 73, 'своеобразный': 74, 'север': 75, 'столетия': 76, 'авеню': 77, 'жаровни': 78, 'затем': 79, 'колонию': 80, 'кружек': 81, 'несколько': 82, 'одну-две': 83, 'оловянных': 84, 'они': 85, 'основали': 86, 'перевезли': 87, 'с': 88, 'туда': 89, 'шестой': 90}\n"
          ]
        }
      ]
    },
    {
      "cell_type": "code",
      "metadata": {
        "id": "80RRnLDcmGNJ"
      },
      "source": [
        ""
      ],
      "execution_count": null,
      "outputs": []
    },
    {
      "cell_type": "code",
      "metadata": {
        "id": "N5hGZ0Qpd3r8"
      },
      "source": [
        "from gensim.models.word2vec import Word2Vec\n",
        "from multiprocessing import cpu_count\n",
        "import gensim.downloader as api\n",
        "\n",
        "model = Word2Vec(texts, min_count = 0, workers=cpu_count())\n",
        "\n"
      ],
      "execution_count": 10,
      "outputs": []
    },
    {
      "cell_type": "code",
      "metadata": {
        "id": "V-vLh_w6KcaR"
      },
      "source": [
        "#w2v_model = Word2Vec(min_count=1, window=10, size=10, negative=10, alpha=0, min_alpha=0, sample=6e-5, sg=1)\n",
        "#min_count — игнорировать все слова с частотой встречаемости меньше, чем это значение. windоw — размер контекстного окна, о котором говорили тут, обозначает диапазон контекста.\n",
        "#size — размер векторного представления слова (word embedding).\n",
        "#negative — сколько неконтекстных слов учитывать в обучении, используя negative sampling, о нем также упоминалось здесь.\n",
        "#alpha — начальный learning_rate, используемый в алгоритме обратного распространения ошибки (Backpropogation).\n",
        "#min_alpha — минимальное значение learning_rate, на которое может опуститься в процессе обучения.\n",
        "#sg — если 1, то используется реализация Skip-gram; если 0, то CBOW.\n",
        "#CBOW — предсказывание слова при данном контексте, а skip-gram наоборот — предсказывается контекст при данном слове.\n"
      ],
      "execution_count": null,
      "outputs": []
    },
    {
      "cell_type": "code",
      "metadata": {
        "colab": {
          "base_uri": "https://localhost:8080/"
        },
        "id": "T2Qwl70MfH1L",
        "outputId": "3c729b10-d74a-4ba8-9714-f02d46441366"
      },
      "source": [
        "model.most_similar('квартале')"
      ],
      "execution_count": 12,
      "outputs": [
        {
          "output_type": "stream",
          "name": "stderr",
          "text": [
            "/usr/local/lib/python3.7/dist-packages/ipykernel_launcher.py:1: DeprecationWarning: Call to deprecated `most_similar` (Method will be removed in 4.0.0, use self.wv.most_similar() instead).\n",
            "  \"\"\"Entry point for launching an IPython kernel.\n"
          ]
        },
        {
          "output_type": "execute_result",
          "data": {
            "text/plain": [
              "[('улицы', 0.21570712327957153),\n",
              " ('западу', 0.20811647176742554),\n",
              " ('люди', 0.2052484154701233),\n",
              " ('художнику', 0.1478659212589264),\n",
              " ('с', 0.14329183101654053),\n",
              " ('углы', 0.11165761947631836),\n",
              " ('мансард', 0.1113348975777626),\n",
              " ('от', 0.10780748724937439),\n",
              " ('искусства', 0.10058373957872391),\n",
              " ('линии', 0.08653853833675385)]"
            ]
          },
          "metadata": {},
          "execution_count": 12
        }
      ]
    },
    {
      "cell_type": "code",
      "metadata": {
        "colab": {
          "base_uri": "https://localhost:8080/"
        },
        "id": "RToFRpwv_cjR",
        "outputId": "72b5b5e5-0cf4-47ec-bc8f-f9535f85e4d9"
      },
      "source": [
        "model.wv.vocab"
      ],
      "execution_count": 14,
      "outputs": [
        {
          "output_type": "execute_result",
          "data": {
            "text/plain": [
              "{'авеню': <gensim.models.keyedvectors.Vocab at 0x7f3b74cb2990>,\n",
              " 'бумагу': <gensim.models.keyedvectors.Vocab at 0x7f3b74cd4810>,\n",
              " 'в': <gensim.models.keyedvectors.Vocab at 0x7f3b74c92b10>,\n",
              " 'весьма': <gensim.models.keyedvectors.Vocab at 0x7f3b74c924d0>,\n",
              " 'восвояси': <gensim.models.keyedvectors.Vocab at 0x7f3b74cd4350>,\n",
              " 'вот': <gensim.models.keyedvectors.Vocab at 0x7f3b74cd4750>,\n",
              " 'выходящих': <gensim.models.keyedvectors.Vocab at 0x7f3b74cd4050>,\n",
              " 'голландских': <gensim.models.keyedvectors.Vocab at 0x7f3b74cd4210>,\n",
              " 'даже': <gensim.models.keyedvectors.Vocab at 0x7f3b74c92250>,\n",
              " 'два': <gensim.models.keyedvectors.Vocab at 0x7f3b74c92750>,\n",
              " 'дешевой': <gensim.models.keyedvectors.Vocab at 0x7f3b74cb2650>,\n",
              " 'единого': <gensim.models.keyedvectors.Vocab at 0x7f3b74cd4650>,\n",
              " 'жаровни': <gensim.models.keyedvectors.Vocab at 0x7f3b74cb2a10>,\n",
              " 'за': <gensim.models.keyedvectors.Vocab at 0x7f3b74cd4110>,\n",
              " 'западу': <gensim.models.keyedvectors.Vocab at 0x7f3b74c92c90>,\n",
              " 'затем': <gensim.models.keyedvectors.Vocab at 0x7f3b74cb2850>,\n",
              " 'и': <gensim.models.keyedvectors.Vocab at 0x7f3b74c92fd0>,\n",
              " 'идущего': <gensim.models.keyedvectors.Vocab at 0x7f3b74cd45d0>,\n",
              " 'из': <gensim.models.keyedvectors.Vocab at 0x7f3b74c922d0>,\n",
              " 'именуемые': <gensim.models.keyedvectors.Vocab at 0x7f3b74c92850>,\n",
              " 'искусства': <gensim.models.keyedvectors.Vocab at 0x7f3b74cb2490>,\n",
              " 'к': <gensim.models.keyedvectors.Vocab at 0x7f3b74c92f10>,\n",
              " 'квартал': <gensim.models.keyedvectors.Vocab at 0x7f3b74cb2750>,\n",
              " 'квартале': <gensim.models.keyedvectors.Vocab at 0x7f3b74c92d90>,\n",
              " 'квартирной': <gensim.models.keyedvectors.Vocab at 0x7f3b74cb28d0>,\n",
              " 'колонию': <gensim.models.keyedvectors.Vocab at 0x7f3b74cb21d0>,\n",
              " 'короткие': <gensim.models.keyedvectors.Vocab at 0x7f3b74c92910>,\n",
              " 'краски': <gensim.models.keyedvectors.Vocab at 0x7f3b74cd4550>,\n",
              " 'кривые': <gensim.models.keyedvectors.Vocab at 0x7f3b74c92510>,\n",
              " 'кровель': <gensim.models.keyedvectors.Vocab at 0x7f3b74cd4310>,\n",
              " 'кружек': <gensim.models.keyedvectors.Vocab at 0x7f3b74cb2590>,\n",
              " 'линии': <gensim.models.keyedvectors.Vocab at 0x7f3b74c92ad0>,\n",
              " 'люди': <gensim.models.keyedvectors.Vocab at 0x7f3b74cb27d0>,\n",
              " 'магазина': <gensim.models.keyedvectors.Vocab at 0x7f3b74cd1990>,\n",
              " 'мансард': <gensim.models.keyedvectors.Vocab at 0x7f3b74cd4450>,\n",
              " 'на': <gensim.models.keyedvectors.Vocab at 0x7f3b74cd4a90>,\n",
              " 'набрели': <gensim.models.keyedvectors.Vocab at 0x7f3b74cb2790>,\n",
              " 'не': <gensim.models.keyedvectors.Vocab at 0x7f3b74cd4290>,\n",
              " 'небольшом': <gensim.models.keyedvectors.Vocab at 0x7f3b74c92ed0>,\n",
              " 'некоему': <gensim.models.keyedvectors.Vocab at 0x7f3b74c92710>,\n",
              " 'несколько': <gensim.models.keyedvectors.Vocab at 0x7f3b74cb29d0>,\n",
              " 'ни': <gensim.models.keyedvectors.Vocab at 0x7f3b74cd43d0>,\n",
              " 'образуют': <gensim.models.keyedvectors.Vocab at 0x7f3b74c92a10>,\n",
              " 'одна': <gensim.models.keyedvectors.Vocab at 0x7f3b74c928d0>,\n",
              " 'одну-две': <gensim.models.keyedvectors.Vocab at 0x7f3b74cb2950>,\n",
              " 'окон': <gensim.models.keyedvectors.Vocab at 0x7f3b74cd4510>,\n",
              " 'оловянных': <gensim.models.keyedvectors.Vocab at 0x7f3b74cb2510>,\n",
              " 'они': <gensim.models.keyedvectors.Vocab at 0x7f3b74cb2890>,\n",
              " 'основали': <gensim.models.keyedvectors.Vocab at 0x7f3b74cb2290>,\n",
              " 'от': <gensim.models.keyedvectors.Vocab at 0x7f3b74c92f50>,\n",
              " 'открыть': <gensim.models.keyedvectors.Vocab at 0x7f3b74c92650>,\n",
              " 'перевезли': <gensim.models.keyedvectors.Vocab at 0x7f3b74cb22d0>,\n",
              " 'переломались': <gensim.models.keyedvectors.Vocab at 0x7f3b74c92c10>,\n",
              " 'перепутались': <gensim.models.keyedvectors.Vocab at 0x7f3b74c92a90>,\n",
              " 'пересекает': <gensim.models.keyedvectors.Vocab at 0x7f3b74c92810>,\n",
              " 'платы': <gensim.models.keyedvectors.Vocab at 0x7f3b74cb26d0>,\n",
              " 'по': <gensim.models.keyedvectors.Vocab at 0x7f3b74cd4190>,\n",
              " 'повстречает': <gensim.models.keyedvectors.Vocab at 0x7f3b74cd4a50>,\n",
              " 'поисках': <gensim.models.keyedvectors.Vocab at 0x7f3b74cd4950>,\n",
              " 'полоски': <gensim.models.keyedvectors.Vocab at 0x7f3b74c92bd0>,\n",
              " 'получив': <gensim.models.keyedvectors.Vocab at 0x7f3b74cd4250>,\n",
              " 'предположим': <gensim.models.keyedvectors.Vocab at 0x7f3b74c921d0>,\n",
              " 'проездами': <gensim.models.keyedvectors.Vocab at 0x7f3b74c92a50>,\n",
              " 'проезды': <gensim.models.keyedvectors.Vocab at 0x7f3b74c92cd0>,\n",
              " 'раза': <gensim.models.keyedvectors.Vocab at 0x7f3b74c92790>,\n",
              " 'с': <gensim.models.keyedvectors.Vocab at 0x7f3b74cb2710>,\n",
              " 'самe': <gensim.models.keyedvectors.Vocab at 0x7f3b74c927d0>,\n",
              " 'самого': <gensim.models.keyedvectors.Vocab at 0x7f3b74cd4a10>,\n",
              " 'сборщик': <gensim.models.keyedvectors.Vocab at 0x7f3b74c92090>,\n",
              " 'своеобразный': <gensim.models.keyedvectors.Vocab at 0x7f3b74cb2810>,\n",
              " 'свойство': <gensim.models.keyedvectors.Vocab at 0x7f3b74c92290>,\n",
              " 'себя': <gensim.models.keyedvectors.Vocab at 0x7f3b74c92590>,\n",
              " 'север': <gensim.models.keyedvectors.Vocab at 0x7f3b74cd4910>,\n",
              " 'со': <gensim.models.keyedvectors.Vocab at 0x7f3b74cd1890>,\n",
              " 'столетия': <gensim.models.keyedvectors.Vocab at 0x7f3b74cd49d0>,\n",
              " 'странные': <gensim.models.keyedvectors.Vocab at 0x7f3b74c92d50>,\n",
              " 'счетом': <gensim.models.keyedvectors.Vocab at 0x7f3b74cd4890>,\n",
              " 'счету': <gensim.models.keyedvectors.Vocab at 0x7f3b74cd4710>,\n",
              " 'там': <gensim.models.keyedvectors.Vocab at 0x7f3b74c92550>,\n",
              " 'туда': <gensim.models.keyedvectors.Vocab at 0x7f3b74cb2910>,\n",
              " 'углы': <gensim.models.keyedvectors.Vocab at 0x7f3b74c92990>,\n",
              " 'удалось': <gensim.models.keyedvectors.Vocab at 0x7f3b74c925d0>,\n",
              " 'улица': <gensim.models.keyedvectors.Vocab at 0x7f3b74c92c50>,\n",
              " 'улицы': <gensim.models.keyedvectors.Vocab at 0x7f3b74c92b50>,\n",
              " 'холст': <gensim.models.keyedvectors.Vocab at 0x7f3b74cd4390>,\n",
              " 'художнику': <gensim.models.keyedvectors.Vocab at 0x7f3b74c92690>,\n",
              " 'ценное': <gensim.models.keyedvectors.Vocab at 0x7f3b74c92490>,\n",
              " 'цента': <gensim.models.keyedvectors.Vocab at 0x7f3b74cd4850>,\n",
              " 'шестой': <gensim.models.keyedvectors.Vocab at 0x7f3b74cb2350>,\n",
              " 'эти': <gensim.models.keyedvectors.Vocab at 0x7f3b74c92890>,\n",
              " 'этой': <gensim.models.keyedvectors.Vocab at 0x7f3b74c920d0>}"
            ]
          },
          "metadata": {},
          "execution_count": 14
        }
      ]
    },
    {
      "cell_type": "code",
      "metadata": {
        "colab": {
          "base_uri": "https://localhost:8080/"
        },
        "id": "eqcaXFMM0WsY",
        "outputId": "2b30c729-18d5-4132-edff-05452ea2c3ef"
      },
      "source": [
        "#выдаёт похожие слова\n",
        "model.wv.most_similar(positive=[\"квартал\"])"
      ],
      "execution_count": 15,
      "outputs": [
        {
          "output_type": "execute_result",
          "data": {
            "text/plain": [
              "[('идущего', 0.21085870265960693),\n",
              " ('линии', 0.20330815017223358),\n",
              " ('из', 0.1967773586511612),\n",
              " ('перевезли', 0.16643115878105164),\n",
              " ('своеобразный', 0.1610868275165558),\n",
              " ('этой', 0.15702922642230988),\n",
              " ('переломались', 0.14875690639019012),\n",
              " ('единого', 0.1465202271938324),\n",
              " ('окон', 0.13690811395645142),\n",
              " ('странные', 0.13319918513298035)]"
            ]
          },
          "metadata": {},
          "execution_count": 15
        }
      ]
    },
    {
      "cell_type": "code",
      "metadata": {
        "colab": {
          "base_uri": "https://localhost:8080/"
        },
        "id": "u6qtyL-H2XVC",
        "outputId": "c415cb5d-eb73-4314-dc80-5b2af653d6a4"
      },
      "source": [
        "#можно складывать и вычитать вектора\n",
        "model.wv.most_similar(positive=[\"квартал\", \"улица\"], negative=[\"проезды\"])"
      ],
      "execution_count": 19,
      "outputs": [
        {
          "output_type": "execute_result",
          "data": {
            "text/plain": [
              "[('этой', 0.30522650480270386),\n",
              " ('линии', 0.21026799082756042),\n",
              " ('одна', 0.19910193979740143),\n",
              " ('единого', 0.18542221188545227),\n",
              " ('своеобразный', 0.1836809366941452),\n",
              " ('предположим', 0.17070025205612183),\n",
              " ('художнику', 0.15879812836647034),\n",
              " ('два', 0.15743833780288696),\n",
              " ('из', 0.14418232440948486),\n",
              " ('идущего', 0.1312064826488495)]"
            ]
          },
          "metadata": {},
          "execution_count": 19
        }
      ]
    },
    {
      "cell_type": "code",
      "metadata": {
        "colab": {
          "base_uri": "https://localhost:8080/",
          "height": 35
        },
        "id": "5OWcdRNt2mNF",
        "outputId": "c0f6ddda-d282-4a45-b01b-61d496ed61d7"
      },
      "source": [
        "#выбирает самое близское из списка\n",
        "model.wv.most_similar_to_given(\"холст\", [\"бумагу\", \"краски\", \"улица\"])"
      ],
      "execution_count": 21,
      "outputs": [
        {
          "output_type": "execute_result",
          "data": {
            "application/vnd.google.colaboratory.intrinsic+json": {
              "type": "string"
            },
            "text/plain": [
              "'бумагу'"
            ]
          },
          "metadata": {},
          "execution_count": 21
        }
      ]
    },
    {
      "cell_type": "code",
      "metadata": {
        "id": "hvwv5QVL20Dc",
        "colab": {
          "base_uri": "https://localhost:8080/"
        },
        "outputId": "bbf6a53e-cc88-4674-f50e-ee09f3fd686e"
      },
      "source": [
        "#векторное представление слова\n",
        "model.wv.word_vec(\"улица\")"
      ],
      "execution_count": 23,
      "outputs": [
        {
          "output_type": "execute_result",
          "data": {
            "text/plain": [
              "array([ 2.71649635e-03, -4.87329345e-03, -3.96915158e-04,  3.88073316e-03,\n",
              "       -4.76316456e-03,  1.87283638e-03,  3.04946629e-03,  1.18902139e-03,\n",
              "       -4.44467319e-03,  3.60355596e-03,  4.35615797e-03,  2.82465061e-03,\n",
              "       -8.76247213e-05,  3.26884422e-03,  4.86506242e-03, -3.37220635e-03,\n",
              "        4.59972722e-03, -9.66917025e-04,  1.45435799e-03,  3.10889329e-03,\n",
              "        3.11911898e-03, -2.85607483e-03,  4.03097039e-03,  2.72388547e-03,\n",
              "       -4.25806828e-03,  4.61288309e-03, -2.96722283e-03, -3.35725024e-04,\n",
              "       -3.59870784e-04,  1.07010936e-04, -1.44591578e-03,  1.09176664e-03,\n",
              "       -1.23187507e-04, -3.19753122e-03, -6.20183928e-05, -2.69237626e-03,\n",
              "        2.49659922e-03,  1.83710118e-03, -2.17364938e-03,  2.24835845e-03,\n",
              "        3.53931030e-03,  6.11253956e-04, -2.50831363e-03,  1.12528447e-03,\n",
              "        2.30336096e-03, -5.00933151e-04, -3.75820487e-03,  4.31258464e-03,\n",
              "        3.09327082e-03,  3.19408951e-04,  3.19908606e-03, -1.64201751e-03,\n",
              "       -4.58303327e-03, -6.20638719e-04,  7.26908504e-04,  2.57790601e-03,\n",
              "        1.27781369e-03, -1.37754643e-04,  4.73843748e-03,  4.85219061e-03,\n",
              "        3.50375543e-03, -3.94784287e-03, -4.22518188e-03, -2.09280872e-03,\n",
              "       -4.33086371e-03,  4.32545086e-03,  4.56730649e-03, -3.94649105e-03,\n",
              "        7.98772089e-04, -6.41153951e-04,  3.75716103e-04,  3.96401374e-05,\n",
              "        3.86237213e-03,  4.94093681e-03, -4.74044634e-03,  1.49890198e-03,\n",
              "        2.25095107e-04,  1.14663781e-04,  4.53646714e-03,  8.77446088e-04,\n",
              "        1.59428408e-03, -5.36772714e-04,  4.79566306e-03, -1.29075896e-03,\n",
              "        2.36961199e-03, -4.76467051e-03,  7.12465204e-04, -2.77120713e-03,\n",
              "        4.92194947e-03,  3.52676190e-03,  3.88086936e-03, -4.75917291e-03,\n",
              "        1.56064483e-03, -3.86225549e-03, -3.21190106e-03, -2.17823152e-04,\n",
              "       -3.69724142e-03,  4.92762309e-03,  3.68014094e-03, -4.24513314e-03],\n",
              "      dtype=float32)"
            ]
          },
          "metadata": {},
          "execution_count": 23
        }
      ]
    }
  ]
}