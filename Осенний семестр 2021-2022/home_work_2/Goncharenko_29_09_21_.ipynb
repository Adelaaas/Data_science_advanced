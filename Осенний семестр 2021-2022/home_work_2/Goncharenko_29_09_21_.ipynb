{
  "nbformat": 4,
  "nbformat_minor": 0,
  "metadata": {
    "colab": {
      "name": "Goncharenko 29.09.21 .ipynb",
      "provenance": [],
      "collapsed_sections": []
    },
    "kernelspec": {
      "name": "python3",
      "display_name": "Python 3"
    },
    "language_info": {
      "name": "python"
    }
  },
  "cells": [
    {
      "cell_type": "markdown",
      "metadata": {
        "id": "OBjcrv3tjlXV"
      },
      "source": [
        "Задача 1"
      ]
    },
    {
      "cell_type": "code",
      "metadata": {
        "colab": {
          "base_uri": "https://localhost:8080/"
        },
        "id": "JcpCBNBejn7m",
        "outputId": "edb47e18-a393-405b-95fc-2802da95c83b"
      },
      "source": [
        "w = input().split() # ввод строки с разбиением \n",
        "\n",
        "for i in w:             \n",
        "  if i not in w:\n",
        "    w.append(i)         \n",
        "\n",
        "for i in range(0, len(w)):\n",
        "  print(w[i], '----', w.count(w[i]))   "
      ],
      "execution_count": 25,
      "outputs": [
        {
          "output_type": "stream",
          "name": "stdout",
          "text": [
            "здесь должна была быть функция, но оказалось, что здесь алгоритм\n",
            "здесь ---- 2\n",
            "должна ---- 1\n",
            "была ---- 1\n",
            "быть ---- 1\n",
            "функция, ---- 1\n",
            "но ---- 1\n",
            "оказалось, ---- 1\n",
            "что ---- 1\n",
            "здесь ---- 2\n",
            "алгоритм ---- 1\n"
          ]
        }
      ]
    },
    {
      "cell_type": "markdown",
      "metadata": {
        "id": "u67jiWVBjohM"
      },
      "source": [
        "Задача 2"
      ]
    },
    {
      "cell_type": "code",
      "metadata": {
        "colab": {
          "base_uri": "https://localhost:8080/"
        },
        "id": "PhTic3QLjpn_",
        "outputId": "6396994c-4d91-4b6f-e2ad-27fe64535c10"
      },
      "source": [
        "w = input().split() # ввод строки с разбиением \n",
        "N = int(input()) # по сколько делить\n",
        "Ngram = []\n",
        "\n",
        "for i in range(len(w) - N + 1):\n",
        "  Ngram.append(w[i:i + N])\n",
        "\n",
        "print(Ngram)"
      ],
      "execution_count": 15,
      "outputs": [
        {
          "output_type": "stream",
          "name": "stdout",
          "text": [
            "наконец, я дописал этот номер и могу пойти спать\n",
            "3\n",
            "[['наконец,', 'я', 'дописал'], ['я', 'дописал', 'этот'], ['дописал', 'этот', 'номер'], ['этот', 'номер', 'и'], ['номер', 'и', 'могу'], ['и', 'могу', 'пойти'], ['могу', 'пойти', 'спать']]\n"
          ]
        }
      ]
    }
  ]
}