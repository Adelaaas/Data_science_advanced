{
  "nbformat": 4,
  "nbformat_minor": 0,
  "metadata": {
    "colab": {
      "name": "Петров_Дз2_ переделал.ipynb",
      "provenance": [],
      "collapsed_sections": []
    },
    "kernelspec": {
      "name": "python3",
      "display_name": "Python 3"
    }
  },
  "cells": [
    {
      "cell_type": "markdown",
      "metadata": {
        "id": "p7izqIP0me_9"
      },
      "source": [
        "N-граммы"
      ]
    },
    {
      "cell_type": "code",
      "metadata": {
        "id": "IrjCdiqtmg-d",
        "colab": {
          "base_uri": "https://localhost:8080/"
        },
        "outputId": "4530ec9d-c134-48a7-fb43-c39609622e15"
      },
      "source": [
        "from string import punctuation\n",
        "\n",
        "punctuation += '—-»«'\n",
        "def clean(text):\n",
        "    if not isinstance(text, str):\n",
        "        raise TypeError('text должен быть str')\n",
        "    return ''.join(x for x in text if x not in punctuation)\n",
        "\n",
        "\n",
        "def ngram():\n",
        "  word = clean(input()).split()\n",
        "  n = int(input())\n",
        "  ngram = []  \n",
        "  for i in range(len(word)- n + 1):\n",
        "    ngram.append(word[i:i + n])\n",
        "  print(ngram)\n",
        "\n",
        "ngram()"
      ],
      "execution_count": null,
      "outputs": [
        {
          "output_type": "stream",
          "name": "stdout",
          "text": [
            "Я, наконец, все сделал\n",
            "2\n",
            "[['Я', 'наконец'], ['наконец', 'все'], ['все', 'сделал']]\n"
          ]
        }
      ]
    },
    {
      "cell_type": "markdown",
      "metadata": {
        "id": "-TGwfXoh_GZU"
      },
      "source": [
        "TF\n"
      ]
    },
    {
      "cell_type": "code",
      "metadata": {
        "colab": {
          "base_uri": "https://localhost:8080/"
        },
        "id": "_5QO-EDC_FJs",
        "outputId": "71438aa1-b36e-44a4-ea06-d8b0590d4247"
      },
      "source": [
        "from string import punctuation\n",
        " \n",
        "punctuation += '—-»«'\n",
        "def clean(text):\n",
        "    if not isinstance(text, str):\n",
        "        raise TypeError('text должен быть str')\n",
        "    return ''.join(x for x in text if x not in punctuation)\n",
        "\n",
        "def tf_idf():\n",
        "  word = [e.lower() for e in clean(input()).split()]\n",
        "  a = {}\n",
        "  word2 = list(set(word))\n",
        "  print(word2)\n",
        "  for e in word2:\n",
        "    a[e] = word.count(e) / len(word)\n",
        "  for e in a:\n",
        "    print(e, a[e])\n",
        "\n",
        "tf_idf()\n"
      ],
      "execution_count": 41,
      "outputs": [
        {
          "output_type": "stream",
          "name": "stdout",
          "text": [
            "Единство предмета речи — это тема высказывания. Тема — это смысловое ядро текста, конденсированное и обобщённое содержание текста.  Понятие «содержание высказывания» связано с категорией информативности речи и присуще только тексту. Оно сообщает читателю индивидуально-авторское понимание отношений между явлениями, их значимости во всех сферах придают ему смысловую цельность.\n",
            "['между', 'читателю', 'всех', 'смысловое', 'речи', 'текста', 'конденсированное', 'связано', 'обобщённое', 'присуще', 'высказывания', 'смысловую', 'тексту', 'цельность', 'это', 'значимости', 'оно', 'явлениями', 'единство', 'тема', 'только', 'отношений', 'понимание', 'индивидуальноавторское', 'содержание', 'во', 'понятие', 'сферах', 'предмета', 'их', 'информативности', 'ядро', 'с', 'категорией', 'придают', 'ему', 'сообщает', 'и']\n",
            "между 0.022222222222222223\n",
            "читателю 0.022222222222222223\n",
            "всех 0.022222222222222223\n",
            "смысловое 0.022222222222222223\n",
            "речи 0.044444444444444446\n",
            "текста 0.044444444444444446\n",
            "конденсированное 0.022222222222222223\n",
            "связано 0.022222222222222223\n",
            "обобщённое 0.022222222222222223\n",
            "присуще 0.022222222222222223\n",
            "высказывания 0.044444444444444446\n",
            "смысловую 0.022222222222222223\n",
            "тексту 0.022222222222222223\n",
            "цельность 0.022222222222222223\n",
            "это 0.044444444444444446\n",
            "значимости 0.022222222222222223\n",
            "оно 0.022222222222222223\n",
            "явлениями 0.022222222222222223\n",
            "единство 0.022222222222222223\n",
            "тема 0.044444444444444446\n",
            "только 0.022222222222222223\n",
            "отношений 0.022222222222222223\n",
            "понимание 0.022222222222222223\n",
            "индивидуальноавторское 0.022222222222222223\n",
            "содержание 0.044444444444444446\n",
            "во 0.022222222222222223\n",
            "понятие 0.022222222222222223\n",
            "сферах 0.022222222222222223\n",
            "предмета 0.022222222222222223\n",
            "их 0.022222222222222223\n",
            "информативности 0.022222222222222223\n",
            "ядро 0.022222222222222223\n",
            "с 0.022222222222222223\n",
            "категорией 0.022222222222222223\n",
            "придают 0.022222222222222223\n",
            "ему 0.022222222222222223\n",
            "сообщает 0.022222222222222223\n",
            "и 0.044444444444444446\n"
          ]
        }
      ]
    },
    {
      "cell_type": "markdown",
      "metadata": {
        "id": "HC5LHt2HEtCB"
      },
      "source": [
        "IDF"
      ]
    },
    {
      "cell_type": "code",
      "metadata": {
        "colab": {
          "base_uri": "https://localhost:8080/"
        },
        "id": "1qxQY66rEjKm",
        "outputId": "e2583f49-5de6-4f42-e36f-8cdcbbb47dcf"
      },
      "source": [
        "from string import punctuation\n",
        "import math\n",
        "\n",
        " \n",
        "punctuation += '—-»«'\n",
        "def clean(text):\n",
        "    if not isinstance(text, str):\n",
        "        raise TypeError('text должен быть str')\n",
        "    return ''.join(x for x in text if x not in punctuation)\n",
        "\n",
        "def idf(word, corpus):\n",
        "        return math.log10(len(corpus)/sum([1.0 for i in corpus if word in i]))\n",
        "        \n",
        "text = input().split('.')\n",
        "texts = []\n",
        "for e in text:\n",
        "  texts.append(clean(e).split())\n",
        "print(idf(input(), texts))"
      ],
      "execution_count": 45,
      "outputs": [
        {
          "output_type": "stream",
          "name": "stdout",
          "text": [
            "Единство предмета речи — это тема высказывания. Тема — это смысловое ядро текста, конденсированное и обобщённое содержание текста.  Понятие «содержание высказывания» связано с категорией информативности речи и присуще только тексту. Оно сообщает читателю индивидуально-авторское понимание отношений между явлениями, их значимости во всех сферах придают ему смысловую цельность.\n",
            "это\n",
            "0.3979400086720376\n"
          ]
        }
      ]
    }
  ]
}
