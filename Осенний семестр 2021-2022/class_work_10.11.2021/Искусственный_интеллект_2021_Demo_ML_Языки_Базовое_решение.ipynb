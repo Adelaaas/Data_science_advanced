{
  "nbformat": 4,
  "nbformat_minor": 0,
  "metadata": {
    "colab": {
      "name": "Искусственный интеллект 2021. Demo ML. Языки. Базовое решение.ipynb",
      "provenance": []
    },
    "kernelspec": {
      "display_name": "Python 3",
      "name": "python3"
    },
    "language_info": {
      "name": "python"
    }
  },
  "cells": [
    {
      "cell_type": "markdown",
      "metadata": {
        "id": "Bz8LDHvYjvfW"
      },
      "source": [
        "# Искусственный интеллект 2021. Demo ML. Языки"
      ]
    },
    {
      "cell_type": "markdown",
      "metadata": {
        "id": "i6TGJ9avkqI2"
      },
      "source": [
        "## **A. Языки**\n",
        "\n",
        "Вам дан датасет с предложениями на разных языках Европы: по 15000 предложений на каждом из 20 языков из списка: bg,cs,da,de,el,es,et,ﬁ,fr,hu,it,lt,lv,nl,pl,pt,ro,sk,sl,sv.\n",
        "\n",
        "**Ваша цель:** научиться распознавать по слову его язык.\n",
        "\n",
        "Метрика качества **accuracy** — доля слов, у которых правильно определен язык среди всех слов."
      ]
    },
    {
      "cell_type": "code",
      "metadata": {
        "colab": {
          "base_uri": "https://localhost:8080/"
        },
        "id": "v8LB72Jc_IlO",
        "outputId": "b13dee40-07d7-43b1-ab1f-aa48c9938f21"
      },
      "source": [
        "# Позволяет монтировать гугл-диск в colab\n",
        "# и получить доступ к папкам и файлам на гугл-диске\n",
        "from google.colab import drive\n",
        "drive.mount('/content/gdrive')"
      ],
      "execution_count": 1,
      "outputs": [
        {
          "output_type": "stream",
          "name": "stdout",
          "text": [
            "Mounted at /content/gdrive\n"
          ]
        }
      ]
    },
    {
      "cell_type": "markdown",
      "metadata": {
        "id": "SrzGJzqzlvNK"
      },
      "source": [
        "Модуль **os** из стандартной библиотеки языка программирования Python обычно используется для работы с установленной ОС, а также файловой системой ПК. Он содержит массу полезных методов для взаимодействия с файлами и папками на жестком диске. Программы, работающие с модулем os, не зависят от типа ОС и являются легко переносимыми на другую платформу."
      ]
    },
    {
      "cell_type": "code",
      "metadata": {
        "id": "ourZVDb8_3vT",
        "colab": {
          "base_uri": "https://localhost:8080/",
          "height": 36
        },
        "outputId": "a6d4bc07-eddb-4f10-de03-0cd3e8be6ca1"
      },
      "source": [
        "import re\n",
        "import pandas as pd\n",
        "import os\n",
        "\n",
        "url = os.chdir(r\"./gdrive/MyDrive/Я-профи подготовка по машинному обучению/Языки/data kaggle\")\n",
        "os.getcwd()"
      ],
      "execution_count": 2,
      "outputs": [
        {
          "output_type": "execute_result",
          "data": {
            "application/vnd.google.colaboratory.intrinsic+json": {
              "type": "string"
            },
            "text/plain": [
              "'/content/gdrive/MyDrive/Я-профи подготовка по машинному обучению/Языки/data kaggle'"
            ]
          },
          "metadata": {},
          "execution_count": 2
        }
      ]
    },
    {
      "cell_type": "markdown",
      "metadata": {
        "id": "6cP4twe0ejSY"
      },
      "source": [
        "# Создание и загрузка данных"
      ]
    },
    {
      "cell_type": "code",
      "metadata": {
        "id": "GR0cHM6VBTuu",
        "colab": {
          "base_uri": "https://localhost:8080/",
          "height": 36
        },
        "outputId": "2f71cc8f-3393-4a56-c414-9753ec5bb806"
      },
      "source": [
        "os.getcwd()"
      ],
      "execution_count": 3,
      "outputs": [
        {
          "output_type": "execute_result",
          "data": {
            "application/vnd.google.colaboratory.intrinsic+json": {
              "type": "string"
            },
            "text/plain": [
              "'/content/gdrive/MyDrive/Я-профи подготовка по машинному обучению/Языки/data kaggle'"
            ]
          },
          "metadata": {},
          "execution_count": 3
        }
      ]
    },
    {
      "cell_type": "code",
      "metadata": {
        "colab": {
          "base_uri": "https://localhost:8080/"
        },
        "id": "8_ConcSEBerb",
        "outputId": "8b9ce36c-91af-491f-a02f-f281fbf3aaa6"
      },
      "source": [
        "files = os.listdir(url)\n",
        "files"
      ],
      "execution_count": 4,
      "outputs": [
        {
          "output_type": "execute_result",
          "data": {
            "text/plain": [
              "['test_submission',\n",
              " 'train_de',\n",
              " 'test_data.csv',\n",
              " 'train_da',\n",
              " 'train_cs',\n",
              " 'train_bg',\n",
              " 'train_el',\n",
              " 'sample_submit (1).csv',\n",
              " 'test',\n",
              " 'train_hu',\n",
              " 'train_lv',\n",
              " 'train_et',\n",
              " 'train_fr',\n",
              " 'train_lt',\n",
              " 'train_fi',\n",
              " 'train_es',\n",
              " 'train_it',\n",
              " 'train_nl',\n",
              " 'train_pt',\n",
              " 'train_sv',\n",
              " 'train_sl',\n",
              " 'train_pl',\n",
              " 'train_ro',\n",
              " 'train_sk',\n",
              " 'submition_adelya.csv']"
            ]
          },
          "metadata": {},
          "execution_count": 4
        }
      ]
    },
    {
      "cell_type": "code",
      "metadata": {
        "id": "_BdZPnrpfcuO",
        "colab": {
          "base_uri": "https://localhost:8080/"
        },
        "outputId": "802e6071-2782-473d-ede9-eab431143357"
      },
      "source": [
        "files = ['train_de', 'train_da', 'train_cs', 'train_bg', 'train_el', 'train_hu', 'train_lv',\n",
        "         'train_et', 'train_fr', 'train_lt', 'train_fi', 'train_es', 'train_it', 'train_nl',\n",
        "         'train_pt', 'train_sv', 'train_sl', 'train_pl', 'train_ro', 'train_sk']\n",
        "len(files)"
      ],
      "execution_count": 5,
      "outputs": [
        {
          "output_type": "execute_result",
          "data": {
            "text/plain": [
              "20"
            ]
          },
          "metadata": {},
          "execution_count": 5
        }
      ]
    },
    {
      "cell_type": "markdown",
      "metadata": {
        "id": "XEe1vxUZl3Mr"
      },
      "source": [
        "Так как у нас 20 файлов в которых находятся предложения на 20 различных языках, в первую очередь нужно как то объедининть все данные и создать размеченную выборку для обучения."
      ]
    },
    {
      "cell_type": "code",
      "metadata": {
        "id": "r3yx87KRBO5X"
      },
      "source": [
        "lang = {'train_da':[], 'train_bg':[], 'train_cs':[], 'train_de':[], 'train_el':[], 'train_es':[], 'train_et':[],\n",
        "        'train_fi':[], 'train_fr':[], 'train_hu':[], 'train_it':[], 'train_lt':[], 'train_lv':[], 'train_nl':[],\n",
        "        'train_pl':[], 'train_pt':[], 'train_ro':[], 'train_sk':[], 'train_sl':[], 'train_sv':[]}\n",
        "\n",
        "for file in files:\n",
        "    with open(file, \"r\", encoding='utf-8') as f:\n",
        "        name = file\n",
        "        k = []\n",
        "        # считываем все строки одного файла и сохраняем их во временный список k\n",
        "        for line in f.readlines():\n",
        "            k.append(line)\n",
        "        lang[name] = k"
      ],
      "execution_count": null,
      "outputs": []
    },
    {
      "cell_type": "code",
      "metadata": {
        "id": "0SivkdzIF6fy",
        "colab": {
          "base_uri": "https://localhost:8080/"
        },
        "outputId": "d0c47cec-e7d6-4cab-bcd3-2b1d4be1bc41"
      },
      "source": [
        "# re - библиотека для работы с регулярными выражениями и строками\n",
        "for l in lang:\n",
        "    if re.findall('train', l):\n",
        "        k = l.split('train_')[1]\n",
        "        print(l, '|', k)"
      ],
      "execution_count": 8,
      "outputs": [
        {
          "output_type": "stream",
          "name": "stdout",
          "text": [
            "train_da | da\n",
            "train_bg | bg\n",
            "train_cs | cs\n",
            "train_de | de\n",
            "train_el | el\n",
            "train_es | es\n",
            "train_et | et\n",
            "train_fi | fi\n",
            "train_fr | fr\n",
            "train_hu | hu\n",
            "train_it | it\n",
            "train_lt | lt\n",
            "train_lv | lv\n",
            "train_nl | nl\n",
            "train_pl | pl\n",
            "train_pt | pt\n",
            "train_ro | ro\n",
            "train_sk | sk\n",
            "train_sl | sl\n",
            "train_sv | sv\n"
          ]
        }
      ]
    },
    {
      "cell_type": "code",
      "metadata": {
        "colab": {
          "base_uri": "https://localhost:8080/",
          "height": 418
        },
        "id": "ouwrGu6yDkKp",
        "outputId": "4ccb9068-6af3-463d-fbb1-dbd7e9dfd914"
      },
      "source": [
        "train = pd.DataFrame(columns=['text', 'language'])\n",
        "\n",
        "for l in lang:\n",
        "    if re.findall('train', l):\n",
        "        tmp = pd.DataFrame()\n",
        "        tmp['text'] = lang[l]\n",
        "        tmp['language'] = l.split('train_')[1]\n",
        "        train = pd.concat([train, tmp], ignore_index=True)\n",
        "\n",
        "train"
      ],
      "execution_count": 9,
      "outputs": [
        {
          "output_type": "execute_result",
          "data": {
            "text/html": [
              "<div>\n",
              "<style scoped>\n",
              "    .dataframe tbody tr th:only-of-type {\n",
              "        vertical-align: middle;\n",
              "    }\n",
              "\n",
              "    .dataframe tbody tr th {\n",
              "        vertical-align: top;\n",
              "    }\n",
              "\n",
              "    .dataframe thead th {\n",
              "        text-align: right;\n",
              "    }\n",
              "</style>\n",
              "<table border=\"1\" class=\"dataframe\">\n",
              "  <thead>\n",
              "    <tr style=\"text-align: right;\">\n",
              "      <th></th>\n",
              "      <th>text</th>\n",
              "      <th>language</th>\n",
              "    </tr>\n",
              "  </thead>\n",
              "  <tbody>\n",
              "    <tr>\n",
              "      <th>0</th>\n",
              "      <td>Gennem pressen og tv vil De være bekendt med e...</td>\n",
              "      <td>da</td>\n",
              "    </tr>\n",
              "    <tr>\n",
              "      <th>1</th>\n",
              "      <td>Det er netop dér, De - hvis De ønsker det - ka...</td>\n",
              "      <td>da</td>\n",
              "    </tr>\n",
              "    <tr>\n",
              "      <th>2</th>\n",
              "      <td>På anmodning af et fransk parlamentsmedlem, hr.\\n</td>\n",
              "      <td>da</td>\n",
              "    </tr>\n",
              "    <tr>\n",
              "      <th>3</th>\n",
              "      <td>Men, fru formand, det, som jeg havde anmodet o...</td>\n",
              "      <td>da</td>\n",
              "    </tr>\n",
              "    <tr>\n",
              "      <th>4</th>\n",
              "      <td>Fru Plooij-van Gorsel, jeg kan oplyse Dem om, ...</td>\n",
              "      <td>da</td>\n",
              "    </tr>\n",
              "    <tr>\n",
              "      <th>...</th>\n",
              "      <td>...</td>\n",
              "      <td>...</td>\n",
              "    </tr>\n",
              "    <tr>\n",
              "      <th>299995</th>\n",
              "      <td>Det program som har lagts fram i dag tyder i a...</td>\n",
              "      <td>sv</td>\n",
              "    </tr>\n",
              "    <tr>\n",
              "      <th>299996</th>\n",
              "      <td>I synnerhet gläder jag mig åt att frågorna om ...</td>\n",
              "      <td>sv</td>\n",
              "    </tr>\n",
              "    <tr>\n",
              "      <th>299997</th>\n",
              "      <td>Jag skulle vilja koncentrera mig på en av huvu...</td>\n",
              "      <td>sv</td>\n",
              "    </tr>\n",
              "    <tr>\n",
              "      <th>299998</th>\n",
              "      <td>Men det behövs mer än så.\\n</td>\n",
              "      <td>sv</td>\n",
              "    </tr>\n",
              "    <tr>\n",
              "      <th>299999</th>\n",
              "      <td>Toppmötet i Feira, mitt sista exempel.\\n</td>\n",
              "      <td>sv</td>\n",
              "    </tr>\n",
              "  </tbody>\n",
              "</table>\n",
              "<p>300000 rows × 2 columns</p>\n",
              "</div>"
            ],
            "text/plain": [
              "                                                     text language\n",
              "0       Gennem pressen og tv vil De være bekendt med e...       da\n",
              "1       Det er netop dér, De - hvis De ønsker det - ka...       da\n",
              "2       På anmodning af et fransk parlamentsmedlem, hr.\\n       da\n",
              "3       Men, fru formand, det, som jeg havde anmodet o...       da\n",
              "4       Fru Plooij-van Gorsel, jeg kan oplyse Dem om, ...       da\n",
              "...                                                   ...      ...\n",
              "299995  Det program som har lagts fram i dag tyder i a...       sv\n",
              "299996  I synnerhet gläder jag mig åt att frågorna om ...       sv\n",
              "299997  Jag skulle vilja koncentrera mig på en av huvu...       sv\n",
              "299998                        Men det behövs mer än så.\\n       sv\n",
              "299999           Toppmötet i Feira, mitt sista exempel.\\n       sv\n",
              "\n",
              "[300000 rows x 2 columns]"
            ]
          },
          "metadata": {},
          "execution_count": 9
        }
      ]
    },
    {
      "cell_type": "code",
      "metadata": {
        "colab": {
          "base_uri": "https://localhost:8080/"
        },
        "id": "uxGiGh6ZmZG4",
        "outputId": "1bfe63a3-75b8-40cb-8fa6-4e5bcf2f9bc9"
      },
      "source": [
        "print(f'What languages are represented in the data: {train[\"language\"].unique()}')\n",
        "print(f'Ltn languages are represented in the data: {len(train[\"language\"].unique())}')\n",
        "print('-'*100)\n",
        "print(f'How many sentences are presented for each language: \\n{train[\"language\"].value_counts()}')"
      ],
      "execution_count": 10,
      "outputs": [
        {
          "output_type": "stream",
          "name": "stdout",
          "text": [
            "What languages are represented in the data: ['da' 'bg' 'cs' 'de' 'el' 'es' 'et' 'fi' 'fr' 'hu' 'it' 'lt' 'lv' 'nl'\n",
            " 'pl' 'pt' 'ro' 'sk' 'sl' 'sv']\n",
            "Ltn languages are represented in the data: 20\n",
            "----------------------------------------------------------------------------------------------------\n",
            "How many sentences are presented for each language: \n",
            "fi    15000\n",
            "pl    15000\n",
            "el    15000\n",
            "sl    15000\n",
            "hu    15000\n",
            "bg    15000\n",
            "de    15000\n",
            "nl    15000\n",
            "sk    15000\n",
            "da    15000\n",
            "ro    15000\n",
            "sv    15000\n",
            "cs    15000\n",
            "et    15000\n",
            "lt    15000\n",
            "lv    15000\n",
            "es    15000\n",
            "pt    15000\n",
            "fr    15000\n",
            "it    15000\n",
            "Name: language, dtype: int64\n"
          ]
        }
      ]
    },
    {
      "cell_type": "code",
      "metadata": {
        "colab": {
          "base_uri": "https://localhost:8080/",
          "height": 418
        },
        "id": "yiPjVjdVH4oa",
        "outputId": "8bf41f32-c939-4d35-be97-7e4f241c0e45"
      },
      "source": [
        "# Обработка и загрузка тестового набора данных\n",
        "test = pd.read_csv('test_data.csv')\n",
        "test.drop(columns=['index'])\n",
        "test"
      ],
      "execution_count": 11,
      "outputs": [
        {
          "output_type": "execute_result",
          "data": {
            "text/html": [
              "<div>\n",
              "<style scoped>\n",
              "    .dataframe tbody tr th:only-of-type {\n",
              "        vertical-align: middle;\n",
              "    }\n",
              "\n",
              "    .dataframe tbody tr th {\n",
              "        vertical-align: top;\n",
              "    }\n",
              "\n",
              "    .dataframe thead th {\n",
              "        text-align: right;\n",
              "    }\n",
              "</style>\n",
              "<table border=\"1\" class=\"dataframe\">\n",
              "  <thead>\n",
              "    <tr style=\"text-align: right;\">\n",
              "      <th></th>\n",
              "      <th>index</th>\n",
              "      <th>text</th>\n",
              "    </tr>\n",
              "  </thead>\n",
              "  <tbody>\n",
              "    <tr>\n",
              "      <th>0</th>\n",
              "      <td>0</td>\n",
              "      <td>szállítanak</td>\n",
              "    </tr>\n",
              "    <tr>\n",
              "      <th>1</th>\n",
              "      <td>1</td>\n",
              "      <td>pracovni</td>\n",
              "    </tr>\n",
              "    <tr>\n",
              "      <th>2</th>\n",
              "      <td>2</td>\n",
              "      <td>fašisti</td>\n",
              "    </tr>\n",
              "    <tr>\n",
              "      <th>3</th>\n",
              "      <td>3</td>\n",
              "      <td>passer</td>\n",
              "    </tr>\n",
              "    <tr>\n",
              "      <th>4</th>\n",
              "      <td>4</td>\n",
              "      <td>culpabilização</td>\n",
              "    </tr>\n",
              "    <tr>\n",
              "      <th>...</th>\n",
              "      <td>...</td>\n",
              "      <td>...</td>\n",
              "    </tr>\n",
              "    <tr>\n",
              "      <th>8515</th>\n",
              "      <td>8515</td>\n",
              "      <td>middags</td>\n",
              "    </tr>\n",
              "    <tr>\n",
              "      <th>8516</th>\n",
              "      <td>8516</td>\n",
              "      <td>tunnetega</td>\n",
              "    </tr>\n",
              "    <tr>\n",
              "      <th>8517</th>\n",
              "      <td>8517</td>\n",
              "      <td>tocassem</td>\n",
              "    </tr>\n",
              "    <tr>\n",
              "      <th>8518</th>\n",
              "      <td>8518</td>\n",
              "      <td>urale</td>\n",
              "    </tr>\n",
              "    <tr>\n",
              "      <th>8519</th>\n",
              "      <td>8519</td>\n",
              "      <td>labialisassiez</td>\n",
              "    </tr>\n",
              "  </tbody>\n",
              "</table>\n",
              "<p>8520 rows × 2 columns</p>\n",
              "</div>"
            ],
            "text/plain": [
              "      index            text\n",
              "0         0    szállítanak \n",
              "1         1       pracovni \n",
              "2         2        fašisti \n",
              "3         3         passer \n",
              "4         4  culpabilização\n",
              "...     ...             ...\n",
              "8515   8515        middags \n",
              "8516   8516      tunnetega \n",
              "8517   8517        tocassem\n",
              "8518   8518          urale \n",
              "8519   8519  labialisassiez\n",
              "\n",
              "[8520 rows x 2 columns]"
            ]
          },
          "metadata": {},
          "execution_count": 11
        }
      ]
    },
    {
      "cell_type": "markdown",
      "metadata": {
        "id": "Sz-e61n0JNTU"
      },
      "source": [
        "# Обработка текста"
      ]
    },
    {
      "cell_type": "markdown",
      "metadata": {
        "id": "IcUv4o2coL9m"
      },
      "source": [
        "Любой рабочий процесс анализа текстовых данных начинается с их предварительной обработки и очистки текста. \n",
        "\n",
        "**Рассмотрим стандартный конвейер (pipeline) предобработки:**\n",
        "\n",
        "- удаление знаков препинания, лишних и спец символов\n",
        "- приведение к одному регистру\n",
        "- токенизировать текст – разбить текст на предложения, слова и другие единицы;\n",
        "- удалить стоп-слова;\n",
        "- привести слова к нормальной форме;\n",
        "- векторизовать тексты – сделать числовые представления текстов для их дальнейшей обработки классификатором.\n",
        "\n",
        "Все эти шаги служат для уменьшения шума, присущего любому обычному тексту, и повышения точности результатов классификатора. Для решения указанных задач есть несколько отличных библиотек, например, NLTK, TextBlob и spaCy, pymorphy.\n",
        "\n",
        "**Посмотрев на разные предложения и исходя из задачи можно сделать следующие выводы:**\n",
        "- знаки препенания не зависят от языка (точка что в английском, что в русском) - значит можно удалить все знаки препинания\n",
        "- стоп-слова могут иметь значения в данной задаче"
      ]
    },
    {
      "cell_type": "code",
      "metadata": {
        "colab": {
          "base_uri": "https://localhost:8080/",
          "height": 418
        },
        "id": "vtsQFTYAJP1j",
        "outputId": "1e25d661-4692-483a-aa09-fb89adaa1a93"
      },
      "source": [
        "import nltk\n",
        "# nltk.download(\"stopwords\")\n",
        "from nltk.corpus import stopwords\n",
        "from string import punctuation\n",
        "# russian_stopwords = stopwords.words(\"russian\")\n",
        "\n",
        "def remove_punct(text):\n",
        "    # удаление пунктуации в тексте\n",
        "    table = {33: ' ', 34: ' ', 35: ' ', 36: ' ', 37: ' ', 38: ' ', 39: ' ', 40: ' ', 41: ' ', 42: ' ',\n",
        "             43: ' ', 44: ' ', 45: ' ', 46: ' ', 47: ' ', 58: ' ', 59: ' ', 60: ' ', 61: ' ', 62: ' ',\n",
        "             63: ' ', 64: ' ', 91: ' ', 92: ' ', 93: ' ', 94: ' ', 95: ' ', 96: ' ', 123: ' ', 124: ' ', 125: ' ', 126: ' '}\n",
        "    return text.translate(table)\n",
        "\n",
        "def txt_prep(df):\n",
        "    # функция приводит весь текст к нижнему регистру\n",
        "    # удаляет пунктуацию\n",
        "    df['initial_text'] = df['text']\n",
        "    df['text'] = df['text'].str.lower() # Hello - hello\n",
        "    df['text'] = df['text'].map(lambda x: remove_punct(x))\n",
        "    df['text'] = df['text'].str.replace('»', '') \n",
        "    df['text'] = df['text'].str.replace('«', '') \n",
        "    df['text'] = df['text'].str.replace('\"', '')\n",
        "    df['text'] = df['text'].str.replace('\\n', '')\n",
        "    df['text'] = df['text'].str.replace(r\"\\d+\", \"\", flags=re.UNICODE)\n",
        "\n",
        "    return df\n",
        "\n",
        "train = txt_prep(train)\n",
        "train"
      ],
      "execution_count": 12,
      "outputs": [
        {
          "output_type": "execute_result",
          "data": {
            "text/html": [
              "<div>\n",
              "<style scoped>\n",
              "    .dataframe tbody tr th:only-of-type {\n",
              "        vertical-align: middle;\n",
              "    }\n",
              "\n",
              "    .dataframe tbody tr th {\n",
              "        vertical-align: top;\n",
              "    }\n",
              "\n",
              "    .dataframe thead th {\n",
              "        text-align: right;\n",
              "    }\n",
              "</style>\n",
              "<table border=\"1\" class=\"dataframe\">\n",
              "  <thead>\n",
              "    <tr style=\"text-align: right;\">\n",
              "      <th></th>\n",
              "      <th>text</th>\n",
              "      <th>language</th>\n",
              "      <th>initial_text</th>\n",
              "    </tr>\n",
              "  </thead>\n",
              "  <tbody>\n",
              "    <tr>\n",
              "      <th>0</th>\n",
              "      <td>gennem pressen og tv vil de være bekendt med e...</td>\n",
              "      <td>da</td>\n",
              "      <td>Gennem pressen og tv vil De være bekendt med e...</td>\n",
              "    </tr>\n",
              "    <tr>\n",
              "      <th>1</th>\n",
              "      <td>det er netop dér  de   hvis de ønsker det   ka...</td>\n",
              "      <td>da</td>\n",
              "      <td>Det er netop dér, De - hvis De ønsker det - ka...</td>\n",
              "    </tr>\n",
              "    <tr>\n",
              "      <th>2</th>\n",
              "      <td>på anmodning af et fransk parlamentsmedlem  hr</td>\n",
              "      <td>da</td>\n",
              "      <td>På anmodning af et fransk parlamentsmedlem, hr.\\n</td>\n",
              "    </tr>\n",
              "    <tr>\n",
              "      <th>3</th>\n",
              "      <td>men  fru formand  det  som jeg havde anmodet o...</td>\n",
              "      <td>da</td>\n",
              "      <td>Men, fru formand, det, som jeg havde anmodet o...</td>\n",
              "    </tr>\n",
              "    <tr>\n",
              "      <th>4</th>\n",
              "      <td>fru plooij van gorsel  jeg kan oplyse dem om  ...</td>\n",
              "      <td>da</td>\n",
              "      <td>Fru Plooij-van Gorsel, jeg kan oplyse Dem om, ...</td>\n",
              "    </tr>\n",
              "    <tr>\n",
              "      <th>...</th>\n",
              "      <td>...</td>\n",
              "      <td>...</td>\n",
              "      <td>...</td>\n",
              "    </tr>\n",
              "    <tr>\n",
              "      <th>299995</th>\n",
              "      <td>det program som har lagts fram i dag tyder i a...</td>\n",
              "      <td>sv</td>\n",
              "      <td>Det program som har lagts fram i dag tyder i a...</td>\n",
              "    </tr>\n",
              "    <tr>\n",
              "      <th>299996</th>\n",
              "      <td>i synnerhet gläder jag mig åt att frågorna om ...</td>\n",
              "      <td>sv</td>\n",
              "      <td>I synnerhet gläder jag mig åt att frågorna om ...</td>\n",
              "    </tr>\n",
              "    <tr>\n",
              "      <th>299997</th>\n",
              "      <td>jag skulle vilja koncentrera mig på en av huvu...</td>\n",
              "      <td>sv</td>\n",
              "      <td>Jag skulle vilja koncentrera mig på en av huvu...</td>\n",
              "    </tr>\n",
              "    <tr>\n",
              "      <th>299998</th>\n",
              "      <td>men det behövs mer än så</td>\n",
              "      <td>sv</td>\n",
              "      <td>Men det behövs mer än så.\\n</td>\n",
              "    </tr>\n",
              "    <tr>\n",
              "      <th>299999</th>\n",
              "      <td>toppmötet i feira  mitt sista exempel</td>\n",
              "      <td>sv</td>\n",
              "      <td>Toppmötet i Feira, mitt sista exempel.\\n</td>\n",
              "    </tr>\n",
              "  </tbody>\n",
              "</table>\n",
              "<p>300000 rows × 3 columns</p>\n",
              "</div>"
            ],
            "text/plain": [
              "                                                     text  ...                                       initial_text\n",
              "0       gennem pressen og tv vil de være bekendt med e...  ...  Gennem pressen og tv vil De være bekendt med e...\n",
              "1       det er netop dér  de   hvis de ønsker det   ka...  ...  Det er netop dér, De - hvis De ønsker det - ka...\n",
              "2         på anmodning af et fransk parlamentsmedlem  hr   ...  På anmodning af et fransk parlamentsmedlem, hr.\\n\n",
              "3       men  fru formand  det  som jeg havde anmodet o...  ...  Men, fru formand, det, som jeg havde anmodet o...\n",
              "4       fru plooij van gorsel  jeg kan oplyse dem om  ...  ...  Fru Plooij-van Gorsel, jeg kan oplyse Dem om, ...\n",
              "...                                                   ...  ...                                                ...\n",
              "299995  det program som har lagts fram i dag tyder i a...  ...  Det program som har lagts fram i dag tyder i a...\n",
              "299996  i synnerhet gläder jag mig åt att frågorna om ...  ...  I synnerhet gläder jag mig åt att frågorna om ...\n",
              "299997  jag skulle vilja koncentrera mig på en av huvu...  ...  Jag skulle vilja koncentrera mig på en av huvu...\n",
              "299998                          men det behövs mer än så   ...                        Men det behövs mer än så.\\n\n",
              "299999             toppmötet i feira  mitt sista exempel   ...           Toppmötet i Feira, mitt sista exempel.\\n\n",
              "\n",
              "[300000 rows x 3 columns]"
            ]
          },
          "metadata": {},
          "execution_count": 12
        }
      ]
    },
    {
      "cell_type": "code",
      "metadata": {
        "colab": {
          "base_uri": "https://localhost:8080/",
          "height": 36
        },
        "id": "iUTpuLCWLevy",
        "outputId": "488c0d25-bfa7-4698-edd4-848120c90793"
      },
      "source": [
        "train.loc[26, 'initial_text']"
      ],
      "execution_count": 13,
      "outputs": [
        {
          "output_type": "execute_result",
          "data": {
            "application/vnd.google.colaboratory.intrinsic+json": {
              "type": "string"
            },
            "text/plain": [
              "'Jeg håber, at der tages højde for mit forslag ved afstemningen i morgen.\\n'"
            ]
          },
          "metadata": {},
          "execution_count": 13
        }
      ]
    },
    {
      "cell_type": "code",
      "metadata": {
        "colab": {
          "base_uri": "https://localhost:8080/",
          "height": 36
        },
        "id": "KbQRoCtzMDEd",
        "outputId": "9b63ed26-e8c4-4ed3-a5bc-fd53e962992f"
      },
      "source": [
        "train.loc[26, 'text']"
      ],
      "execution_count": 14,
      "outputs": [
        {
          "output_type": "execute_result",
          "data": {
            "application/vnd.google.colaboratory.intrinsic+json": {
              "type": "string"
            },
            "text/plain": [
              "'jeg håber  at der tages højde for mit forslag ved afstemningen i morgen '"
            ]
          },
          "metadata": {},
          "execution_count": 14
        }
      ]
    },
    {
      "cell_type": "markdown",
      "metadata": {
        "id": "u9A0H8o2pTub"
      },
      "source": [
        "В данной задаче мы решаем с Вами задачу мультиклассовой классификации (20 языков - 20 классов).\n",
        "Но все классы представлены в виде категориальной переменной - закодируем ее с помощью `LabelEncoder()`.\n",
        "\n",
        "При этом необходимо сохранить словарь для обратного преобразования."
      ]
    },
    {
      "cell_type": "code",
      "metadata": {
        "colab": {
          "base_uri": "https://localhost:8080/"
        },
        "id": "TpoS_LgYf_Bg",
        "outputId": "78c35783-7935-493f-e0de-02733bb885de"
      },
      "source": [
        "from sklearn.model_selection import train_test_split\n",
        "from sklearn import preprocessing\n",
        "\n",
        "label_encoder = preprocessing.LabelEncoder()\n",
        "\n",
        "label_encoder.fit(train['language']) \n",
        "train['language'] = label_encoder.transform(train['language']) \n",
        "\n",
        "mapping = dict(zip(label_encoder.classes_, range(len(label_encoder.classes_))))\n",
        "\n",
        "mapping"
      ],
      "execution_count": 15,
      "outputs": [
        {
          "output_type": "execute_result",
          "data": {
            "text/plain": [
              "{'bg': 0,\n",
              " 'cs': 1,\n",
              " 'da': 2,\n",
              " 'de': 3,\n",
              " 'el': 4,\n",
              " 'es': 5,\n",
              " 'et': 6,\n",
              " 'fi': 7,\n",
              " 'fr': 8,\n",
              " 'hu': 9,\n",
              " 'it': 10,\n",
              " 'lt': 11,\n",
              " 'lv': 12,\n",
              " 'nl': 13,\n",
              " 'pl': 14,\n",
              " 'pt': 15,\n",
              " 'ro': 16,\n",
              " 'sk': 17,\n",
              " 'sl': 18,\n",
              " 'sv': 19}"
            ]
          },
          "metadata": {},
          "execution_count": 15
        }
      ]
    },
    {
      "cell_type": "code",
      "metadata": {
        "colab": {
          "base_uri": "https://localhost:8080/"
        },
        "id": "xoOLE0dqgJjA",
        "outputId": "72ef0288-06c9-46d7-aa5c-1f90156f4f37"
      },
      "source": [
        "# mapping\n",
        "inverse_dict = dict([val,key] for key,val in mapping.items())\n",
        "inverse_dict"
      ],
      "execution_count": 16,
      "outputs": [
        {
          "output_type": "execute_result",
          "data": {
            "text/plain": [
              "{0: 'bg',\n",
              " 1: 'cs',\n",
              " 2: 'da',\n",
              " 3: 'de',\n",
              " 4: 'el',\n",
              " 5: 'es',\n",
              " 6: 'et',\n",
              " 7: 'fi',\n",
              " 8: 'fr',\n",
              " 9: 'hu',\n",
              " 10: 'it',\n",
              " 11: 'lt',\n",
              " 12: 'lv',\n",
              " 13: 'nl',\n",
              " 14: 'pl',\n",
              " 15: 'pt',\n",
              " 16: 'ro',\n",
              " 17: 'sk',\n",
              " 18: 'sl',\n",
              " 19: 'sv'}"
            ]
          },
          "metadata": {},
          "execution_count": 16
        }
      ]
    },
    {
      "cell_type": "markdown",
      "metadata": {
        "id": "7NKFf8LnMvo_"
      },
      "source": [
        "# Обучение и подбор модели"
      ]
    },
    {
      "cell_type": "code",
      "metadata": {
        "colab": {
          "base_uri": "https://localhost:8080/"
        },
        "id": "SJCGHjAtLswA",
        "outputId": "8100924d-f9e3-41fd-d3da-c911064e9111"
      },
      "source": [
        "df_small = train.sample(frac=0.01)\n",
        "\n",
        "X_small = df_small.drop(['language','initial_text'],axis=1)\n",
        "y_small = df_small['language']\n",
        "\n",
        "df_small.shape"
      ],
      "execution_count": 20,
      "outputs": [
        {
          "output_type": "execute_result",
          "data": {
            "text/plain": [
              "(3000, 3)"
            ]
          },
          "metadata": {},
          "execution_count": 20
        }
      ]
    },
    {
      "cell_type": "code",
      "metadata": {
        "colab": {
          "base_uri": "https://localhost:8080/"
        },
        "id": "Pv6w_FLRhtqJ",
        "outputId": "2915a68b-e402-4f28-b497-26f1b5734193"
      },
      "source": [
        "df_small['language'].value_counts()"
      ],
      "execution_count": 22,
      "outputs": [
        {
          "output_type": "execute_result",
          "data": {
            "text/plain": [
              "1     174\n",
              "19    164\n",
              "2     163\n",
              "16    163\n",
              "18    157\n",
              "11    156\n",
              "9     154\n",
              "13    153\n",
              "6     153\n",
              "3     150\n",
              "15    150\n",
              "0     150\n",
              "8     149\n",
              "17    146\n",
              "14    144\n",
              "12    142\n",
              "4     141\n",
              "7     135\n",
              "10    132\n",
              "5     124\n",
              "Name: language, dtype: int64"
            ]
          },
          "metadata": {},
          "execution_count": 22
        }
      ]
    },
    {
      "cell_type": "code",
      "metadata": {
        "colab": {
          "base_uri": "https://localhost:8080/",
          "height": 418
        },
        "id": "XA81BSBiOOh1",
        "outputId": "79cf72cd-560c-40c0-ef93-3f9a2566f3af"
      },
      "source": [
        "X_small"
      ],
      "execution_count": 30,
      "outputs": [
        {
          "output_type": "execute_result",
          "data": {
            "text/html": [
              "<div>\n",
              "<style scoped>\n",
              "    .dataframe tbody tr th:only-of-type {\n",
              "        vertical-align: middle;\n",
              "    }\n",
              "\n",
              "    .dataframe tbody tr th {\n",
              "        vertical-align: top;\n",
              "    }\n",
              "\n",
              "    .dataframe thead th {\n",
              "        text-align: right;\n",
              "    }\n",
              "</style>\n",
              "<table border=\"1\" class=\"dataframe\">\n",
              "  <thead>\n",
              "    <tr style=\"text-align: right;\">\n",
              "      <th></th>\n",
              "      <th>text</th>\n",
              "    </tr>\n",
              "  </thead>\n",
              "  <tbody>\n",
              "    <tr>\n",
              "      <th>213852</th>\n",
              "      <td>jestem przekonana  że podjęliśmy już pewne waż...</td>\n",
              "    </tr>\n",
              "    <tr>\n",
              "      <th>216894</th>\n",
              "      <td>oprócz niego zatrzymana została również olga k...</td>\n",
              "    </tr>\n",
              "    <tr>\n",
              "      <th>259103</th>\n",
              "      <td>okrem toho dnes ráno sa uskutočnilo trojstrann...</td>\n",
              "    </tr>\n",
              "    <tr>\n",
              "      <th>18171</th>\n",
              "      <td>не разполагаме с достатъчно детски ясли</td>\n",
              "    </tr>\n",
              "    <tr>\n",
              "      <th>94855</th>\n",
              "      <td>meil on tasakaal põhja ja lõuna vahel</td>\n",
              "    </tr>\n",
              "    <tr>\n",
              "      <th>...</th>\n",
              "      <td>...</td>\n",
              "    </tr>\n",
              "    <tr>\n",
              "      <th>289738</th>\n",
              "      <td>vi får inte glömma att belgien och italien har...</td>\n",
              "    </tr>\n",
              "    <tr>\n",
              "      <th>48445</th>\n",
              "      <td>die kommission von herrn prodi trägt keine sch...</td>\n",
              "    </tr>\n",
              "    <tr>\n",
              "      <th>28782</th>\n",
              "      <td>мащабът на бедствието допълнително се изостря ...</td>\n",
              "    </tr>\n",
              "    <tr>\n",
              "      <th>43678</th>\n",
              "      <td>tohoto výsledku bylo dosaženo po několika dlou...</td>\n",
              "    </tr>\n",
              "    <tr>\n",
              "      <th>100642</th>\n",
              "      <td>pidades silmas kõnealust suundumust ja eli ees...</td>\n",
              "    </tr>\n",
              "  </tbody>\n",
              "</table>\n",
              "<p>3000 rows × 1 columns</p>\n",
              "</div>"
            ],
            "text/plain": [
              "                                                     text\n",
              "213852  jestem przekonana  że podjęliśmy już pewne waż...\n",
              "216894  oprócz niego zatrzymana została również olga k...\n",
              "259103  okrem toho dnes ráno sa uskutočnilo trojstrann...\n",
              "18171            не разполагаме с достатъчно детски ясли \n",
              "94855              meil on tasakaal põhja ja lõuna vahel \n",
              "...                                                   ...\n",
              "289738  vi får inte glömma att belgien och italien har...\n",
              "48445   die kommission von herrn prodi trägt keine sch...\n",
              "28782   мащабът на бедствието допълнително се изостря ...\n",
              "43678   tohoto výsledku bylo dosaženo po několika dlou...\n",
              "100642  pidades silmas kõnealust suundumust ja eli ees...\n",
              "\n",
              "[3000 rows x 1 columns]"
            ]
          },
          "metadata": {},
          "execution_count": 30
        }
      ]
    },
    {
      "cell_type": "code",
      "metadata": {
        "colab": {
          "base_uri": "https://localhost:8080/"
        },
        "id": "vd3PAqzLMRfI",
        "outputId": "c73c944d-8635-4f38-e789-4433eef64eb4"
      },
      "source": [
        "y_small"
      ],
      "execution_count": 31,
      "outputs": [
        {
          "output_type": "execute_result",
          "data": {
            "text/plain": [
              "213852    14\n",
              "216894    14\n",
              "259103    17\n",
              "18171      0\n",
              "94855      6\n",
              "          ..\n",
              "289738    19\n",
              "48445      3\n",
              "28782      0\n",
              "43678      1\n",
              "100642     6\n",
              "Name: language, Length: 3000, dtype: int64"
            ]
          },
          "metadata": {},
          "execution_count": 31
        }
      ]
    },
    {
      "cell_type": "markdown",
      "metadata": {
        "id": "P9siEdr2qCnM"
      },
      "source": [
        "**Векторизация текста**\n",
        "\n",
        "Text representation\n",
        "We have various options:\n",
        "\n",
        "- Count Vectors as features\n",
        "- TF-IDF Vectors as features\n",
        "- Word2Vec\n",
        "- FastText\n",
        "\n",
        "Полезные сслыки:\n",
        "\n",
        "https://habr.com/ru/company/ods/blog/329410/\n",
        "\n",
        "https://dataaspirant.com/word-embedding-techniques-nlp/\n"
      ]
    },
    {
      "cell_type": "code",
      "metadata": {
        "id": "hGHhjBavwLcq"
      },
      "source": [
        "# # Count Vectors as features\n",
        "# 0 - 'мама мыла раму'\n",
        "# 1 - 'петя пошел гулять и пошел в магазин'\n",
        "\n",
        "#     мама | мыла | раму | петя | пошел | гулять | и | в | магазин\n",
        "# 0     1     1      1      0      0        0      0   0      0\n",
        "# 1     0     0      0      1      2        1      1   1      1"
      ],
      "execution_count": null,
      "outputs": []
    },
    {
      "cell_type": "code",
      "metadata": {
        "id": "1-zg8ySRx1LC"
      },
      "source": [
        "# 1. Словные n-gram\n",
        "\n",
        "# Мама мыла раму - 2-gram\n",
        "# мама мыла   |   мыла раму\n",
        "\n",
        "# 2. Символьные n-gram \n",
        "\n",
        "# Радуга - 2-gram:\n",
        "# ра      ад      ду      уг      га"
      ],
      "execution_count": null,
      "outputs": []
    },
    {
      "cell_type": "code",
      "metadata": {
        "id": "GhzDnwFqiypo"
      },
      "source": [
        "from sklearn.feature_extraction.text import CountVectorizer\n",
        "from sklearn.model_selection import train_test_split\n",
        "\n",
        "X_train, X_test, y_train, y_test = train_test_split(X_small['text'], y_small, test_size=0.33, random_state=42)\n",
        "\n",
        "vectorizer = CountVectorizer(ngram_range=(3,6), analyzer='char', max_features = 25000)\n",
        "\n",
        "X_train_vector = vectorizer.fit_transform(X_train).toarray()\n",
        "X_test_vector = vectorizer.transform(X_test).toarray()"
      ],
      "execution_count": 32,
      "outputs": []
    },
    {
      "cell_type": "code",
      "metadata": {
        "colab": {
          "base_uri": "https://localhost:8080/"
        },
        "id": "-hrbET4_Mls2",
        "outputId": "5a446110-081a-4178-dae2-c21f098cfe95"
      },
      "source": [
        "X_train_vector.shape"
      ],
      "execution_count": 33,
      "outputs": [
        {
          "output_type": "execute_result",
          "data": {
            "text/plain": [
              "(2010, 25000)"
            ]
          },
          "metadata": {},
          "execution_count": 33
        }
      ]
    },
    {
      "cell_type": "code",
      "metadata": {
        "colab": {
          "base_uri": "https://localhost:8080/"
        },
        "id": "V8ERac7XNCKO",
        "outputId": "8b579459-69ed-495d-bd64-49a5cc584671"
      },
      "source": [
        "X_test_vector.shape"
      ],
      "execution_count": 35,
      "outputs": [
        {
          "output_type": "execute_result",
          "data": {
            "text/plain": [
              "(990, 25000)"
            ]
          },
          "metadata": {},
          "execution_count": 35
        }
      ]
    },
    {
      "cell_type": "code",
      "metadata": {
        "colab": {
          "base_uri": "https://localhost:8080/"
        },
        "id": "LprQXjhOtTB7",
        "outputId": "59a480e0-cb06-4c99-90e0-48f49a131ee2"
      },
      "source": [
        "print(f'X train shape: {X_train.shape}')\n",
        "print(f'X test shape: {X_test.shape}')"
      ],
      "execution_count": 34,
      "outputs": [
        {
          "output_type": "stream",
          "name": "stdout",
          "text": [
            "X train shape: (2010,)\n",
            "X test shape: (990,)\n"
          ]
        }
      ]
    },
    {
      "cell_type": "code",
      "metadata": {
        "colab": {
          "base_uri": "https://localhost:8080/",
          "height": 490
        },
        "id": "n0_bZNwtsfPm",
        "outputId": "e6cd49a4-e465-4f19-bce8-baf8f13178bc"
      },
      "source": [
        "# чисто для наглядности как работает CountVectorizer\n",
        "count_vect_df = pd.DataFrame(X_train_vector, columns=vectorizer.get_feature_names())\n",
        "count_vect_df"
      ],
      "execution_count": 36,
      "outputs": [
        {
          "output_type": "stream",
          "name": "stderr",
          "text": [
            "/usr/local/lib/python3.7/dist-packages/sklearn/utils/deprecation.py:87: FutureWarning: Function get_feature_names is deprecated; get_feature_names is deprecated in 1.0 and will be removed in 1.2. Please use get_feature_names_out instead.\n",
            "  warnings.warn(msg, category=FutureWarning)\n"
          ]
        },
        {
          "output_type": "execute_result",
          "data": {
            "text/html": [
              "<div>\n",
              "<style scoped>\n",
              "    .dataframe tbody tr th:only-of-type {\n",
              "        vertical-align: middle;\n",
              "    }\n",
              "\n",
              "    .dataframe tbody tr th {\n",
              "        vertical-align: top;\n",
              "    }\n",
              "\n",
              "    .dataframe thead th {\n",
              "        text-align: right;\n",
              "    }\n",
              "</style>\n",
              "<table border=\"1\" class=\"dataframe\">\n",
              "  <thead>\n",
              "    <tr style=\"text-align: right;\">\n",
              "      <th></th>\n",
              "      <th>a</th>\n",
              "      <th>a a</th>\n",
              "      <th>a ab</th>\n",
              "      <th>a b</th>\n",
              "      <th>a bi</th>\n",
              "      <th>a c</th>\n",
              "      <th>a co</th>\n",
              "      <th>a d</th>\n",
              "      <th>a de</th>\n",
              "      <th>a do</th>\n",
              "      <th>a e</th>\n",
              "      <th>a es</th>\n",
              "      <th>a f</th>\n",
              "      <th>a fa</th>\n",
              "      <th>a fo</th>\n",
              "      <th>a g</th>\n",
              "      <th>a h</th>\n",
              "      <th>a ha</th>\n",
              "      <th>a in</th>\n",
              "      <th>a j</th>\n",
              "      <th>a ja</th>\n",
              "      <th>a je</th>\n",
              "      <th>a k</th>\n",
              "      <th>a kö</th>\n",
              "      <th>a l</th>\n",
              "      <th>a la</th>\n",
              "      <th>a le</th>\n",
              "      <th>a lo</th>\n",
              "      <th>a m</th>\n",
              "      <th>a me</th>\n",
              "      <th>a mo</th>\n",
              "      <th>a n</th>\n",
              "      <th>a ne</th>\n",
              "      <th>a o</th>\n",
              "      <th>a p</th>\n",
              "      <th>a pa</th>\n",
              "      <th>a po</th>\n",
              "      <th>a pr</th>\n",
              "      <th>a pá</th>\n",
              "      <th>a r</th>\n",
              "      <th>...</th>\n",
              "      <th>чес</th>\n",
              "      <th>ческ</th>\n",
              "      <th>чит</th>\n",
              "      <th>чле</th>\n",
              "      <th>член</th>\n",
              "      <th>чни</th>\n",
              "      <th>ше</th>\n",
              "      <th>шен</th>\n",
              "      <th>шени</th>\n",
              "      <th>ще</th>\n",
              "      <th>щес</th>\n",
              "      <th>щест</th>\n",
              "      <th>ществ</th>\n",
              "      <th>щит</th>\n",
              "      <th>що</th>\n",
              "      <th>щот</th>\n",
              "      <th>щото</th>\n",
              "      <th>щото</th>\n",
              "      <th>ъде</th>\n",
              "      <th>ъде</th>\n",
              "      <th>ълн</th>\n",
              "      <th>ърж</th>\n",
              "      <th>ържа</th>\n",
              "      <th>ържав</th>\n",
              "      <th>ът</th>\n",
              "      <th>ъюз</th>\n",
              "      <th>я н</th>\n",
              "      <th>я п</th>\n",
              "      <th>я с</th>\n",
              "      <th>ябв</th>\n",
              "      <th>ябва</th>\n",
              "      <th>ябва</th>\n",
              "      <th>ява</th>\n",
              "      <th>яван</th>\n",
              "      <th>яване</th>\n",
              "      <th>ят</th>\n",
              "      <th>ята</th>\n",
              "      <th>ята</th>\n",
              "      <th>ято</th>\n",
              "      <th>ято</th>\n",
              "    </tr>\n",
              "  </thead>\n",
              "  <tbody>\n",
              "    <tr>\n",
              "      <th>0</th>\n",
              "      <td>0</td>\n",
              "      <td>0</td>\n",
              "      <td>0</td>\n",
              "      <td>0</td>\n",
              "      <td>0</td>\n",
              "      <td>0</td>\n",
              "      <td>0</td>\n",
              "      <td>0</td>\n",
              "      <td>0</td>\n",
              "      <td>0</td>\n",
              "      <td>0</td>\n",
              "      <td>0</td>\n",
              "      <td>0</td>\n",
              "      <td>0</td>\n",
              "      <td>0</td>\n",
              "      <td>0</td>\n",
              "      <td>0</td>\n",
              "      <td>0</td>\n",
              "      <td>0</td>\n",
              "      <td>0</td>\n",
              "      <td>0</td>\n",
              "      <td>0</td>\n",
              "      <td>0</td>\n",
              "      <td>0</td>\n",
              "      <td>0</td>\n",
              "      <td>0</td>\n",
              "      <td>0</td>\n",
              "      <td>0</td>\n",
              "      <td>0</td>\n",
              "      <td>0</td>\n",
              "      <td>0</td>\n",
              "      <td>0</td>\n",
              "      <td>0</td>\n",
              "      <td>0</td>\n",
              "      <td>0</td>\n",
              "      <td>0</td>\n",
              "      <td>0</td>\n",
              "      <td>0</td>\n",
              "      <td>0</td>\n",
              "      <td>0</td>\n",
              "      <td>...</td>\n",
              "      <td>0</td>\n",
              "      <td>0</td>\n",
              "      <td>0</td>\n",
              "      <td>0</td>\n",
              "      <td>0</td>\n",
              "      <td>0</td>\n",
              "      <td>0</td>\n",
              "      <td>0</td>\n",
              "      <td>0</td>\n",
              "      <td>0</td>\n",
              "      <td>0</td>\n",
              "      <td>0</td>\n",
              "      <td>0</td>\n",
              "      <td>0</td>\n",
              "      <td>0</td>\n",
              "      <td>0</td>\n",
              "      <td>0</td>\n",
              "      <td>0</td>\n",
              "      <td>0</td>\n",
              "      <td>0</td>\n",
              "      <td>0</td>\n",
              "      <td>0</td>\n",
              "      <td>0</td>\n",
              "      <td>0</td>\n",
              "      <td>0</td>\n",
              "      <td>0</td>\n",
              "      <td>0</td>\n",
              "      <td>0</td>\n",
              "      <td>0</td>\n",
              "      <td>0</td>\n",
              "      <td>0</td>\n",
              "      <td>0</td>\n",
              "      <td>0</td>\n",
              "      <td>0</td>\n",
              "      <td>0</td>\n",
              "      <td>0</td>\n",
              "      <td>0</td>\n",
              "      <td>0</td>\n",
              "      <td>0</td>\n",
              "      <td>0</td>\n",
              "    </tr>\n",
              "    <tr>\n",
              "      <th>1</th>\n",
              "      <td>0</td>\n",
              "      <td>0</td>\n",
              "      <td>0</td>\n",
              "      <td>0</td>\n",
              "      <td>0</td>\n",
              "      <td>0</td>\n",
              "      <td>0</td>\n",
              "      <td>0</td>\n",
              "      <td>0</td>\n",
              "      <td>0</td>\n",
              "      <td>0</td>\n",
              "      <td>0</td>\n",
              "      <td>0</td>\n",
              "      <td>0</td>\n",
              "      <td>0</td>\n",
              "      <td>0</td>\n",
              "      <td>0</td>\n",
              "      <td>0</td>\n",
              "      <td>0</td>\n",
              "      <td>0</td>\n",
              "      <td>0</td>\n",
              "      <td>0</td>\n",
              "      <td>0</td>\n",
              "      <td>0</td>\n",
              "      <td>0</td>\n",
              "      <td>0</td>\n",
              "      <td>0</td>\n",
              "      <td>0</td>\n",
              "      <td>0</td>\n",
              "      <td>0</td>\n",
              "      <td>0</td>\n",
              "      <td>0</td>\n",
              "      <td>0</td>\n",
              "      <td>0</td>\n",
              "      <td>0</td>\n",
              "      <td>0</td>\n",
              "      <td>0</td>\n",
              "      <td>0</td>\n",
              "      <td>0</td>\n",
              "      <td>0</td>\n",
              "      <td>...</td>\n",
              "      <td>0</td>\n",
              "      <td>0</td>\n",
              "      <td>0</td>\n",
              "      <td>0</td>\n",
              "      <td>0</td>\n",
              "      <td>0</td>\n",
              "      <td>0</td>\n",
              "      <td>0</td>\n",
              "      <td>0</td>\n",
              "      <td>0</td>\n",
              "      <td>0</td>\n",
              "      <td>0</td>\n",
              "      <td>0</td>\n",
              "      <td>0</td>\n",
              "      <td>0</td>\n",
              "      <td>0</td>\n",
              "      <td>0</td>\n",
              "      <td>0</td>\n",
              "      <td>0</td>\n",
              "      <td>0</td>\n",
              "      <td>0</td>\n",
              "      <td>0</td>\n",
              "      <td>0</td>\n",
              "      <td>0</td>\n",
              "      <td>0</td>\n",
              "      <td>0</td>\n",
              "      <td>0</td>\n",
              "      <td>0</td>\n",
              "      <td>0</td>\n",
              "      <td>0</td>\n",
              "      <td>0</td>\n",
              "      <td>0</td>\n",
              "      <td>0</td>\n",
              "      <td>0</td>\n",
              "      <td>0</td>\n",
              "      <td>0</td>\n",
              "      <td>0</td>\n",
              "      <td>0</td>\n",
              "      <td>0</td>\n",
              "      <td>0</td>\n",
              "    </tr>\n",
              "    <tr>\n",
              "      <th>2</th>\n",
              "      <td>0</td>\n",
              "      <td>0</td>\n",
              "      <td>0</td>\n",
              "      <td>0</td>\n",
              "      <td>0</td>\n",
              "      <td>0</td>\n",
              "      <td>0</td>\n",
              "      <td>0</td>\n",
              "      <td>0</td>\n",
              "      <td>0</td>\n",
              "      <td>0</td>\n",
              "      <td>0</td>\n",
              "      <td>0</td>\n",
              "      <td>0</td>\n",
              "      <td>0</td>\n",
              "      <td>0</td>\n",
              "      <td>0</td>\n",
              "      <td>0</td>\n",
              "      <td>0</td>\n",
              "      <td>0</td>\n",
              "      <td>0</td>\n",
              "      <td>0</td>\n",
              "      <td>0</td>\n",
              "      <td>0</td>\n",
              "      <td>0</td>\n",
              "      <td>0</td>\n",
              "      <td>0</td>\n",
              "      <td>0</td>\n",
              "      <td>0</td>\n",
              "      <td>0</td>\n",
              "      <td>0</td>\n",
              "      <td>0</td>\n",
              "      <td>0</td>\n",
              "      <td>0</td>\n",
              "      <td>0</td>\n",
              "      <td>0</td>\n",
              "      <td>0</td>\n",
              "      <td>0</td>\n",
              "      <td>0</td>\n",
              "      <td>0</td>\n",
              "      <td>...</td>\n",
              "      <td>0</td>\n",
              "      <td>0</td>\n",
              "      <td>0</td>\n",
              "      <td>0</td>\n",
              "      <td>0</td>\n",
              "      <td>0</td>\n",
              "      <td>0</td>\n",
              "      <td>0</td>\n",
              "      <td>0</td>\n",
              "      <td>0</td>\n",
              "      <td>0</td>\n",
              "      <td>0</td>\n",
              "      <td>0</td>\n",
              "      <td>0</td>\n",
              "      <td>0</td>\n",
              "      <td>0</td>\n",
              "      <td>0</td>\n",
              "      <td>0</td>\n",
              "      <td>0</td>\n",
              "      <td>0</td>\n",
              "      <td>0</td>\n",
              "      <td>0</td>\n",
              "      <td>0</td>\n",
              "      <td>0</td>\n",
              "      <td>0</td>\n",
              "      <td>0</td>\n",
              "      <td>0</td>\n",
              "      <td>0</td>\n",
              "      <td>0</td>\n",
              "      <td>0</td>\n",
              "      <td>0</td>\n",
              "      <td>0</td>\n",
              "      <td>0</td>\n",
              "      <td>0</td>\n",
              "      <td>0</td>\n",
              "      <td>0</td>\n",
              "      <td>0</td>\n",
              "      <td>0</td>\n",
              "      <td>0</td>\n",
              "      <td>0</td>\n",
              "    </tr>\n",
              "    <tr>\n",
              "      <th>3</th>\n",
              "      <td>0</td>\n",
              "      <td>0</td>\n",
              "      <td>0</td>\n",
              "      <td>0</td>\n",
              "      <td>0</td>\n",
              "      <td>0</td>\n",
              "      <td>0</td>\n",
              "      <td>0</td>\n",
              "      <td>0</td>\n",
              "      <td>0</td>\n",
              "      <td>0</td>\n",
              "      <td>0</td>\n",
              "      <td>0</td>\n",
              "      <td>0</td>\n",
              "      <td>0</td>\n",
              "      <td>0</td>\n",
              "      <td>0</td>\n",
              "      <td>0</td>\n",
              "      <td>0</td>\n",
              "      <td>0</td>\n",
              "      <td>0</td>\n",
              "      <td>0</td>\n",
              "      <td>0</td>\n",
              "      <td>0</td>\n",
              "      <td>0</td>\n",
              "      <td>0</td>\n",
              "      <td>0</td>\n",
              "      <td>0</td>\n",
              "      <td>0</td>\n",
              "      <td>0</td>\n",
              "      <td>0</td>\n",
              "      <td>0</td>\n",
              "      <td>0</td>\n",
              "      <td>0</td>\n",
              "      <td>0</td>\n",
              "      <td>0</td>\n",
              "      <td>0</td>\n",
              "      <td>0</td>\n",
              "      <td>0</td>\n",
              "      <td>0</td>\n",
              "      <td>...</td>\n",
              "      <td>0</td>\n",
              "      <td>0</td>\n",
              "      <td>0</td>\n",
              "      <td>0</td>\n",
              "      <td>0</td>\n",
              "      <td>0</td>\n",
              "      <td>0</td>\n",
              "      <td>0</td>\n",
              "      <td>0</td>\n",
              "      <td>0</td>\n",
              "      <td>0</td>\n",
              "      <td>0</td>\n",
              "      <td>0</td>\n",
              "      <td>0</td>\n",
              "      <td>0</td>\n",
              "      <td>0</td>\n",
              "      <td>0</td>\n",
              "      <td>0</td>\n",
              "      <td>0</td>\n",
              "      <td>0</td>\n",
              "      <td>0</td>\n",
              "      <td>0</td>\n",
              "      <td>0</td>\n",
              "      <td>0</td>\n",
              "      <td>0</td>\n",
              "      <td>0</td>\n",
              "      <td>0</td>\n",
              "      <td>0</td>\n",
              "      <td>0</td>\n",
              "      <td>0</td>\n",
              "      <td>0</td>\n",
              "      <td>0</td>\n",
              "      <td>0</td>\n",
              "      <td>0</td>\n",
              "      <td>0</td>\n",
              "      <td>0</td>\n",
              "      <td>0</td>\n",
              "      <td>0</td>\n",
              "      <td>0</td>\n",
              "      <td>0</td>\n",
              "    </tr>\n",
              "    <tr>\n",
              "      <th>4</th>\n",
              "      <td>0</td>\n",
              "      <td>0</td>\n",
              "      <td>0</td>\n",
              "      <td>0</td>\n",
              "      <td>0</td>\n",
              "      <td>0</td>\n",
              "      <td>0</td>\n",
              "      <td>0</td>\n",
              "      <td>0</td>\n",
              "      <td>0</td>\n",
              "      <td>0</td>\n",
              "      <td>0</td>\n",
              "      <td>0</td>\n",
              "      <td>0</td>\n",
              "      <td>0</td>\n",
              "      <td>0</td>\n",
              "      <td>0</td>\n",
              "      <td>0</td>\n",
              "      <td>0</td>\n",
              "      <td>0</td>\n",
              "      <td>0</td>\n",
              "      <td>0</td>\n",
              "      <td>0</td>\n",
              "      <td>0</td>\n",
              "      <td>0</td>\n",
              "      <td>0</td>\n",
              "      <td>0</td>\n",
              "      <td>0</td>\n",
              "      <td>0</td>\n",
              "      <td>0</td>\n",
              "      <td>0</td>\n",
              "      <td>0</td>\n",
              "      <td>0</td>\n",
              "      <td>0</td>\n",
              "      <td>0</td>\n",
              "      <td>0</td>\n",
              "      <td>0</td>\n",
              "      <td>0</td>\n",
              "      <td>0</td>\n",
              "      <td>0</td>\n",
              "      <td>...</td>\n",
              "      <td>0</td>\n",
              "      <td>0</td>\n",
              "      <td>0</td>\n",
              "      <td>0</td>\n",
              "      <td>0</td>\n",
              "      <td>0</td>\n",
              "      <td>0</td>\n",
              "      <td>0</td>\n",
              "      <td>0</td>\n",
              "      <td>0</td>\n",
              "      <td>0</td>\n",
              "      <td>0</td>\n",
              "      <td>0</td>\n",
              "      <td>0</td>\n",
              "      <td>0</td>\n",
              "      <td>0</td>\n",
              "      <td>0</td>\n",
              "      <td>0</td>\n",
              "      <td>0</td>\n",
              "      <td>0</td>\n",
              "      <td>0</td>\n",
              "      <td>0</td>\n",
              "      <td>0</td>\n",
              "      <td>0</td>\n",
              "      <td>0</td>\n",
              "      <td>0</td>\n",
              "      <td>0</td>\n",
              "      <td>0</td>\n",
              "      <td>0</td>\n",
              "      <td>0</td>\n",
              "      <td>0</td>\n",
              "      <td>0</td>\n",
              "      <td>0</td>\n",
              "      <td>0</td>\n",
              "      <td>0</td>\n",
              "      <td>0</td>\n",
              "      <td>0</td>\n",
              "      <td>0</td>\n",
              "      <td>0</td>\n",
              "      <td>0</td>\n",
              "    </tr>\n",
              "    <tr>\n",
              "      <th>...</th>\n",
              "      <td>...</td>\n",
              "      <td>...</td>\n",
              "      <td>...</td>\n",
              "      <td>...</td>\n",
              "      <td>...</td>\n",
              "      <td>...</td>\n",
              "      <td>...</td>\n",
              "      <td>...</td>\n",
              "      <td>...</td>\n",
              "      <td>...</td>\n",
              "      <td>...</td>\n",
              "      <td>...</td>\n",
              "      <td>...</td>\n",
              "      <td>...</td>\n",
              "      <td>...</td>\n",
              "      <td>...</td>\n",
              "      <td>...</td>\n",
              "      <td>...</td>\n",
              "      <td>...</td>\n",
              "      <td>...</td>\n",
              "      <td>...</td>\n",
              "      <td>...</td>\n",
              "      <td>...</td>\n",
              "      <td>...</td>\n",
              "      <td>...</td>\n",
              "      <td>...</td>\n",
              "      <td>...</td>\n",
              "      <td>...</td>\n",
              "      <td>...</td>\n",
              "      <td>...</td>\n",
              "      <td>...</td>\n",
              "      <td>...</td>\n",
              "      <td>...</td>\n",
              "      <td>...</td>\n",
              "      <td>...</td>\n",
              "      <td>...</td>\n",
              "      <td>...</td>\n",
              "      <td>...</td>\n",
              "      <td>...</td>\n",
              "      <td>...</td>\n",
              "      <td>...</td>\n",
              "      <td>...</td>\n",
              "      <td>...</td>\n",
              "      <td>...</td>\n",
              "      <td>...</td>\n",
              "      <td>...</td>\n",
              "      <td>...</td>\n",
              "      <td>...</td>\n",
              "      <td>...</td>\n",
              "      <td>...</td>\n",
              "      <td>...</td>\n",
              "      <td>...</td>\n",
              "      <td>...</td>\n",
              "      <td>...</td>\n",
              "      <td>...</td>\n",
              "      <td>...</td>\n",
              "      <td>...</td>\n",
              "      <td>...</td>\n",
              "      <td>...</td>\n",
              "      <td>...</td>\n",
              "      <td>...</td>\n",
              "      <td>...</td>\n",
              "      <td>...</td>\n",
              "      <td>...</td>\n",
              "      <td>...</td>\n",
              "      <td>...</td>\n",
              "      <td>...</td>\n",
              "      <td>...</td>\n",
              "      <td>...</td>\n",
              "      <td>...</td>\n",
              "      <td>...</td>\n",
              "      <td>...</td>\n",
              "      <td>...</td>\n",
              "      <td>...</td>\n",
              "      <td>...</td>\n",
              "      <td>...</td>\n",
              "      <td>...</td>\n",
              "      <td>...</td>\n",
              "      <td>...</td>\n",
              "      <td>...</td>\n",
              "      <td>...</td>\n",
              "    </tr>\n",
              "    <tr>\n",
              "      <th>2005</th>\n",
              "      <td>0</td>\n",
              "      <td>0</td>\n",
              "      <td>0</td>\n",
              "      <td>0</td>\n",
              "      <td>0</td>\n",
              "      <td>0</td>\n",
              "      <td>0</td>\n",
              "      <td>0</td>\n",
              "      <td>0</td>\n",
              "      <td>0</td>\n",
              "      <td>0</td>\n",
              "      <td>0</td>\n",
              "      <td>0</td>\n",
              "      <td>0</td>\n",
              "      <td>0</td>\n",
              "      <td>0</td>\n",
              "      <td>0</td>\n",
              "      <td>0</td>\n",
              "      <td>0</td>\n",
              "      <td>0</td>\n",
              "      <td>0</td>\n",
              "      <td>0</td>\n",
              "      <td>0</td>\n",
              "      <td>0</td>\n",
              "      <td>0</td>\n",
              "      <td>0</td>\n",
              "      <td>0</td>\n",
              "      <td>0</td>\n",
              "      <td>0</td>\n",
              "      <td>0</td>\n",
              "      <td>0</td>\n",
              "      <td>0</td>\n",
              "      <td>0</td>\n",
              "      <td>0</td>\n",
              "      <td>0</td>\n",
              "      <td>0</td>\n",
              "      <td>0</td>\n",
              "      <td>0</td>\n",
              "      <td>0</td>\n",
              "      <td>0</td>\n",
              "      <td>...</td>\n",
              "      <td>0</td>\n",
              "      <td>0</td>\n",
              "      <td>0</td>\n",
              "      <td>0</td>\n",
              "      <td>0</td>\n",
              "      <td>0</td>\n",
              "      <td>0</td>\n",
              "      <td>0</td>\n",
              "      <td>0</td>\n",
              "      <td>0</td>\n",
              "      <td>0</td>\n",
              "      <td>0</td>\n",
              "      <td>0</td>\n",
              "      <td>0</td>\n",
              "      <td>0</td>\n",
              "      <td>0</td>\n",
              "      <td>0</td>\n",
              "      <td>0</td>\n",
              "      <td>0</td>\n",
              "      <td>0</td>\n",
              "      <td>0</td>\n",
              "      <td>0</td>\n",
              "      <td>0</td>\n",
              "      <td>0</td>\n",
              "      <td>0</td>\n",
              "      <td>0</td>\n",
              "      <td>0</td>\n",
              "      <td>0</td>\n",
              "      <td>0</td>\n",
              "      <td>0</td>\n",
              "      <td>0</td>\n",
              "      <td>0</td>\n",
              "      <td>0</td>\n",
              "      <td>0</td>\n",
              "      <td>0</td>\n",
              "      <td>0</td>\n",
              "      <td>0</td>\n",
              "      <td>0</td>\n",
              "      <td>0</td>\n",
              "      <td>0</td>\n",
              "    </tr>\n",
              "    <tr>\n",
              "      <th>2006</th>\n",
              "      <td>1</td>\n",
              "      <td>1</td>\n",
              "      <td>0</td>\n",
              "      <td>0</td>\n",
              "      <td>0</td>\n",
              "      <td>0</td>\n",
              "      <td>0</td>\n",
              "      <td>0</td>\n",
              "      <td>0</td>\n",
              "      <td>0</td>\n",
              "      <td>0</td>\n",
              "      <td>0</td>\n",
              "      <td>0</td>\n",
              "      <td>0</td>\n",
              "      <td>0</td>\n",
              "      <td>0</td>\n",
              "      <td>0</td>\n",
              "      <td>0</td>\n",
              "      <td>0</td>\n",
              "      <td>0</td>\n",
              "      <td>0</td>\n",
              "      <td>0</td>\n",
              "      <td>0</td>\n",
              "      <td>0</td>\n",
              "      <td>0</td>\n",
              "      <td>0</td>\n",
              "      <td>0</td>\n",
              "      <td>0</td>\n",
              "      <td>0</td>\n",
              "      <td>0</td>\n",
              "      <td>0</td>\n",
              "      <td>0</td>\n",
              "      <td>0</td>\n",
              "      <td>0</td>\n",
              "      <td>0</td>\n",
              "      <td>0</td>\n",
              "      <td>0</td>\n",
              "      <td>0</td>\n",
              "      <td>0</td>\n",
              "      <td>0</td>\n",
              "      <td>...</td>\n",
              "      <td>0</td>\n",
              "      <td>0</td>\n",
              "      <td>0</td>\n",
              "      <td>0</td>\n",
              "      <td>0</td>\n",
              "      <td>0</td>\n",
              "      <td>0</td>\n",
              "      <td>0</td>\n",
              "      <td>0</td>\n",
              "      <td>0</td>\n",
              "      <td>0</td>\n",
              "      <td>0</td>\n",
              "      <td>0</td>\n",
              "      <td>0</td>\n",
              "      <td>0</td>\n",
              "      <td>0</td>\n",
              "      <td>0</td>\n",
              "      <td>0</td>\n",
              "      <td>0</td>\n",
              "      <td>0</td>\n",
              "      <td>0</td>\n",
              "      <td>0</td>\n",
              "      <td>0</td>\n",
              "      <td>0</td>\n",
              "      <td>0</td>\n",
              "      <td>0</td>\n",
              "      <td>0</td>\n",
              "      <td>0</td>\n",
              "      <td>0</td>\n",
              "      <td>0</td>\n",
              "      <td>0</td>\n",
              "      <td>0</td>\n",
              "      <td>0</td>\n",
              "      <td>0</td>\n",
              "      <td>0</td>\n",
              "      <td>0</td>\n",
              "      <td>0</td>\n",
              "      <td>0</td>\n",
              "      <td>0</td>\n",
              "      <td>0</td>\n",
              "    </tr>\n",
              "    <tr>\n",
              "      <th>2007</th>\n",
              "      <td>0</td>\n",
              "      <td>0</td>\n",
              "      <td>0</td>\n",
              "      <td>0</td>\n",
              "      <td>0</td>\n",
              "      <td>0</td>\n",
              "      <td>0</td>\n",
              "      <td>0</td>\n",
              "      <td>0</td>\n",
              "      <td>0</td>\n",
              "      <td>0</td>\n",
              "      <td>0</td>\n",
              "      <td>0</td>\n",
              "      <td>0</td>\n",
              "      <td>0</td>\n",
              "      <td>0</td>\n",
              "      <td>0</td>\n",
              "      <td>0</td>\n",
              "      <td>0</td>\n",
              "      <td>0</td>\n",
              "      <td>0</td>\n",
              "      <td>0</td>\n",
              "      <td>0</td>\n",
              "      <td>0</td>\n",
              "      <td>0</td>\n",
              "      <td>0</td>\n",
              "      <td>0</td>\n",
              "      <td>0</td>\n",
              "      <td>0</td>\n",
              "      <td>0</td>\n",
              "      <td>0</td>\n",
              "      <td>0</td>\n",
              "      <td>0</td>\n",
              "      <td>0</td>\n",
              "      <td>0</td>\n",
              "      <td>0</td>\n",
              "      <td>0</td>\n",
              "      <td>0</td>\n",
              "      <td>0</td>\n",
              "      <td>0</td>\n",
              "      <td>...</td>\n",
              "      <td>0</td>\n",
              "      <td>0</td>\n",
              "      <td>0</td>\n",
              "      <td>0</td>\n",
              "      <td>0</td>\n",
              "      <td>0</td>\n",
              "      <td>0</td>\n",
              "      <td>0</td>\n",
              "      <td>0</td>\n",
              "      <td>0</td>\n",
              "      <td>0</td>\n",
              "      <td>0</td>\n",
              "      <td>0</td>\n",
              "      <td>0</td>\n",
              "      <td>0</td>\n",
              "      <td>0</td>\n",
              "      <td>0</td>\n",
              "      <td>0</td>\n",
              "      <td>0</td>\n",
              "      <td>0</td>\n",
              "      <td>0</td>\n",
              "      <td>0</td>\n",
              "      <td>0</td>\n",
              "      <td>0</td>\n",
              "      <td>0</td>\n",
              "      <td>0</td>\n",
              "      <td>0</td>\n",
              "      <td>0</td>\n",
              "      <td>0</td>\n",
              "      <td>0</td>\n",
              "      <td>0</td>\n",
              "      <td>0</td>\n",
              "      <td>0</td>\n",
              "      <td>0</td>\n",
              "      <td>0</td>\n",
              "      <td>0</td>\n",
              "      <td>0</td>\n",
              "      <td>0</td>\n",
              "      <td>0</td>\n",
              "      <td>0</td>\n",
              "    </tr>\n",
              "    <tr>\n",
              "      <th>2008</th>\n",
              "      <td>0</td>\n",
              "      <td>0</td>\n",
              "      <td>0</td>\n",
              "      <td>0</td>\n",
              "      <td>0</td>\n",
              "      <td>0</td>\n",
              "      <td>0</td>\n",
              "      <td>0</td>\n",
              "      <td>0</td>\n",
              "      <td>0</td>\n",
              "      <td>0</td>\n",
              "      <td>0</td>\n",
              "      <td>0</td>\n",
              "      <td>0</td>\n",
              "      <td>0</td>\n",
              "      <td>0</td>\n",
              "      <td>0</td>\n",
              "      <td>0</td>\n",
              "      <td>0</td>\n",
              "      <td>0</td>\n",
              "      <td>0</td>\n",
              "      <td>0</td>\n",
              "      <td>0</td>\n",
              "      <td>0</td>\n",
              "      <td>0</td>\n",
              "      <td>0</td>\n",
              "      <td>0</td>\n",
              "      <td>0</td>\n",
              "      <td>0</td>\n",
              "      <td>0</td>\n",
              "      <td>0</td>\n",
              "      <td>0</td>\n",
              "      <td>0</td>\n",
              "      <td>0</td>\n",
              "      <td>0</td>\n",
              "      <td>0</td>\n",
              "      <td>0</td>\n",
              "      <td>0</td>\n",
              "      <td>0</td>\n",
              "      <td>0</td>\n",
              "      <td>...</td>\n",
              "      <td>0</td>\n",
              "      <td>0</td>\n",
              "      <td>0</td>\n",
              "      <td>0</td>\n",
              "      <td>0</td>\n",
              "      <td>0</td>\n",
              "      <td>0</td>\n",
              "      <td>0</td>\n",
              "      <td>0</td>\n",
              "      <td>0</td>\n",
              "      <td>0</td>\n",
              "      <td>0</td>\n",
              "      <td>0</td>\n",
              "      <td>0</td>\n",
              "      <td>0</td>\n",
              "      <td>0</td>\n",
              "      <td>0</td>\n",
              "      <td>0</td>\n",
              "      <td>0</td>\n",
              "      <td>0</td>\n",
              "      <td>0</td>\n",
              "      <td>0</td>\n",
              "      <td>0</td>\n",
              "      <td>0</td>\n",
              "      <td>0</td>\n",
              "      <td>0</td>\n",
              "      <td>0</td>\n",
              "      <td>0</td>\n",
              "      <td>0</td>\n",
              "      <td>0</td>\n",
              "      <td>0</td>\n",
              "      <td>0</td>\n",
              "      <td>0</td>\n",
              "      <td>0</td>\n",
              "      <td>0</td>\n",
              "      <td>0</td>\n",
              "      <td>0</td>\n",
              "      <td>0</td>\n",
              "      <td>0</td>\n",
              "      <td>0</td>\n",
              "    </tr>\n",
              "    <tr>\n",
              "      <th>2009</th>\n",
              "      <td>0</td>\n",
              "      <td>0</td>\n",
              "      <td>0</td>\n",
              "      <td>0</td>\n",
              "      <td>0</td>\n",
              "      <td>0</td>\n",
              "      <td>0</td>\n",
              "      <td>0</td>\n",
              "      <td>0</td>\n",
              "      <td>0</td>\n",
              "      <td>0</td>\n",
              "      <td>0</td>\n",
              "      <td>0</td>\n",
              "      <td>0</td>\n",
              "      <td>0</td>\n",
              "      <td>0</td>\n",
              "      <td>0</td>\n",
              "      <td>0</td>\n",
              "      <td>0</td>\n",
              "      <td>0</td>\n",
              "      <td>0</td>\n",
              "      <td>0</td>\n",
              "      <td>0</td>\n",
              "      <td>0</td>\n",
              "      <td>0</td>\n",
              "      <td>0</td>\n",
              "      <td>0</td>\n",
              "      <td>0</td>\n",
              "      <td>0</td>\n",
              "      <td>0</td>\n",
              "      <td>0</td>\n",
              "      <td>0</td>\n",
              "      <td>0</td>\n",
              "      <td>0</td>\n",
              "      <td>0</td>\n",
              "      <td>0</td>\n",
              "      <td>0</td>\n",
              "      <td>0</td>\n",
              "      <td>0</td>\n",
              "      <td>0</td>\n",
              "      <td>...</td>\n",
              "      <td>0</td>\n",
              "      <td>0</td>\n",
              "      <td>0</td>\n",
              "      <td>0</td>\n",
              "      <td>0</td>\n",
              "      <td>0</td>\n",
              "      <td>0</td>\n",
              "      <td>0</td>\n",
              "      <td>0</td>\n",
              "      <td>0</td>\n",
              "      <td>0</td>\n",
              "      <td>0</td>\n",
              "      <td>0</td>\n",
              "      <td>0</td>\n",
              "      <td>0</td>\n",
              "      <td>0</td>\n",
              "      <td>0</td>\n",
              "      <td>0</td>\n",
              "      <td>0</td>\n",
              "      <td>0</td>\n",
              "      <td>0</td>\n",
              "      <td>0</td>\n",
              "      <td>0</td>\n",
              "      <td>0</td>\n",
              "      <td>0</td>\n",
              "      <td>0</td>\n",
              "      <td>0</td>\n",
              "      <td>0</td>\n",
              "      <td>0</td>\n",
              "      <td>0</td>\n",
              "      <td>0</td>\n",
              "      <td>0</td>\n",
              "      <td>0</td>\n",
              "      <td>0</td>\n",
              "      <td>0</td>\n",
              "      <td>0</td>\n",
              "      <td>0</td>\n",
              "      <td>0</td>\n",
              "      <td>0</td>\n",
              "      <td>0</td>\n",
              "    </tr>\n",
              "  </tbody>\n",
              "</table>\n",
              "<p>2010 rows × 25000 columns</p>\n",
              "</div>"
            ],
            "text/plain": [
              "       a    a a   a ab   a b   a bi   a c  ...  яване  ят   ята  ята   ято  ято \n",
              "0       0     0      0     0      0     0  ...      0    0    0     0    0     0\n",
              "1       0     0      0     0      0     0  ...      0    0    0     0    0     0\n",
              "2       0     0      0     0      0     0  ...      0    0    0     0    0     0\n",
              "3       0     0      0     0      0     0  ...      0    0    0     0    0     0\n",
              "4       0     0      0     0      0     0  ...      0    0    0     0    0     0\n",
              "...   ...   ...    ...   ...    ...   ...  ...    ...  ...  ...   ...  ...   ...\n",
              "2005    0     0      0     0      0     0  ...      0    0    0     0    0     0\n",
              "2006    1     1      0     0      0     0  ...      0    0    0     0    0     0\n",
              "2007    0     0      0     0      0     0  ...      0    0    0     0    0     0\n",
              "2008    0     0      0     0      0     0  ...      0    0    0     0    0     0\n",
              "2009    0     0      0     0      0     0  ...      0    0    0     0    0     0\n",
              "\n",
              "[2010 rows x 25000 columns]"
            ]
          },
          "metadata": {},
          "execution_count": 36
        }
      ]
    },
    {
      "cell_type": "code",
      "metadata": {
        "colab": {
          "base_uri": "https://localhost:8080/"
        },
        "id": "-2ao5fYbNxVm",
        "outputId": "1f4a47c8-30e4-41d1-ee41-b00bb2084d53"
      },
      "source": [
        "!pip install catboost"
      ],
      "execution_count": 38,
      "outputs": [
        {
          "output_type": "stream",
          "name": "stdout",
          "text": [
            "Collecting catboost\n",
            "  Downloading catboost-1.0.3-cp37-none-manylinux1_x86_64.whl (76.3 MB)\n",
            "\u001b[K     |████████████████████████████████| 76.3 MB 1.3 MB/s \n",
            "\u001b[?25hRequirement already satisfied: scipy in /usr/local/lib/python3.7/dist-packages (from catboost) (1.4.1)\n",
            "Requirement already satisfied: six in /usr/local/lib/python3.7/dist-packages (from catboost) (1.15.0)\n",
            "Requirement already satisfied: matplotlib in /usr/local/lib/python3.7/dist-packages (from catboost) (3.2.2)\n",
            "Requirement already satisfied: plotly in /usr/local/lib/python3.7/dist-packages (from catboost) (4.4.1)\n",
            "Requirement already satisfied: pandas>=0.24.0 in /usr/local/lib/python3.7/dist-packages (from catboost) (1.1.5)\n",
            "Requirement already satisfied: numpy>=1.16.0 in /usr/local/lib/python3.7/dist-packages (from catboost) (1.19.5)\n",
            "Requirement already satisfied: graphviz in /usr/local/lib/python3.7/dist-packages (from catboost) (0.10.1)\n",
            "Requirement already satisfied: pytz>=2017.2 in /usr/local/lib/python3.7/dist-packages (from pandas>=0.24.0->catboost) (2018.9)\n",
            "Requirement already satisfied: python-dateutil>=2.7.3 in /usr/local/lib/python3.7/dist-packages (from pandas>=0.24.0->catboost) (2.8.2)\n",
            "Requirement already satisfied: kiwisolver>=1.0.1 in /usr/local/lib/python3.7/dist-packages (from matplotlib->catboost) (1.3.2)\n",
            "Requirement already satisfied: pyparsing!=2.0.4,!=2.1.2,!=2.1.6,>=2.0.1 in /usr/local/lib/python3.7/dist-packages (from matplotlib->catboost) (3.0.6)\n",
            "Requirement already satisfied: cycler>=0.10 in /usr/local/lib/python3.7/dist-packages (from matplotlib->catboost) (0.11.0)\n",
            "Requirement already satisfied: retrying>=1.3.3 in /usr/local/lib/python3.7/dist-packages (from plotly->catboost) (1.3.3)\n",
            "Installing collected packages: catboost\n",
            "Successfully installed catboost-1.0.3\n"
          ]
        }
      ]
    },
    {
      "cell_type": "code",
      "metadata": {
        "colab": {
          "base_uri": "https://localhost:8080/"
        },
        "id": "gnRYRW-DNRdt",
        "outputId": "8ab57563-6289-408b-ec62-9ea3dc6ebca8"
      },
      "source": [
        "%%time\n",
        "from sklearn.metrics import classification_report #building a price prediction\n",
        "from sklearn.linear_model import LogisticRegression\n",
        "from sklearn.ensemble import RandomForestClassifier\n",
        "\n",
        "from catboost import CatBoostClassifier\n",
        "from sklearn.metrics import confusion_matrix, accuracy_score\n",
        "\n",
        "model = CatBoostClassifier(silent = True)\n",
        "\n",
        "model.fit(X_train_vector, y_train)\n",
        "y_pred_test = model.predict(X_test_vector)\n",
        "\n",
        "print(accuracy_score(y_test, y_pred_test))\n",
        "print(classification_report(y_test, y_pred_test))"
      ],
      "execution_count": 39,
      "outputs": [
        {
          "output_type": "stream",
          "name": "stdout",
          "text": [
            "0.9636363636363636\n",
            "              precision    recall  f1-score   support\n",
            "\n",
            "           0       0.98      1.00      0.99        57\n",
            "           1       1.00      0.92      0.96        62\n",
            "           2       0.96      0.92      0.94        49\n",
            "           3       1.00      1.00      1.00        56\n",
            "           4       1.00      1.00      1.00        51\n",
            "           5       0.97      0.92      0.94        36\n",
            "           6       0.87      0.98      0.92        54\n",
            "           7       0.98      1.00      0.99        43\n",
            "           8       0.98      0.97      0.97        58\n",
            "           9       0.95      0.95      0.95        40\n",
            "          10       1.00      0.97      0.99        39\n",
            "          11       0.98      0.98      0.98        47\n",
            "          12       0.93      0.96      0.94        53\n",
            "          13       0.98      0.96      0.97        48\n",
            "          14       0.96      0.96      0.96        56\n",
            "          15       1.00      0.95      0.98        43\n",
            "          16       0.98      0.98      0.98        53\n",
            "          17       1.00      0.88      0.93        48\n",
            "          18       0.87      1.00      0.93        52\n",
            "          19       0.93      0.96      0.95        45\n",
            "\n",
            "    accuracy                           0.96       990\n",
            "   macro avg       0.97      0.96      0.96       990\n",
            "weighted avg       0.97      0.96      0.96       990\n",
            "\n",
            "CPU times: user 43min 42s, sys: 7.58 s, total: 43min 49s\n",
            "Wall time: 22min 53s\n"
          ]
        }
      ]
    },
    {
      "cell_type": "code",
      "metadata": {
        "colab": {
          "base_uri": "https://localhost:8080/"
        },
        "id": "gspcP1MOjIPA",
        "outputId": "b80577e6-ca4a-407a-aeef-697d543273e8"
      },
      "source": [
        "%%time\n",
        "# xgb, gradientboosting, svc\n",
        "from sklearn.ensemble import RandomForestClassifier\n",
        "from sklearn.metrics import classification_report\n",
        "\n",
        "clf = RandomForestClassifier(n_estimators=1000)\n",
        "\n",
        "clf.fit(X_train_vector, y_train)\n",
        "\n",
        "y_pred = clf.predict(X_test_vector)\n",
        "\n",
        "print(classification_report(y_test, y_pred))"
      ],
      "execution_count": 34,
      "outputs": [
        {
          "output_type": "stream",
          "name": "stdout",
          "text": [
            "              precision    recall  f1-score   support\n",
            "\n",
            "           0       1.00      1.00      1.00       118\n",
            "           1       0.91      0.97      0.94       118\n",
            "           2       0.97      0.99      0.98       126\n",
            "           3       0.99      1.00      1.00       102\n",
            "           4       1.00      1.00      1.00       125\n",
            "           5       0.98      0.93      0.96       122\n",
            "           6       0.96      0.99      0.98       109\n",
            "           7       0.98      0.98      0.98       123\n",
            "           8       1.00      0.97      0.99       106\n",
            "           9       0.97      1.00      0.98       125\n",
            "          10       1.00      0.98      0.99       108\n",
            "          11       0.98      0.96      0.97       116\n",
            "          12       0.93      0.99      0.96        99\n",
            "          13       1.00      0.98      0.99       111\n",
            "          14       0.98      0.98      0.98       118\n",
            "          15       0.92      0.97      0.95       113\n",
            "          16       0.99      0.98      0.99       110\n",
            "          17       0.96      0.91      0.93       119\n",
            "          18       0.99      0.97      0.98       114\n",
            "          19       1.00      0.95      0.97       128\n",
            "\n",
            "    accuracy                           0.98      2310\n",
            "   macro avg       0.98      0.98      0.98      2310\n",
            "weighted avg       0.98      0.98      0.98      2310\n",
            "\n",
            "CPU times: user 4min 2s, sys: 676 ms, total: 4min 3s\n",
            "Wall time: 4min 1s\n"
          ]
        }
      ]
    },
    {
      "cell_type": "code",
      "metadata": {
        "colab": {
          "base_uri": "https://localhost:8080/",
          "height": 418
        },
        "id": "7GsZzVigdlU3",
        "outputId": "d29c7752-88d4-44df-9b67-8d5961372fb1"
      },
      "source": [
        "test"
      ],
      "execution_count": 40,
      "outputs": [
        {
          "output_type": "execute_result",
          "data": {
            "text/html": [
              "<div>\n",
              "<style scoped>\n",
              "    .dataframe tbody tr th:only-of-type {\n",
              "        vertical-align: middle;\n",
              "    }\n",
              "\n",
              "    .dataframe tbody tr th {\n",
              "        vertical-align: top;\n",
              "    }\n",
              "\n",
              "    .dataframe thead th {\n",
              "        text-align: right;\n",
              "    }\n",
              "</style>\n",
              "<table border=\"1\" class=\"dataframe\">\n",
              "  <thead>\n",
              "    <tr style=\"text-align: right;\">\n",
              "      <th></th>\n",
              "      <th>index</th>\n",
              "      <th>text</th>\n",
              "    </tr>\n",
              "  </thead>\n",
              "  <tbody>\n",
              "    <tr>\n",
              "      <th>0</th>\n",
              "      <td>0</td>\n",
              "      <td>szállítanak</td>\n",
              "    </tr>\n",
              "    <tr>\n",
              "      <th>1</th>\n",
              "      <td>1</td>\n",
              "      <td>pracovni</td>\n",
              "    </tr>\n",
              "    <tr>\n",
              "      <th>2</th>\n",
              "      <td>2</td>\n",
              "      <td>fašisti</td>\n",
              "    </tr>\n",
              "    <tr>\n",
              "      <th>3</th>\n",
              "      <td>3</td>\n",
              "      <td>passer</td>\n",
              "    </tr>\n",
              "    <tr>\n",
              "      <th>4</th>\n",
              "      <td>4</td>\n",
              "      <td>culpabilização</td>\n",
              "    </tr>\n",
              "    <tr>\n",
              "      <th>...</th>\n",
              "      <td>...</td>\n",
              "      <td>...</td>\n",
              "    </tr>\n",
              "    <tr>\n",
              "      <th>8515</th>\n",
              "      <td>8515</td>\n",
              "      <td>middags</td>\n",
              "    </tr>\n",
              "    <tr>\n",
              "      <th>8516</th>\n",
              "      <td>8516</td>\n",
              "      <td>tunnetega</td>\n",
              "    </tr>\n",
              "    <tr>\n",
              "      <th>8517</th>\n",
              "      <td>8517</td>\n",
              "      <td>tocassem</td>\n",
              "    </tr>\n",
              "    <tr>\n",
              "      <th>8518</th>\n",
              "      <td>8518</td>\n",
              "      <td>urale</td>\n",
              "    </tr>\n",
              "    <tr>\n",
              "      <th>8519</th>\n",
              "      <td>8519</td>\n",
              "      <td>labialisassiez</td>\n",
              "    </tr>\n",
              "  </tbody>\n",
              "</table>\n",
              "<p>8520 rows × 2 columns</p>\n",
              "</div>"
            ],
            "text/plain": [
              "      index            text\n",
              "0         0    szállítanak \n",
              "1         1       pracovni \n",
              "2         2        fašisti \n",
              "3         3         passer \n",
              "4         4  culpabilização\n",
              "...     ...             ...\n",
              "8515   8515        middags \n",
              "8516   8516      tunnetega \n",
              "8517   8517        tocassem\n",
              "8518   8518          urale \n",
              "8519   8519  labialisassiez\n",
              "\n",
              "[8520 rows x 2 columns]"
            ]
          },
          "metadata": {},
          "execution_count": 40
        }
      ]
    },
    {
      "cell_type": "code",
      "metadata": {
        "colab": {
          "base_uri": "https://localhost:8080/"
        },
        "id": "SoFItACjk_ks",
        "outputId": "a6abc0bf-d9c6-4774-a34e-dbc32dd1723f"
      },
      "source": [
        "%%time\n",
        "test_vector = vectorizer.transform(test['text']).toarray()\n",
        "\n",
        "y_pred_lang = model.predict(test_vector)\n",
        "y_pred_lang #0, 4, 1 ..."
      ],
      "execution_count": 41,
      "outputs": [
        {
          "output_type": "stream",
          "name": "stdout",
          "text": [
            "CPU times: user 1min 49s, sys: 2.66 s, total: 1min 52s\n",
            "Wall time: 1min 51s\n"
          ]
        }
      ]
    },
    {
      "cell_type": "code",
      "metadata": {
        "colab": {
          "base_uri": "https://localhost:8080/"
        },
        "id": "KY4-rSbaeJF2",
        "outputId": "eb3affdd-0ade-4895-b935-beb17c670031"
      },
      "source": [
        "y_pred_lang"
      ],
      "execution_count": 42,
      "outputs": [
        {
          "output_type": "execute_result",
          "data": {
            "text/plain": [
              "array([[ 9],\n",
              "       [ 0],\n",
              "       [11],\n",
              "       ...,\n",
              "       [ 0],\n",
              "       [ 0],\n",
              "       [ 0]])"
            ]
          },
          "metadata": {},
          "execution_count": 42
        }
      ]
    },
    {
      "cell_type": "code",
      "metadata": {
        "colab": {
          "base_uri": "https://localhost:8080/"
        },
        "id": "ljkRpffrmxEA",
        "outputId": "42f32251-6891-48f3-d46d-660783699e1b"
      },
      "source": [
        "# mapping\n",
        "inverse_dict = dict([val,key] for key,val in mapping.items())\n",
        "inverse_dict"
      ],
      "execution_count": 37,
      "outputs": [
        {
          "output_type": "execute_result",
          "data": {
            "text/plain": [
              "{0: 'bg',\n",
              " 1: 'cs',\n",
              " 2: 'da',\n",
              " 3: 'de',\n",
              " 4: 'el',\n",
              " 5: 'es',\n",
              " 6: 'et',\n",
              " 7: 'fi',\n",
              " 8: 'fr',\n",
              " 9: 'hu',\n",
              " 10: 'it',\n",
              " 11: 'lt',\n",
              " 12: 'lv',\n",
              " 13: 'nl',\n",
              " 14: 'pl',\n",
              " 15: 'pt',\n",
              " 16: 'ro',\n",
              " 17: 'sk',\n",
              " 18: 'sl',\n",
              " 19: 'sv'}"
            ]
          },
          "metadata": {},
          "execution_count": 37
        }
      ]
    },
    {
      "cell_type": "code",
      "metadata": {
        "colab": {
          "base_uri": "https://localhost:8080/",
          "height": 418
        },
        "id": "_TVmjL0VlR3I",
        "outputId": "5e3cd61f-df06-4847-ecff-3c5eb69fc5c4"
      },
      "source": [
        "# Формуется ответ ответ в нужном виде\n",
        "test_pred = pd.DataFrame(y_pred_lang, columns=['lang_samp'])\n",
        "test_pred.reset_index(inplace=True)\n",
        "\n",
        "test_pred['lang_samp'] = test_pred['lang_samp'].map(inverse_dict).fillna(test_pred['lang_samp'])\n",
        "test_pred"
      ],
      "execution_count": 43,
      "outputs": [
        {
          "output_type": "execute_result",
          "data": {
            "text/html": [
              "<div>\n",
              "<style scoped>\n",
              "    .dataframe tbody tr th:only-of-type {\n",
              "        vertical-align: middle;\n",
              "    }\n",
              "\n",
              "    .dataframe tbody tr th {\n",
              "        vertical-align: top;\n",
              "    }\n",
              "\n",
              "    .dataframe thead th {\n",
              "        text-align: right;\n",
              "    }\n",
              "</style>\n",
              "<table border=\"1\" class=\"dataframe\">\n",
              "  <thead>\n",
              "    <tr style=\"text-align: right;\">\n",
              "      <th></th>\n",
              "      <th>index</th>\n",
              "      <th>lang_samp</th>\n",
              "    </tr>\n",
              "  </thead>\n",
              "  <tbody>\n",
              "    <tr>\n",
              "      <th>0</th>\n",
              "      <td>0</td>\n",
              "      <td>hu</td>\n",
              "    </tr>\n",
              "    <tr>\n",
              "      <th>1</th>\n",
              "      <td>1</td>\n",
              "      <td>bg</td>\n",
              "    </tr>\n",
              "    <tr>\n",
              "      <th>2</th>\n",
              "      <td>2</td>\n",
              "      <td>lt</td>\n",
              "    </tr>\n",
              "    <tr>\n",
              "      <th>3</th>\n",
              "      <td>3</td>\n",
              "      <td>bg</td>\n",
              "    </tr>\n",
              "    <tr>\n",
              "      <th>4</th>\n",
              "      <td>4</td>\n",
              "      <td>bg</td>\n",
              "    </tr>\n",
              "    <tr>\n",
              "      <th>...</th>\n",
              "      <td>...</td>\n",
              "      <td>...</td>\n",
              "    </tr>\n",
              "    <tr>\n",
              "      <th>8515</th>\n",
              "      <td>8515</td>\n",
              "      <td>bg</td>\n",
              "    </tr>\n",
              "    <tr>\n",
              "      <th>8516</th>\n",
              "      <td>8516</td>\n",
              "      <td>bg</td>\n",
              "    </tr>\n",
              "    <tr>\n",
              "      <th>8517</th>\n",
              "      <td>8517</td>\n",
              "      <td>bg</td>\n",
              "    </tr>\n",
              "    <tr>\n",
              "      <th>8518</th>\n",
              "      <td>8518</td>\n",
              "      <td>bg</td>\n",
              "    </tr>\n",
              "    <tr>\n",
              "      <th>8519</th>\n",
              "      <td>8519</td>\n",
              "      <td>bg</td>\n",
              "    </tr>\n",
              "  </tbody>\n",
              "</table>\n",
              "<p>8520 rows × 2 columns</p>\n",
              "</div>"
            ],
            "text/plain": [
              "      index lang_samp\n",
              "0         0        hu\n",
              "1         1        bg\n",
              "2         2        lt\n",
              "3         3        bg\n",
              "4         4        bg\n",
              "...     ...       ...\n",
              "8515   8515        bg\n",
              "8516   8516        bg\n",
              "8517   8517        bg\n",
              "8518   8518        bg\n",
              "8519   8519        bg\n",
              "\n",
              "[8520 rows x 2 columns]"
            ]
          },
          "metadata": {},
          "execution_count": 43
        }
      ]
    },
    {
      "cell_type": "code",
      "metadata": {
        "colab": {
          "base_uri": "https://localhost:8080/"
        },
        "id": "r53QIHcgjXDr",
        "outputId": "3febd437-4c0b-4fda-fb47-b78d47a53d1e"
      },
      "source": [
        "test_pred['lang_samp'].value_counts()"
      ],
      "execution_count": 44,
      "outputs": [
        {
          "output_type": "execute_result",
          "data": {
            "text/plain": [
              "bg    6209\n",
              "el     461\n",
              "et     442\n",
              "fi     351\n",
              "lt     259\n",
              "lv     207\n",
              "pl     149\n",
              "hu     146\n",
              "cs     120\n",
              "sl      81\n",
              "sv      31\n",
              "ro      21\n",
              "sk      17\n",
              "nl       9\n",
              "fr       8\n",
              "da       4\n",
              "it       4\n",
              "de       1\n",
              "Name: lang_samp, dtype: int64"
            ]
          },
          "metadata": {},
          "execution_count": 44
        }
      ]
    },
    {
      "cell_type": "code",
      "metadata": {
        "id": "nNVIBqcunUID"
      },
      "source": [
        "test_pred.to_csv('submition_adelya.csv', index=False)"
      ],
      "execution_count": 45,
      "outputs": []
    },
    {
      "cell_type": "code",
      "metadata": {
        "id": "AHy_d9non_rM",
        "colab": {
          "base_uri": "https://localhost:8080/",
          "height": 34
        },
        "outputId": "c8be249b-508c-47d7-bab2-ceb77c3e14be"
      },
      "source": [
        "from google.colab import files\n",
        "files.download(\"submition_adelya.csv\")"
      ],
      "execution_count": 46,
      "outputs": [
        {
          "output_type": "display_data",
          "data": {
            "application/javascript": [
              "\n",
              "    async function download(id, filename, size) {\n",
              "      if (!google.colab.kernel.accessAllowed) {\n",
              "        return;\n",
              "      }\n",
              "      const div = document.createElement('div');\n",
              "      const label = document.createElement('label');\n",
              "      label.textContent = `Downloading \"${filename}\": `;\n",
              "      div.appendChild(label);\n",
              "      const progress = document.createElement('progress');\n",
              "      progress.max = size;\n",
              "      div.appendChild(progress);\n",
              "      document.body.appendChild(div);\n",
              "\n",
              "      const buffers = [];\n",
              "      let downloaded = 0;\n",
              "\n",
              "      const channel = await google.colab.kernel.comms.open(id);\n",
              "      // Send a message to notify the kernel that we're ready.\n",
              "      channel.send({})\n",
              "\n",
              "      for await (const message of channel.messages) {\n",
              "        // Send a message to notify the kernel that we're ready.\n",
              "        channel.send({})\n",
              "        if (message.buffers) {\n",
              "          for (const buffer of message.buffers) {\n",
              "            buffers.push(buffer);\n",
              "            downloaded += buffer.byteLength;\n",
              "            progress.value = downloaded;\n",
              "          }\n",
              "        }\n",
              "      }\n",
              "      const blob = new Blob(buffers, {type: 'application/binary'});\n",
              "      const a = document.createElement('a');\n",
              "      a.href = window.URL.createObjectURL(blob);\n",
              "      a.download = filename;\n",
              "      div.appendChild(a);\n",
              "      a.click();\n",
              "      div.remove();\n",
              "    }\n",
              "  "
            ],
            "text/plain": [
              "<IPython.core.display.Javascript object>"
            ]
          },
          "metadata": {}
        },
        {
          "output_type": "display_data",
          "data": {
            "application/javascript": [
              "download(\"download_7e4c26b7-4213-4745-8c90-9ca39b00e27d\", \"submition_adelya.csv\", 67066)"
            ],
            "text/plain": [
              "<IPython.core.display.Javascript object>"
            ]
          },
          "metadata": {}
        }
      ]
    }
  ]
}