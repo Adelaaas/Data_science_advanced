{
  "nbformat": 4,
  "nbformat_minor": 0,
  "metadata": {
    "colab": {
      "name": "Как загрузить данные.ipynb",
      "provenance": []
    },
    "kernelspec": {
      "name": "python3",
      "display_name": "Python 3"
    },
    "language_info": {
      "name": "python"
    }
  },
  "cells": [
    {
      "cell_type": "markdown",
      "metadata": {
        "id": "2UB5IOEOj6gx"
      },
      "source": [
        "# Ссылка на kaggle\n",
        "\n",
        "https://www.kaggle.com/c/languagesdetect/data"
      ]
    },
    {
      "cell_type": "code",
      "metadata": {
        "id": "ZuFGVRHAjIN0"
      },
      "source": [
        "# Позволяет монтировать гугл-диск в colab\n",
        "# и получить доступ к папкам и файлам на гугл-диске\n",
        "# заранее создали папку куда положили все данные\n",
        "from google.colab import drive\n",
        "drive.mount('/content/gdrive')"
      ],
      "execution_count": null,
      "outputs": []
    },
    {
      "cell_type": "markdown",
      "metadata": {
        "id": "CCJtKmuCjb57"
      },
      "source": [
        "Модуль os из стандартной библиотеки языка программирования Python обычно используется для работы с установленной ОС, а также файловой системой ПК. Он содержит массу полезных методов для взаимодействия с файлами и папками на жестком диске. Программы, работающие с модулем os, не зависят от типа ОС и являются легко переносимыми на другую платформу."
      ]
    },
    {
      "cell_type": "code",
      "metadata": {
        "id": "UI_k4Z2_jZcZ"
      },
      "source": [
        "import re\n",
        "import pandas as pd\n",
        "import os\n",
        "\n",
        "url = os.chdir(r\"./gdrive/MyDrive/Я-профи подготовка по машинному обучению/Языки/data\")\n",
        "os.getcwd()"
      ],
      "execution_count": null,
      "outputs": []
    },
    {
      "cell_type": "code",
      "metadata": {
        "id": "986-l7qsjewl"
      },
      "source": [
        "files = os.listdir(url)\n",
        "files"
      ],
      "execution_count": null,
      "outputs": []
    },
    {
      "cell_type": "code",
      "metadata": {
        "id": "EOhp2NtJjkxM"
      },
      "source": [
        "k = ['train_da', 'train_bg', 'train_cs', 'train_de', 'train_el', 'train_es', 'train_et', 'train_fi',\n",
        "     'train_fr', 'train_hu', 'train_it', 'train_lt', 'train_lv', 'train_nl', 'train_pl', 'train_pt',\n",
        "     'train_ro', 'train_sk', 'train_sl', 'train_sv', 'test', 'test_submission']\n",
        "     \n",
        "lang = {'train_da':[], 'train_bg':[], 'train_cs':[], 'train_de':[], 'train_el':[], 'train_es':[], 'train_et':[],\n",
        "        'train_fi':[], 'train_fr':[], 'train_hu':[], 'train_it':[], 'train_lt':[], 'train_lv':[], 'train_nl':[],\n",
        "        'train_pl':[], 'train_pt':[], 'train_ro':[], 'train_sk':[], 'train_sl':[], 'train_sv':[], 'test':[], 'test_submission':[]}\n",
        "\n",
        "i = 0\n",
        "for file in files:\n",
        "    with open(file, \"r\", encoding='utf-8') as f:\n",
        "        for line in f.readlines():\n",
        "            lang[k[i]].append(line)\n",
        "    i += 1\n",
        "\n",
        "lang"
      ],
      "execution_count": null,
      "outputs": []
    },
    {
      "cell_type": "code",
      "metadata": {
        "id": "6zFLo1qqjmXG"
      },
      "source": [
        "# re - библиотека для работы с регулярными выражениями и строками\n",
        "for l in lang:\n",
        "    if re.findall('train', l):\n",
        "        k = l.split('train_')[1]\n",
        "        print(l, '|', k)"
      ],
      "execution_count": null,
      "outputs": []
    },
    {
      "cell_type": "code",
      "metadata": {
        "id": "zIjPSwE6joQw"
      },
      "source": [
        "# создание тренировочного набора\n",
        "train = pd.DataFrame(columns=['text', 'language'])\n",
        "\n",
        "for l in lang:\n",
        "    if re.findall('train', l):\n",
        "        tmp = pd.DataFrame()\n",
        "        tmp['text'] = lang[l]\n",
        "        tmp['language'] = l.split('train_')[1]\n",
        "        train = pd.concat([train, tmp], ignore_index=True)\n",
        "\n",
        "train"
      ],
      "execution_count": null,
      "outputs": []
    },
    {
      "cell_type": "code",
      "metadata": {
        "id": "lkqA5sUzjr90"
      },
      "source": [
        "print(f'What languages are represented in the data: {train[\"language\"].unique()}')\n",
        "print('-'*100)\n",
        "print(f'How many sentences are presented for each language: \\n{train[\"language\"].value_counts()}')"
      ],
      "execution_count": null,
      "outputs": []
    },
    {
      "cell_type": "code",
      "metadata": {
        "id": "2E2QFqrbjtcp"
      },
      "source": [
        "# Обработка и загрузка тестового набора данных\n",
        "test = pd.DataFrame(columns=['text'])\n",
        "tmp = []\n",
        "\n",
        "for word in lang['test']:\n",
        "    tmp.append(word.split(' ')[1].split('\\n')[0])\n",
        "\n",
        "test['text'] = tmp\n",
        "test\n",
        "\n",
        "# '0 medeia\\n'"
      ],
      "execution_count": null,
      "outputs": []
    },
    {
      "cell_type": "code",
      "metadata": {
        "id": "beFAOQb2jv6r"
      },
      "source": [
        "# теперь у Вас 2 датафрейма тренировочный и тестовый\n",
        "# test\n",
        "# train"
      ],
      "execution_count": null,
      "outputs": []
    }
  ]
}