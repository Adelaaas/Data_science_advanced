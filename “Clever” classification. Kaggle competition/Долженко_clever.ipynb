{
  "nbformat": 4,
  "nbformat_minor": 0,
  "metadata": {
    "colab": {
      "name": "\"Clever\" questions classification.ipynb\"",
      "provenance": []
    },
    "kernelspec": {
      "name": "python3",
      "display_name": "Python 3"
    },
    "language_info": {
      "name": "python"
    }
  },
  "cells": [
    {
      "cell_type": "code",
      "metadata": {
        "id": "sDek97wAP4Dv"
      },
      "source": [
        "import pandas as pd"
      ],
      "execution_count": 3,
      "outputs": []
    },
    {
      "cell_type": "code",
      "metadata": {
        "colab": {
          "resources": {
            "http://localhost:8080/nbextensions/google.colab/files.js": {
              "data": "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",
              "ok": true,
              "headers": [
                [
                  "content-type",
                  "application/javascript"
                ]
              ],
              "status": 200,
              "status_text": ""
            }
          },
          "base_uri": "https://localhost:8080/",
          "height": 106
        },
        "id": "WcUaJ5ABOrv6",
        "outputId": "1821a9dd-3ae6-411e-e017-509d2b20b2b0"
      },
      "source": [
        "from google.colab import files\n",
        "uploaded = files.upload()"
      ],
      "execution_count": 4,
      "outputs": [
        {
          "output_type": "display_data",
          "data": {
            "text/html": [
              "\n",
              "     <input type=\"file\" id=\"files-cdbdc0aa-3c88-44a4-878d-5eb53ffb81ff\" name=\"files[]\" multiple disabled\n",
              "        style=\"border:none\" />\n",
              "     <output id=\"result-cdbdc0aa-3c88-44a4-878d-5eb53ffb81ff\">\n",
              "      Upload widget is only available when the cell has been executed in the\n",
              "      current browser session. Please rerun this cell to enable.\n",
              "      </output>\n",
              "      <script src=\"/nbextensions/google.colab/files.js\"></script> "
            ],
            "text/plain": [
              "<IPython.core.display.HTML object>"
            ]
          },
          "metadata": {}
        },
        {
          "output_type": "stream",
          "name": "stdout",
          "text": [
            "Saving test_clever.csv to test_clever (3).csv\n",
            "Saving train_clever.csv to train_clever (3).csv\n"
          ]
        }
      ]
    },
    {
      "cell_type": "code",
      "metadata": {
        "id": "Lpt30wVnP1D7"
      },
      "source": [
        "train = pd.read_csv(\"train_clever.csv\")\n",
        "test = pd.read_csv(\"test_clever.csv\")"
      ],
      "execution_count": 99,
      "outputs": []
    },
    {
      "cell_type": "code",
      "metadata": {
        "id": "bIlmYbmQMgmH"
      },
      "source": [
        "train_0 = train[train['Answer'] == 0].loc[:6345]\n",
        "train_1 = train[train['Answer'] == 1]\n",
        "train_new = pd.concat([train_0, train_1], ignore_index=True)\n",
        "\n",
        "train = train_new"
      ],
      "execution_count": 100,
      "outputs": []
    },
    {
      "cell_type": "code",
      "metadata": {
        "colab": {
          "base_uri": "https://localhost:8080/",
          "height": 203
        },
        "id": "B88N9CS-QMs9",
        "outputId": "15c08d31-f578-46cb-f6a9-df9d7563add3"
      },
      "source": [
        "train.head()"
      ],
      "execution_count": 101,
      "outputs": [
        {
          "output_type": "execute_result",
          "data": {
            "text/html": [
              "<div>\n",
              "<style scoped>\n",
              "    .dataframe tbody tr th:only-of-type {\n",
              "        vertical-align: middle;\n",
              "    }\n",
              "\n",
              "    .dataframe tbody tr th {\n",
              "        vertical-align: top;\n",
              "    }\n",
              "\n",
              "    .dataframe thead th {\n",
              "        text-align: right;\n",
              "    }\n",
              "</style>\n",
              "<table border=\"1\" class=\"dataframe\">\n",
              "  <thead>\n",
              "    <tr style=\"text-align: right;\">\n",
              "      <th></th>\n",
              "      <th>ID</th>\n",
              "      <th>Answer</th>\n",
              "      <th>Question</th>\n",
              "    </tr>\n",
              "  </thead>\n",
              "  <tbody>\n",
              "    <tr>\n",
              "      <th>0</th>\n",
              "      <td>16019</td>\n",
              "      <td>0</td>\n",
              "      <td>Крупнейшим производителем кукурузы является:</td>\n",
              "    </tr>\n",
              "    <tr>\n",
              "      <th>1</th>\n",
              "      <td>5121</td>\n",
              "      <td>0</td>\n",
              "      <td>Кто первый в РОССИЮ завёз картошку ?</td>\n",
              "    </tr>\n",
              "    <tr>\n",
              "      <th>2</th>\n",
              "      <td>17169</td>\n",
              "      <td>0</td>\n",
              "      <td>Кто из мореплавателей сделал первое кругосветн...</td>\n",
              "    </tr>\n",
              "    <tr>\n",
              "      <th>3</th>\n",
              "      <td>15480</td>\n",
              "      <td>0</td>\n",
              "      <td>Как зовут героя серии романов Бариса Акунина?</td>\n",
              "    </tr>\n",
              "    <tr>\n",
              "      <th>4</th>\n",
              "      <td>3312</td>\n",
              "      <td>0</td>\n",
              "      <td>Какая сборная выйграла чемпионат мира по футбо...</td>\n",
              "    </tr>\n",
              "  </tbody>\n",
              "</table>\n",
              "</div>"
            ],
            "text/plain": [
              "      ID  Answer                                           Question\n",
              "0  16019       0       Крупнейшим производителем кукурузы является:\n",
              "1   5121       0               Кто первый в РОССИЮ завёз картошку ?\n",
              "2  17169       0  Кто из мореплавателей сделал первое кругосветн...\n",
              "3  15480       0      Как зовут героя серии романов Бариса Акунина?\n",
              "4   3312       0  Какая сборная выйграла чемпионат мира по футбо..."
            ]
          },
          "metadata": {},
          "execution_count": 101
        }
      ]
    },
    {
      "cell_type": "code",
      "metadata": {
        "colab": {
          "base_uri": "https://localhost:8080/"
        },
        "id": "LLxl0pFtTz0z",
        "outputId": "cbb7ddd2-0895-45ff-bc45-a1d1c5c8db24"
      },
      "source": [
        "print(train.info())\n",
        "print('-------------------------------------------------------')\n",
        "print(train.isna().sum())\n",
        "print('-------------------------------------------------------')\n",
        "print(train['Answer'].value_counts())"
      ],
      "execution_count": 102,
      "outputs": [
        {
          "output_type": "stream",
          "name": "stdout",
          "text": [
            "<class 'pandas.core.frame.DataFrame'>\n",
            "RangeIndex: 7795 entries, 0 to 7794\n",
            "Data columns (total 3 columns):\n",
            " #   Column    Non-Null Count  Dtype \n",
            "---  ------    --------------  ----- \n",
            " 0   ID        7795 non-null   int64 \n",
            " 1   Answer    7795 non-null   int64 \n",
            " 2   Question  7795 non-null   object\n",
            "dtypes: int64(2), object(1)\n",
            "memory usage: 182.8+ KB\n",
            "None\n",
            "-------------------------------------------------------\n",
            "ID          0\n",
            "Answer      0\n",
            "Question    0\n",
            "dtype: int64\n",
            "-------------------------------------------------------\n",
            "0    5680\n",
            "1    2115\n",
            "Name: Answer, dtype: int64\n"
          ]
        }
      ]
    },
    {
      "cell_type": "code",
      "metadata": {
        "colab": {
          "base_uri": "https://localhost:8080/",
          "height": 203
        },
        "id": "bNv09EJRQSCY",
        "outputId": "4b942621-79a1-4e2e-df9d-9892f309be25"
      },
      "source": [
        "test.head()"
      ],
      "execution_count": 103,
      "outputs": [
        {
          "output_type": "execute_result",
          "data": {
            "text/html": [
              "<div>\n",
              "<style scoped>\n",
              "    .dataframe tbody tr th:only-of-type {\n",
              "        vertical-align: middle;\n",
              "    }\n",
              "\n",
              "    .dataframe tbody tr th {\n",
              "        vertical-align: top;\n",
              "    }\n",
              "\n",
              "    .dataframe thead th {\n",
              "        text-align: right;\n",
              "    }\n",
              "</style>\n",
              "<table border=\"1\" class=\"dataframe\">\n",
              "  <thead>\n",
              "    <tr style=\"text-align: right;\">\n",
              "      <th></th>\n",
              "      <th>ID</th>\n",
              "      <th>Question</th>\n",
              "    </tr>\n",
              "  </thead>\n",
              "  <tbody>\n",
              "    <tr>\n",
              "      <th>0</th>\n",
              "      <td>11083</td>\n",
              "      <td>В каком году основан Санкт-Петербург?</td>\n",
              "    </tr>\n",
              "    <tr>\n",
              "      <th>1</th>\n",
              "      <td>18349</td>\n",
              "      <td>Какой город Золотого кольца России-город худож...</td>\n",
              "    </tr>\n",
              "    <tr>\n",
              "      <th>2</th>\n",
              "      <td>11374</td>\n",
              "      <td>Каким цветом написана надпись магазина «пятеро...</td>\n",
              "    </tr>\n",
              "    <tr>\n",
              "      <th>3</th>\n",
              "      <td>9699</td>\n",
              "      <td>Сколько весит пирамида Хеопса?</td>\n",
              "    </tr>\n",
              "    <tr>\n",
              "      <th>4</th>\n",
              "      <td>17748</td>\n",
              "      <td>В какой стране киберспорт впервые признали вид...</td>\n",
              "    </tr>\n",
              "  </tbody>\n",
              "</table>\n",
              "</div>"
            ],
            "text/plain": [
              "      ID                                           Question\n",
              "0  11083              В каком году основан Санкт-Петербург?\n",
              "1  18349  Какой город Золотого кольца России-город худож...\n",
              "2  11374  Каким цветом написана надпись магазина «пятеро...\n",
              "3   9699                     Сколько весит пирамида Хеопса?\n",
              "4  17748  В какой стране киберспорт впервые признали вид..."
            ]
          },
          "metadata": {},
          "execution_count": 103
        }
      ]
    },
    {
      "cell_type": "code",
      "metadata": {
        "colab": {
          "base_uri": "https://localhost:8080/"
        },
        "id": "7jCfb2XQVbdQ",
        "outputId": "c909a105-042a-4ff1-d9b2-01d861e0c1ce"
      },
      "source": [
        "print(test.info())\n",
        "print('-------------------------------------------------------')\n",
        "print(test.isna().sum())"
      ],
      "execution_count": 104,
      "outputs": [
        {
          "output_type": "stream",
          "name": "stdout",
          "text": [
            "<class 'pandas.core.frame.DataFrame'>\n",
            "RangeIndex: 10000 entries, 0 to 9999\n",
            "Data columns (total 2 columns):\n",
            " #   Column    Non-Null Count  Dtype \n",
            "---  ------    --------------  ----- \n",
            " 0   ID        10000 non-null  int64 \n",
            " 1   Question  10000 non-null  object\n",
            "dtypes: int64(1), object(1)\n",
            "memory usage: 156.4+ KB\n",
            "None\n",
            "-------------------------------------------------------\n",
            "ID          0\n",
            "Question    0\n",
            "dtype: int64\n"
          ]
        }
      ]
    },
    {
      "cell_type": "code",
      "metadata": {
        "colab": {
          "base_uri": "https://localhost:8080/"
        },
        "id": "XvmjVIzpQ7JX",
        "outputId": "72a8189e-9a19-4158-f4e5-4c36b0e5eac5"
      },
      "source": [
        "for i in range(100):\n",
        "    print(train['Question'][i])"
      ],
      "execution_count": 105,
      "outputs": [
        {
          "output_type": "stream",
          "name": "stdout",
          "text": [
            "Крупнейшим производителем кукурузы является:\n",
            "Кто первый в РОССИЮ завёз картошку ?\n",
            "Кто из мореплавателей сделал первое кругосветное путешествие?\n",
            "Как зовут героя серии романов Бариса Акунина?\n",
            "Какая сборная выйграла чемпионат мира по футболу в 2006 году?\n",
            "Как звали коня Александра Македонского?\n",
            "На ком был женат Эйнштейн\n",
            "Какое устройство обладает наибольшей скоростью обмена информацией?\n",
            "Где обитают пингвины ?\n",
            "Что мыла мама?\n",
            "Сколько длилась Семилетняя война? (18 век)\n",
            "Как звали крысу которая была у Шапокляк из мультфильма о Чебурашке?\n",
            "Как звали сову Гарри Поттера?\n",
            "п\n",
            "Сколько лап у краба?\n",
            "Кто является основателем сестринского дела?\n",
            "Сколько костей в шейном позвонке у пресмыкающихся?\n",
            "Какая из приведенных ниже конструкций языка Prolog является правилом?\n",
            "Кто был самым первым ведущим программы «В мире животных» ?\n",
            "Сколько цилиндров в двигателе V\n",
            "Итальянцы называют это государство Монтенегро. Как его называем мы?\n",
            "Кто самый сильный футболист?\n",
            "Как зовут юного сыщика в детективе Астрид Линдгрен?\n",
            "Какой самый знаменитый праздник в мире где все отдыхают\n",
            "В каком вымышленном банке, расположенном  в Лондоне, основную часть сотрудников составляли гоблины?\n",
            "Сколько звезд в солнечной системе\n",
            "С какой страной НЕ граничит Словения ?\n",
            "Каковы настоящее имя и фамилия актера Майкла Китона?\n",
            "Что такое сквирт\n",
            "Сколько сухопутных границ имеет КНДР?\n",
            "За какой фильм Леонардо ДиКаприо получил Оскар?\n",
            "Кто стал первым чемпионом UFC из России?\n",
            "С каким государством Россия имеет сухопутную границу?\n",
            "Кто вошёл в историю как «отец медицины»?\n",
            "Как зовут бойца корриды , убивающих быков ?\n",
            "в каком году открылось метро в Москве ?\n",
            "Согласно пословице, до какой столицы может довести язык?\n",
            "Что можно купить за клеверсы?\n",
            "какая столица Южной Кореи\n",
            "Какой из перечисленных химических элементов не относится к инертным газам?\n",
            "В каком году мышонок Микки Маус впервые появился на экранах?\n",
            "При какой температуре плавится стекло?\n",
            "Сколько всего богов было в Древнем Египте?\n",
            "Какая фраза принадлежит Коту Леопольду?\n",
            "Как называются комары и другие кровососущие насекомые,  докучающие животным и человеку?\n",
            "Кто НЕ входил в мистическую тройку в романе М.А.Булгакова \"Мастер и Маргарита\"?\n",
            "Символом какой страны является клевер?\n",
            "Закончите строку стихотворения Александра Блока: «Ночь, улица, фонарь..?»\n",
            "Какого числа раньше праздновали Новый Год?\n",
            "Почему пожарные ведра имеют форму конуса?\n",
            "Кто из данных игроков получил MVP больше всех?\n",
            "Кто из этих людей принёс рэп в Россию?\n",
            "Какая столица у Австралии?\n",
            "Почему луна светится???\n",
            "Как называется литературный род, где основной формой повествования является проза?\n",
            "В каком году отменили крепостное право в России\n",
            "Как правильно закончить пословицу: «Не откладывай на завтра то, что можно…»\n",
            "В каком месте последние годы жизни прожил знаменитый писатель Лев Николаевич Толстой\n",
            "Сколько лет на данный момент лидеру группы КИНО В. Цою?\n",
            "В каком году произошел теракт в Беслане?\n",
            "Сколько суток составляет високосный год\n",
            "сколько калорий в банане\n",
            "Кто придумал носить широкополые шляпы?\n",
            "В какой стране больше всего временных поясов?\n",
            "Что является связью малыша в утробе матери?\n",
            "1000 - это 10 в какой степени?\n",
            "Сколько знаков в До мажоре?\n",
            "Что изобрели первее?\n",
            "Прототипом какого художника стал главный герой романа С.Моэма \"Луна и грош\"?\n",
            "Трава-мурава, травушка-муравушка, - всем нам с детства из сказок знакомы эти словосочетания. Что это за трава такая, почему называют ее так нежно и поэтично, травушка-муравушка? Пойду пройдусь по траве-мураве, повествуют нам народные былины, по траве-мураве покачаюсь...\n",
            "Правда ли,что земля является шаром?\n",
            "Как звали главных героинь мультфильма Хаяо Миядзаки - \"Мой сосед Тоторо\"?\n",
            "Сколько лет правила Екатерина II Российской империей.\n",
            "Чем занимается сомнолог?\n",
            "угадайте какое радио я люблю\n",
            "Под чем обычно лежит заяц?\n",
            "Три кусочека «чего-то» у меня лежали, ну а - где?\n",
            "В каком году умер актер пол уокер\n",
            "В каком  году сборная СССР по футболу стала Чемпионом Европы\n",
            "В 1999 году музыканты из Ростова-на-Дону создали в Москве группу ... барабанщики. Писали песни с элементами джаза.\n",
            "Как зовут главного героя в сериале Шерлок\n",
            "В какого числа родился Иван Яковлевич Яковлев?\n",
            "Что из перечисленного является восточной пряностью?\n",
            "Как назывался город, который находился на месте Рыбинского водохранилища в Я рославской области?\n",
            "У какой породы кошек самые короткие лапы?\n",
            "Кто является рекордсменом по забитвм мячам в одном сезоне в Английской премьер лиге?\n",
            "Сколько игр Клевер уже было проведено?\n",
            "Сколько звёзд на флаге США?\n",
            "Как зовут героя татарских и башкирских сказок, щекочущего людей до смерти?\n",
            "Кто отменил крепостное право?\n",
            "Какая битва была в 1812 году\n",
            "Кто забил победный гол  в финале Чемпионата Мира по футболу 2014 ?\n",
            "Кто из футболистов утверждал, что «играть надо ногами, а думать – головой»\n",
            "Чем чаще всего пользуемся в школе\n",
            "Какое млекопитающее самое маленькое в мире?\n",
            "Как называется некроз тканей, соприкасаемых с внешней средой?\n",
            "Кто из американских президентов находился в должности самое непродолжительное время, умерев через месяц после принесения присяги?\n",
            "Сколько углов у казахской юрты?\n",
            "Сколько лет шёл  сериал «Санта-Барбара»?\n",
            "Кто их персонажей появлялся в кино чаще?\n"
          ]
        }
      ]
    },
    {
      "cell_type": "code",
      "metadata": {
        "id": "cAhO7zQrR22h"
      },
      "source": [
        "train['Question_01'] = train['Question'].str.replace('\"', \"\")\n",
        "train['Question_01'] = train['Question_01'].str.replace('…', \"\")\n",
        "\n",
        "signs = ['?', ',', ':', '!', '.', ';', '«', '»', '(', ')', '*', '+', '-', '^', '|', '=', \"’\", \"‘\",  '”', '—']\n",
        "for punct_sign in signs:\n",
        "    train['Question_01'] = train['Question_01'].str.replace(punct_sign, ' ')\n",
        "\n",
        "train['Question_01'] = train['Question_01'].str.replace(\"'\", \" \")\n",
        "train['Question_01'] = train['Question_01'].str.replace(\"/\", \" \")\n",
        "\n",
        "train['Question_01'] = train['Question_01'].str.replace('  ', \" \")\n",
        "train['Question_01'] = train['Question_01'].str.replace('  ', \" \")"
      ],
      "execution_count": 106,
      "outputs": []
    },
    {
      "cell_type": "code",
      "metadata": {
        "id": "Eb2g4Dkf1bNa"
      },
      "source": [
        "train['Question_01'] = train['Question_01'].str.lower()"
      ],
      "execution_count": 107,
      "outputs": []
    },
    {
      "cell_type": "code",
      "metadata": {
        "colab": {
          "base_uri": "https://localhost:8080/",
          "height": 203
        },
        "id": "mD2fwTQj1Ufm",
        "outputId": "88f76754-8f28-47b2-b507-2cae3f3afd1f"
      },
      "source": [
        "train.head()"
      ],
      "execution_count": 108,
      "outputs": [
        {
          "output_type": "execute_result",
          "data": {
            "text/html": [
              "<div>\n",
              "<style scoped>\n",
              "    .dataframe tbody tr th:only-of-type {\n",
              "        vertical-align: middle;\n",
              "    }\n",
              "\n",
              "    .dataframe tbody tr th {\n",
              "        vertical-align: top;\n",
              "    }\n",
              "\n",
              "    .dataframe thead th {\n",
              "        text-align: right;\n",
              "    }\n",
              "</style>\n",
              "<table border=\"1\" class=\"dataframe\">\n",
              "  <thead>\n",
              "    <tr style=\"text-align: right;\">\n",
              "      <th></th>\n",
              "      <th>ID</th>\n",
              "      <th>Answer</th>\n",
              "      <th>Question</th>\n",
              "      <th>Question_01</th>\n",
              "    </tr>\n",
              "  </thead>\n",
              "  <tbody>\n",
              "    <tr>\n",
              "      <th>0</th>\n",
              "      <td>16019</td>\n",
              "      <td>0</td>\n",
              "      <td>Крупнейшим производителем кукурузы является:</td>\n",
              "      <td>крупнейшим производителем кукурузы является</td>\n",
              "    </tr>\n",
              "    <tr>\n",
              "      <th>1</th>\n",
              "      <td>5121</td>\n",
              "      <td>0</td>\n",
              "      <td>Кто первый в РОССИЮ завёз картошку ?</td>\n",
              "      <td>кто первый в россию завёз картошку</td>\n",
              "    </tr>\n",
              "    <tr>\n",
              "      <th>2</th>\n",
              "      <td>17169</td>\n",
              "      <td>0</td>\n",
              "      <td>Кто из мореплавателей сделал первое кругосветн...</td>\n",
              "      <td>кто из мореплавателей сделал первое кругосветн...</td>\n",
              "    </tr>\n",
              "    <tr>\n",
              "      <th>3</th>\n",
              "      <td>15480</td>\n",
              "      <td>0</td>\n",
              "      <td>Как зовут героя серии романов Бариса Акунина?</td>\n",
              "      <td>как зовут героя серии романов бариса акунина</td>\n",
              "    </tr>\n",
              "    <tr>\n",
              "      <th>4</th>\n",
              "      <td>3312</td>\n",
              "      <td>0</td>\n",
              "      <td>Какая сборная выйграла чемпионат мира по футбо...</td>\n",
              "      <td>какая сборная выйграла чемпионат мира по футбо...</td>\n",
              "    </tr>\n",
              "  </tbody>\n",
              "</table>\n",
              "</div>"
            ],
            "text/plain": [
              "      ID  ...                                        Question_01\n",
              "0  16019  ...       крупнейшим производителем кукурузы является \n",
              "1   5121  ...                кто первый в россию завёз картошку \n",
              "2  17169  ...  кто из мореплавателей сделал первое кругосветн...\n",
              "3  15480  ...      как зовут героя серии романов бариса акунина \n",
              "4   3312  ...  какая сборная выйграла чемпионат мира по футбо...\n",
              "\n",
              "[5 rows x 4 columns]"
            ]
          },
          "metadata": {},
          "execution_count": 108
        }
      ]
    },
    {
      "cell_type": "code",
      "metadata": {
        "colab": {
          "base_uri": "https://localhost:8080/"
        },
        "id": "m47YRVEl42B1",
        "outputId": "2c032c4f-8d9a-45b7-de74-bd19cd802034"
      },
      "source": [
        "!pip install pymorphy2\n",
        "from pymorphy2 import MorphAnalyzer\n",
        "ma = MorphAnalyzer()"
      ],
      "execution_count": 84,
      "outputs": [
        {
          "output_type": "stream",
          "name": "stdout",
          "text": [
            "Requirement already satisfied: pymorphy2 in /usr/local/lib/python3.7/dist-packages (0.9.1)\n",
            "Requirement already satisfied: docopt>=0.6 in /usr/local/lib/python3.7/dist-packages (from pymorphy2) (0.6.2)\n",
            "Requirement already satisfied: pymorphy2-dicts-ru<3.0,>=2.4 in /usr/local/lib/python3.7/dist-packages (from pymorphy2) (2.4.417127.4579844)\n",
            "Requirement already satisfied: dawg-python>=0.7.1 in /usr/local/lib/python3.7/dist-packages (from pymorphy2) (0.7.2)\n"
          ]
        }
      ]
    },
    {
      "cell_type": "code",
      "metadata": {
        "id": "XkF49I434A-4"
      },
      "source": [
        "lemmatized_text = []\n",
        "for i in range(len(train)):\n",
        "    lemmatized_words = []\n",
        "\n",
        "    text_in_words = train.loc[i]['Question_01'].split(' ')\n",
        "\n",
        "    for word in text_in_words:\n",
        "        lemma = ma.parse(word)\n",
        "        lemmatized_words.append(lemma[0].normal_form)\n",
        "\n",
        "    text = \" \".join(lemmatized_words)\n",
        "    lemmatized_text.append(text)\n",
        "\n",
        "train['Question_02'] = lemmatized_text"
      ],
      "execution_count": 109,
      "outputs": []
    },
    {
      "cell_type": "code",
      "metadata": {
        "colab": {
          "base_uri": "https://localhost:8080/",
          "height": 203
        },
        "id": "3ucuairM32es",
        "outputId": "10bcb1d4-7e88-436d-a9b5-a58a784af9be"
      },
      "source": [
        "train.head()"
      ],
      "execution_count": 110,
      "outputs": [
        {
          "output_type": "execute_result",
          "data": {
            "text/html": [
              "<div>\n",
              "<style scoped>\n",
              "    .dataframe tbody tr th:only-of-type {\n",
              "        vertical-align: middle;\n",
              "    }\n",
              "\n",
              "    .dataframe tbody tr th {\n",
              "        vertical-align: top;\n",
              "    }\n",
              "\n",
              "    .dataframe thead th {\n",
              "        text-align: right;\n",
              "    }\n",
              "</style>\n",
              "<table border=\"1\" class=\"dataframe\">\n",
              "  <thead>\n",
              "    <tr style=\"text-align: right;\">\n",
              "      <th></th>\n",
              "      <th>ID</th>\n",
              "      <th>Answer</th>\n",
              "      <th>Question</th>\n",
              "      <th>Question_01</th>\n",
              "      <th>Question_02</th>\n",
              "    </tr>\n",
              "  </thead>\n",
              "  <tbody>\n",
              "    <tr>\n",
              "      <th>0</th>\n",
              "      <td>16019</td>\n",
              "      <td>0</td>\n",
              "      <td>Крупнейшим производителем кукурузы является:</td>\n",
              "      <td>крупнейшим производителем кукурузы является</td>\n",
              "      <td>крупный производитель кукуруза являться</td>\n",
              "    </tr>\n",
              "    <tr>\n",
              "      <th>1</th>\n",
              "      <td>5121</td>\n",
              "      <td>0</td>\n",
              "      <td>Кто первый в РОССИЮ завёз картошку ?</td>\n",
              "      <td>кто первый в россию завёз картошку</td>\n",
              "      <td>кто первый в россия завезти картошка</td>\n",
              "    </tr>\n",
              "    <tr>\n",
              "      <th>2</th>\n",
              "      <td>17169</td>\n",
              "      <td>0</td>\n",
              "      <td>Кто из мореплавателей сделал первое кругосветн...</td>\n",
              "      <td>кто из мореплавателей сделал первое кругосветн...</td>\n",
              "      <td>кто из мореплаватель сделать первый кругосветн...</td>\n",
              "    </tr>\n",
              "    <tr>\n",
              "      <th>3</th>\n",
              "      <td>15480</td>\n",
              "      <td>0</td>\n",
              "      <td>Как зовут героя серии романов Бариса Акунина?</td>\n",
              "      <td>как зовут героя серии романов бариса акунина</td>\n",
              "      <td>как звать герой серия роман барис акунин</td>\n",
              "    </tr>\n",
              "    <tr>\n",
              "      <th>4</th>\n",
              "      <td>3312</td>\n",
              "      <td>0</td>\n",
              "      <td>Какая сборная выйграла чемпионат мира по футбо...</td>\n",
              "      <td>какая сборная выйграла чемпионат мира по футбо...</td>\n",
              "      <td>какой сборная выйграло чемпионат мир по футбол...</td>\n",
              "    </tr>\n",
              "  </tbody>\n",
              "</table>\n",
              "</div>"
            ],
            "text/plain": [
              "      ID  ...                                        Question_02\n",
              "0  16019  ...           крупный производитель кукуруза являться \n",
              "1   5121  ...              кто первый в россия завезти картошка \n",
              "2  17169  ...  кто из мореплаватель сделать первый кругосветн...\n",
              "3  15480  ...          как звать герой серия роман барис акунин \n",
              "4   3312  ...  какой сборная выйграло чемпионат мир по футбол...\n",
              "\n",
              "[5 rows x 5 columns]"
            ]
          },
          "metadata": {},
          "execution_count": 110
        }
      ]
    },
    {
      "cell_type": "code",
      "metadata": {
        "colab": {
          "base_uri": "https://localhost:8080/"
        },
        "id": "eC7CXwQ2s7XB",
        "outputId": "75a59c49-85a6-47bf-ef79-2dfa476b3f6a"
      },
      "source": [
        "import nltk\n",
        "from nltk.corpus import stopwords\n",
        "\n",
        "nltk.download(\"stopwords\")\n",
        "russian_stopwords = stopwords.words(\"russian\")\n",
        "\n",
        "for stop_word in russian_stopwords:\n",
        "    stopword = r\"\\b\" + stop_word + r\"\\b\"\n",
        "    train['Question_02'] = train['Question_02'].str.replace(stopword, '')"
      ],
      "execution_count": 111,
      "outputs": [
        {
          "output_type": "stream",
          "name": "stdout",
          "text": [
            "[nltk_data] Downloading package stopwords to /root/nltk_data...\n",
            "[nltk_data]   Package stopwords is already up-to-date!\n"
          ]
        }
      ]
    },
    {
      "cell_type": "code",
      "metadata": {
        "colab": {
          "base_uri": "https://localhost:8080/",
          "height": 203
        },
        "id": "t_s6V2356xrw",
        "outputId": "b1639712-babe-4e88-8817-529a8355654b"
      },
      "source": [
        "train.head()"
      ],
      "execution_count": 112,
      "outputs": [
        {
          "output_type": "execute_result",
          "data": {
            "text/html": [
              "<div>\n",
              "<style scoped>\n",
              "    .dataframe tbody tr th:only-of-type {\n",
              "        vertical-align: middle;\n",
              "    }\n",
              "\n",
              "    .dataframe tbody tr th {\n",
              "        vertical-align: top;\n",
              "    }\n",
              "\n",
              "    .dataframe thead th {\n",
              "        text-align: right;\n",
              "    }\n",
              "</style>\n",
              "<table border=\"1\" class=\"dataframe\">\n",
              "  <thead>\n",
              "    <tr style=\"text-align: right;\">\n",
              "      <th></th>\n",
              "      <th>ID</th>\n",
              "      <th>Answer</th>\n",
              "      <th>Question</th>\n",
              "      <th>Question_01</th>\n",
              "      <th>Question_02</th>\n",
              "    </tr>\n",
              "  </thead>\n",
              "  <tbody>\n",
              "    <tr>\n",
              "      <th>0</th>\n",
              "      <td>16019</td>\n",
              "      <td>0</td>\n",
              "      <td>Крупнейшим производителем кукурузы является:</td>\n",
              "      <td>крупнейшим производителем кукурузы является</td>\n",
              "      <td>крупный производитель кукуруза являться</td>\n",
              "    </tr>\n",
              "    <tr>\n",
              "      <th>1</th>\n",
              "      <td>5121</td>\n",
              "      <td>0</td>\n",
              "      <td>Кто первый в РОССИЮ завёз картошку ?</td>\n",
              "      <td>кто первый в россию завёз картошку</td>\n",
              "      <td>первый  россия завезти картошка</td>\n",
              "    </tr>\n",
              "    <tr>\n",
              "      <th>2</th>\n",
              "      <td>17169</td>\n",
              "      <td>0</td>\n",
              "      <td>Кто из мореплавателей сделал первое кругосветн...</td>\n",
              "      <td>кто из мореплавателей сделал первое кругосветн...</td>\n",
              "      <td>мореплаватель сделать первый кругосветный пу...</td>\n",
              "    </tr>\n",
              "    <tr>\n",
              "      <th>3</th>\n",
              "      <td>15480</td>\n",
              "      <td>0</td>\n",
              "      <td>Как зовут героя серии романов Бариса Акунина?</td>\n",
              "      <td>как зовут героя серии романов бариса акунина</td>\n",
              "      <td>звать герой серия роман барис акунин</td>\n",
              "    </tr>\n",
              "    <tr>\n",
              "      <th>4</th>\n",
              "      <td>3312</td>\n",
              "      <td>0</td>\n",
              "      <td>Какая сборная выйграла чемпионат мира по футбо...</td>\n",
              "      <td>какая сборная выйграла чемпионат мира по футбо...</td>\n",
              "      <td>сборная выйграло чемпионат мир  футбол  2006 ...</td>\n",
              "    </tr>\n",
              "  </tbody>\n",
              "</table>\n",
              "</div>"
            ],
            "text/plain": [
              "      ID  ...                                        Question_02\n",
              "0  16019  ...           крупный производитель кукуруза являться \n",
              "1   5121  ...                   первый  россия завезти картошка \n",
              "2  17169  ...    мореплаватель сделать первый кругосветный пу...\n",
              "3  15480  ...              звать герой серия роман барис акунин \n",
              "4   3312  ...   сборная выйграло чемпионат мир  футбол  2006 ...\n",
              "\n",
              "[5 rows x 5 columns]"
            ]
          },
          "metadata": {},
          "execution_count": 112
        }
      ]
    },
    {
      "cell_type": "code",
      "metadata": {
        "id": "c1xd89MP67PC"
      },
      "source": [
        "from sklearn.model_selection import train_test_split\n",
        "\n",
        "X_train, X_test, y_train, y_test = train_test_split(train['Question_02'], train['Answer'], test_size = 0.2, random_state = 42)"
      ],
      "execution_count": 113,
      "outputs": []
    },
    {
      "cell_type": "code",
      "metadata": {
        "id": "IoDVGqfHE3Or"
      },
      "source": [
        "from sklearn.feature_extraction.text import CountVectorizer\n",
        "cv = CountVectorizer()"
      ],
      "execution_count": 39,
      "outputs": []
    },
    {
      "cell_type": "code",
      "metadata": {
        "id": "gL_i9vjUF562"
      },
      "source": [
        "X_train_cv = cv.fit_transform(X_train)\n",
        "X_test_cv = cv.transform(X_test)"
      ],
      "execution_count": 114,
      "outputs": []
    },
    {
      "cell_type": "code",
      "metadata": {
        "id": "H_aZH2A_G5F0"
      },
      "source": [
        "from sklearn.linear_model import LogisticRegression\n",
        "from sklearn.tree import DecisionTreeClassifier\n",
        "from sklearn.svm import SVC\n",
        "from sklearn.neighbors import  KNeighborsClassifier\n",
        "from sklearn.ensemble import RandomForestClassifier\n",
        "\n",
        "from sklearn.metrics import classification_report"
      ],
      "execution_count": 62,
      "outputs": []
    },
    {
      "cell_type": "code",
      "metadata": {
        "id": "fk5LTR_RHVnJ"
      },
      "source": [
        "from sklearn.pipeline import Pipeline"
      ],
      "execution_count": 49,
      "outputs": []
    },
    {
      "cell_type": "code",
      "metadata": {
        "colab": {
          "base_uri": "https://localhost:8080/"
        },
        "id": "By7DLwoVIXi7",
        "outputId": "9e4f193b-005d-4001-c41d-4723492e602e"
      },
      "source": [
        "# LogisticRegression\n",
        "p_log = Pipeline([('classifier', LogisticRegression())])\n",
        "p_log.fit(X_train_cv, y_train)\n",
        "p_log_predict = p_log.predict(X_test_cv)\n",
        "\n",
        "print(classification_report(y_test,p_log_predict))"
      ],
      "execution_count": 115,
      "outputs": [
        {
          "output_type": "stream",
          "name": "stdout",
          "text": [
            "              precision    recall  f1-score   support\n",
            "\n",
            "           0       0.75      0.91      0.82      1150\n",
            "           1       0.38      0.15      0.22       409\n",
            "\n",
            "    accuracy                           0.71      1559\n",
            "   macro avg       0.57      0.53      0.52      1559\n",
            "weighted avg       0.65      0.71      0.66      1559\n",
            "\n"
          ]
        }
      ]
    },
    {
      "cell_type": "code",
      "metadata": {
        "colab": {
          "base_uri": "https://localhost:8080/"
        },
        "id": "ytxoNomuKT4M",
        "outputId": "26683953-8918-472b-81e4-88c1846b9c0a"
      },
      "source": [
        "# DecisionTreeClassifier\n",
        "p_tree = Pipeline([('classifier', DecisionTreeClassifier())])\n",
        "p_tree.fit(X_train_cv, y_train)\n",
        "p_tree_predict = p_tree.predict(X_test_cv)\n",
        "\n",
        "print(classification_report(y_test,p_tree_predict))"
      ],
      "execution_count": 116,
      "outputs": [
        {
          "output_type": "stream",
          "name": "stdout",
          "text": [
            "              precision    recall  f1-score   support\n",
            "\n",
            "           0       0.75      0.84      0.79      1150\n",
            "           1       0.34      0.23      0.28       409\n",
            "\n",
            "    accuracy                           0.68      1559\n",
            "   macro avg       0.55      0.54      0.53      1559\n",
            "weighted avg       0.65      0.68      0.66      1559\n",
            "\n"
          ]
        }
      ]
    },
    {
      "cell_type": "code",
      "metadata": {
        "colab": {
          "base_uri": "https://localhost:8080/"
        },
        "id": "p1QukIVpKiaF",
        "outputId": "460878ef-4158-4470-a92a-f277385f753b"
      },
      "source": [
        "# SVC\n",
        "p_svc = Pipeline([('classifier', SVC())])\n",
        "p_svc.fit(X_train_cv, y_train)\n",
        "p_svc_predict = p_svc.predict(X_test_cv)\n",
        "\n",
        "print(classification_report(y_test,p_svc_predict))"
      ],
      "execution_count": 117,
      "outputs": [
        {
          "output_type": "stream",
          "name": "stdout",
          "text": [
            "              precision    recall  f1-score   support\n",
            "\n",
            "           0       0.74      0.97      0.84      1150\n",
            "           1       0.37      0.04      0.07       409\n",
            "\n",
            "    accuracy                           0.73      1559\n",
            "   macro avg       0.56      0.51      0.46      1559\n",
            "weighted avg       0.64      0.73      0.64      1559\n",
            "\n"
          ]
        }
      ]
    },
    {
      "cell_type": "code",
      "metadata": {
        "colab": {
          "base_uri": "https://localhost:8080/"
        },
        "id": "wrADS63EKj2H",
        "outputId": "5d3170e8-bed5-4cd5-eac2-650ea9ae35c4"
      },
      "source": [
        "# KNeighborsClassifier\n",
        "p_knn = Pipeline([('classifier', KNeighborsClassifier())])\n",
        "p_knn.fit(X_train_cv, y_train)\n",
        "p_knn_predict = p_knn.predict(X_test_cv)\n",
        "\n",
        "print(classification_report(y_test,p_knn_predict))"
      ],
      "execution_count": 118,
      "outputs": [
        {
          "output_type": "stream",
          "name": "stdout",
          "text": [
            "              precision    recall  f1-score   support\n",
            "\n",
            "           0       0.74      0.97      0.84      1150\n",
            "           1       0.40      0.07      0.11       409\n",
            "\n",
            "    accuracy                           0.73      1559\n",
            "   macro avg       0.57      0.52      0.48      1559\n",
            "weighted avg       0.65      0.73      0.65      1559\n",
            "\n"
          ]
        }
      ]
    },
    {
      "cell_type": "code",
      "metadata": {
        "colab": {
          "base_uri": "https://localhost:8080/"
        },
        "id": "gvTucV0FKkRu",
        "outputId": "6d94a1b3-4a2d-4e67-a1a0-e58d3067d5bf"
      },
      "source": [
        "# RandomForestClassifier\n",
        "p_rf = Pipeline([('classifier', RandomForestClassifier())])\n",
        "p_rf.fit(X_train_cv, y_train)\n",
        "p_rf_predict = p_rf.predict(X_test_cv)\n",
        "\n",
        "print(classification_report(y_test,p_rf_predict))"
      ],
      "execution_count": 119,
      "outputs": [
        {
          "output_type": "stream",
          "name": "stdout",
          "text": [
            "              precision    recall  f1-score   support\n",
            "\n",
            "           0       0.74      0.93      0.82      1150\n",
            "           1       0.33      0.10      0.16       409\n",
            "\n",
            "    accuracy                           0.71      1559\n",
            "   macro avg       0.54      0.51      0.49      1559\n",
            "weighted avg       0.64      0.71      0.65      1559\n",
            "\n"
          ]
        }
      ]
    },
    {
      "cell_type": "code",
      "metadata": {
        "id": "CFAMz8LOLoiO"
      },
      "source": [
        "# Лучшие результаты относительно всех оценок показала DecisionTreeClassifier"
      ],
      "execution_count": 121,
      "outputs": []
    }
  ]
}